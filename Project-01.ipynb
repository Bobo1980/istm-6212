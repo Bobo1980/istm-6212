{
 "cells": [
  {
   "cell_type": "markdown",
   "metadata": {},
   "source": [
    "Problem 1 - Word counts "
   ]
  },
  {
   "cell_type": "markdown",
   "metadata": {
    "collapsed": true
   },
   "source": [
    "Part A. Characters in Little Women"
   ]
  },
  {
   "cell_type": "markdown",
   "metadata": {},
   "source": [
    "Get the women textfile."
   ]
  },
  {
   "cell_type": "code",
   "execution_count": 1,
   "metadata": {
    "collapsed": false
   },
   "outputs": [
    {
     "name": "stdout",
     "output_type": "stream",
     "text": [
      "--2016-09-19 16:30:02--  https://raw.githubusercontent.com/gwsb-istm-6212-fall-2016/syllabus-and-schedule/master/projects/project-01/women.txt\n",
      "Resolving raw.githubusercontent.com (raw.githubusercontent.com)... 151.101.20.133\n",
      "Connecting to raw.githubusercontent.com (raw.githubusercontent.com)|151.101.20.133|:443... connected.\n",
      "HTTP request sent, awaiting response... 200 OK\n",
      "Length: 1053440 (1.0M) [text/plain]\n",
      "Saving to: ‘women.txt’\n",
      "\n",
      "women.txt           100%[=====================>]   1.00M  --.-KB/s   in 0.08s  \n",
      "\n",
      "2016-09-19 16:30:03 (12.6 MB/s) - ‘women.txt’ saved [1053440/1053440]\n",
      "\n"
     ]
    }
   ],
   "source": [
    "!wget https://raw.githubusercontent.com/gwsb-istm-6212-fall-2016/syllabus-and-schedule/master/projects/project-01/women.txt"
   ]
  },
  {
   "cell_type": "markdown",
   "metadata": {
    "collapsed": false
   },
   "source": [
    "Searched for the four names that we are interested in finding. -w excludes matches that contain the searched keywords.\n",
    "-i includes matches that are of different cases. If we were to find exact matches the first four entries would suffice. Assuming that we all the findings to be all inclusive, -i enables findings of the last four matches. "
   ]
  },
  {
   "cell_type": "code",
   "execution_count": 2,
   "metadata": {
    "collapsed": false
   },
   "outputs": [
    {
     "name": "stdout",
     "output_type": "stream",
     "text": [
      "   1355 Jo\r\n",
      "    683 Meg\r\n",
      "    645 Amy\r\n",
      "    459 Beth\r\n",
      "      8 BETH\r\n",
      "      7 JO\r\n",
      "      7 AMY\r\n",
      "      3 MEG\r\n"
     ]
    }
   ],
   "source": [
    "!cat women.txt | grep -oE '\\w{{2,}}' | sort | uniq -c |sort -rn | grep -w -i \"Jo\\|Meg\\|Beth\\|Amy\"\n",
    "#Searching for words that matches the desired names, in any case."
   ]
  },
  {
   "cell_type": "markdown",
   "metadata": {},
   "source": [
    "Part B. Counting the speaking lines of Juliet and Romeo in Romeo and Juliet"
   ]
  },
  {
   "cell_type": "code",
   "execution_count": 3,
   "metadata": {
    "collapsed": false
   },
   "outputs": [
    {
     "name": "stdout",
     "output_type": "stream",
     "text": [
      "--2016-09-19 16:30:04--  https://raw.githubusercontent.com/gwsb-istm-6212-fall-2016/syllabus-and-schedule/master/projects/project-01/romeo.txt\n",
      "Resolving raw.githubusercontent.com (raw.githubusercontent.com)... 151.101.20.133\n",
      "Connecting to raw.githubusercontent.com (raw.githubusercontent.com)|151.101.20.133|:443... connected.\n",
      "HTTP request sent, awaiting response... 200 OK\n",
      "Length: 178983 (175K) [text/plain]\n",
      "Saving to: ‘romeo.txt’\n",
      "\n",
      "romeo.txt           100%[=====================>] 174.79K  --.-KB/s   in 0.02s  \n",
      "\n",
      "2016-09-19 16:30:04 (7.69 MB/s) - ‘romeo.txt’ saved [178983/178983]\n",
      "\n"
     ]
    }
   ],
   "source": [
    "!wget https://raw.githubusercontent.com/gwsb-istm-6212-fall-2016/syllabus-and-schedule/master/projects/project-01/romeo.txt"
   ]
  },
  {
   "cell_type": "markdown",
   "metadata": {
    "collapsed": false
   },
   "source": [
    "Grep puts each word on its own line. Sort, finding and keeping unique values and sort again in reverse orders then look for speaking lines that match \"Rom.\" or \"Jul.\""
   ]
  },
  {
   "cell_type": "code",
   "execution_count": 4,
   "metadata": {
    "collapsed": false
   },
   "outputs": [
    {
     "name": "stdout",
     "output_type": "stream",
     "text": [
      "    163 Rom\r\n",
      "    117 Jul\r\n"
     ]
    }
   ],
   "source": [
    "!cat romeo.txt | grep -oE '\\w{{2,}}' | sort | uniq -c |sort -rn |grep -w \"Rom\\|Jul\"\n",
    "#Searching for speaking lines of Romeo and Juliet."
   ]
  },
  {
   "cell_type": "markdown",
   "metadata": {},
   "source": [
    "Problem 2 - Capital Bikeshare (40 points)"
   ]
  },
  {
   "cell_type": "markdown",
   "metadata": {},
   "source": [
    "Part A "
   ]
  },
  {
   "cell_type": "markdown",
   "metadata": {},
   "source": [
    "Get the zip file, unzip, then shorten the name to q1.csv."
   ]
  },
  {
   "cell_type": "code",
   "execution_count": 5,
   "metadata": {
    "collapsed": false
   },
   "outputs": [
    {
     "name": "stdout",
     "output_type": "stream",
     "text": [
      "--2016-09-19 16:30:04--  https://raw.githubusercontent.com/gwsb-istm-6212-fall-2016/syllabus-and-schedule/master/projects/project-01/2016q1.csv.zip\n",
      "Resolving raw.githubusercontent.com (raw.githubusercontent.com)... 151.101.20.133\n",
      "Connecting to raw.githubusercontent.com (raw.githubusercontent.com)|151.101.20.133|:443... connected.\n",
      "HTTP request sent, awaiting response... 200 OK\n",
      "Length: 10643003 (10M) [application/octet-stream]\n",
      "Saving to: ‘2016q1.csv.zip’\n",
      "\n",
      "2016q1.csv.zip      100%[=====================>]  10.15M  17.5MB/s   in 0.6s   \n",
      "\n",
      "2016-09-19 16:30:05 (17.5 MB/s) - ‘2016q1.csv.zip’ saved [10643003/10643003]\n",
      "\n"
     ]
    }
   ],
   "source": [
    "!wget https://raw.githubusercontent.com/gwsb-istm-6212-fall-2016/syllabus-and-schedule/master/projects/project-01/2016q1.csv.zip"
   ]
  },
  {
   "cell_type": "code",
   "execution_count": 6,
   "metadata": {
    "collapsed": false
   },
   "outputs": [
    {
     "name": "stdout",
     "output_type": "stream",
     "text": [
      "Archive:  2016q1.csv.zip\n",
      "  inflating: 2016q1.csv              \n"
     ]
    }
   ],
   "source": [
    "!unzip 2016q1.csv.zip"
   ]
  },
  {
   "cell_type": "code",
   "execution_count": 7,
   "metadata": {
    "collapsed": false
   },
   "outputs": [],
   "source": [
    "!mv 2016q1.csv q1.csv\n",
    "#Renaming the original file to a shorter name"
   ]
  },
  {
   "cell_type": "markdown",
   "metadata": {},
   "source": [
    "Visually examine the first few lines of the csv file. "
   ]
  },
  {
   "cell_type": "code",
   "execution_count": 8,
   "metadata": {
    "collapsed": false
   },
   "outputs": [
    {
     "name": "stdout",
     "output_type": "stream",
     "text": [
      "Duration (ms),Start date,End date,Start station number,Start station,End station number,End station,Bike number,Member Type\r",
      "\r\n",
      "301295,3/31/2016 23:59,4/1/2016 0:04,31280,11th & S St NW,31506,1st & Rhode Island Ave NW,W00022,Registered\r",
      "\r\n",
      "557887,3/31/2016 23:59,4/1/2016 0:08,31275,New Hampshire Ave & 24th St NW,31114,18th St & Wyoming Ave NW,W01294,Registered\r",
      "\r\n",
      "555944,3/31/2016 23:59,4/1/2016 0:08,31101,14th & V St NW,31221,18th & M St NW,W01416,Registered\r",
      "\r\n",
      "766916,3/31/2016 23:57,4/1/2016 0:09,31226,34th St & Wisconsin Ave NW,31214,17th & Corcoran St NW,W01090,Registered\r",
      "\r\n",
      "139656,3/31/2016 23:57,3/31/2016 23:59,31011,23rd & Crystal Dr,31009,27th & Crystal Dr,W21934,Registered\r",
      "\r\n",
      "967713,3/31/2016 23:57,4/1/2016 0:13,31266,11th & M St NW,31600,5th & K St NW,W20562,Casual\r",
      "\r\n",
      "534836,3/31/2016 23:57,4/1/2016 0:06,31222,New York Ave & 15th St NW,31278,18th & R St NW,W20222,Registered\r",
      "\r\n",
      "243864,3/31/2016 23:56,4/1/2016 0:00,31228,8th & H St NW,31600,5th & K St NW,W20291,Registered\r",
      "\r\n",
      "372524,3/31/2016 23:55,4/1/2016 0:01,31113,Columbia Rd & Belmont St NW,31234,20th & O St NW / Dupont South,W20590,Registered\r",
      "\r\n"
     ]
    }
   ],
   "source": [
    "!head q1.csv"
   ]
  },
  {
   "cell_type": "markdown",
   "metadata": {},
   "source": [
    "Examine column names of the csv file."
   ]
  },
  {
   "cell_type": "code",
   "execution_count": 9,
   "metadata": {
    "collapsed": false
   },
   "outputs": [
    {
     "name": "stdout",
     "output_type": "stream",
     "text": [
      "  1: Duration (ms)\r\n",
      "  2: Start date\r\n",
      "  3: End date\r\n",
      "  4: Start station number\r\n",
      "  5: Start station\r\n",
      "  6: End station number\r\n",
      "  7: End station\r\n",
      "  8: Bike number\r\n",
      "  9: Member Type\r\n"
     ]
    }
   ],
   "source": [
    "!csvcut -n q1.csv\n",
    "#Getting all the column names"
   ]
  },
  {
   "cell_type": "markdown",
   "metadata": {},
   "source": [
    "Choose the start station, end station, and bike number columns from the csv file and csvlook for formatting."
   ]
  },
  {
   "cell_type": "code",
   "execution_count": 10,
   "metadata": {
    "collapsed": false
   },
   "outputs": [
    {
     "name": "stdout",
     "output_type": "stream",
     "text": [
      "|---------------------------------+-------------------------------+--------------|\r\n",
      "|  Start station                  | End station                   | Bike number  |\r\n",
      "|---------------------------------+-------------------------------+--------------|\r\n",
      "|  11th & S St NW                 | 1st & Rhode Island Ave NW     | W00022       |\r\n",
      "|  New Hampshire Ave & 24th St NW | 18th St & Wyoming Ave NW      | W01294       |\r\n",
      "|  14th & V St NW                 | 18th & M St NW                | W01416       |\r\n",
      "|  34th St & Wisconsin Ave NW     | 17th & Corcoran St NW         | W01090       |\r\n",
      "|  23rd & Crystal Dr              | 27th & Crystal Dr             | W21934       |\r\n",
      "|  11th & M St NW                 | 5th & K St NW                 | W20562       |\r\n",
      "|  New York Ave & 15th St NW      | 18th & R St NW                | W20222       |\r\n",
      "|  8th & H St NW                  | 5th & K St NW                 | W20291       |\r\n",
      "|  Columbia Rd & Belmont St NW    | 20th & O St NW / Dupont South | W20590       |\r\n",
      "|---------------------------------+-------------------------------+--------------|\r\n"
     ]
    }
   ],
   "source": [
    "!csvcut -c5,7,8 q1.csv | head -10| csvlook\n",
    "# subsetting original csv file with desired columns and outlook for a visual examination"
   ]
  },
  {
   "cell_type": "markdown",
   "metadata": {},
   "source": [
    "Sort column 5, start station, of the original csv file, sort, keeping unique values, sort in reverse order then view the first 10 entires. The result is the top 10 most frequent start station."
   ]
  },
  {
   "cell_type": "code",
   "execution_count": 11,
   "metadata": {
    "collapsed": false
   },
   "outputs": [
    {
     "name": "stdout",
     "output_type": "stream",
     "text": [
      "  13120 Columbus Circle / Union Station\r\n",
      "   9560 Massachusetts Ave & Dupont Circle NW\r\n",
      "   9388 Lincoln Memorial\r\n",
      "   8138 Jefferson Dr & 14th St SW\r\n",
      "   7479 Thomas Circle\r\n",
      "   7401 15th & P St NW\r\n",
      "   6568 14th & V St NW\r\n",
      "   6491 New Hampshire Ave & T St NW\r\n",
      "   5649 Eastern Market Metro / Pennsylvania Ave & 7th St SE\r\n",
      "   5514 17th & Corcoran St NW\r\n",
      "sort: write failed: standard output: Broken pipe\r\n",
      "sort: write error\r\n"
     ]
    }
   ],
   "source": [
    "!csvcut -c5 q1.csv | sort | uniq -c  | sort -rn |  head -10\n",
    "# Top 10 start station"
   ]
  },
  {
   "cell_type": "markdown",
   "metadata": {},
   "source": [
    "Same as above, finding the top 10 most frequent end stations. "
   ]
  },
  {
   "cell_type": "code",
   "execution_count": 12,
   "metadata": {
    "collapsed": false
   },
   "outputs": [
    {
     "name": "stdout",
     "output_type": "stream",
     "text": [
      "  13880 Columbus Circle / Union Station\r\n",
      "  11183 Massachusetts Ave & Dupont Circle NW\r\n",
      "   9419 Lincoln Memorial\r\n",
      "   8975 Jefferson Dr & 14th St SW\r\n",
      "   8092 15th & P St NW\r\n",
      "   7267 14th & V St NW\r\n",
      "   6997 Thomas Circle\r\n",
      "   6245 New Hampshire Ave & T St NW\r\n",
      "   5761 5th & K St NW\r\n",
      "   5651 17th & Corcoran St NW\r\n"
     ]
    }
   ],
   "source": [
    "!csvcut -c7 q1.csv | sort | uniq -c  | sort -rn |  head -10\n",
    "# Top 10 end station"
   ]
  },
  {
   "cell_type": "markdown",
   "metadata": {
    "collapsed": false
   },
   "source": [
    "Part B Finding the 10 most used bikes for the most popular departure/end stations."
   ]
  },
  {
   "cell_type": "markdown",
   "metadata": {},
   "source": [
    "Since the top start and end stations are the same, here Columbus Circle / Union Station is used to get the top 10 count of the most popular bikes. \n",
    "  "
   ]
  },
  {
   "cell_type": "code",
   "execution_count": 13,
   "metadata": {
    "collapsed": false
   },
   "outputs": [
    {
     "name": "stdout",
     "output_type": "stream",
     "text": [
      "     17 W22227\r\n",
      "     16 W21867\r\n",
      "     16 W21641\r\n",
      "     16 W21538\r\n",
      "     16 W21239\r\n",
      "     16 W20540\r\n",
      "     16 W00714\r\n",
      "     15 W22080\r\n",
      "     15 W21450\r\n",
      "     15 W21076\r\n",
      "sort: write failed: standard output: Broken pipe\r\n",
      "sort: write error\r\n"
     ]
    }
   ],
   "source": [
    "!csvgrep -c5 -r \"Columbus Circle / Union Station\" q1.csv | csvcut -c8 | sort | uniq -c | sort -rn | head -10\n",
    "# Finding the top 10 popular bikes for the most popular start station"
   ]
  },
  {
   "cell_type": "code",
   "execution_count": 14,
   "metadata": {
    "collapsed": false
   },
   "outputs": [
    {
     "name": "stdout",
     "output_type": "stream",
     "text": [
      "     18 W00485\r\n",
      "     17 W22227\r\n",
      "     16 W22099\r\n",
      "     16 W22080\r\n",
      "     16 W21239\r\n",
      "     16 W21076\r\n",
      "     16 W20425\r\n",
      "     16 W00714\r\n",
      "     15 W21997\r\n",
      "     15 W21867\r\n",
      "sort: write failed: standard output: Broken pipe\r\n",
      "sort: write error\r\n"
     ]
    }
   ],
   "source": [
    "!csvgrep -c7 -r \"Columbus Circle / Union Station\" q1.csv | csvcut -c8 | sort | uniq -c | sort -rn | head -10\n",
    "# Finding the top 10 popular bikes for the most popular end station"
   ]
  },
  {
   "cell_type": "markdown",
   "metadata": {},
   "source": [
    "Problem 3"
   ]
  },
  {
   "cell_type": "markdown",
   "metadata": {},
   "source": [
    "Part A"
   ]
  },
  {
   "cell_type": "markdown",
   "metadata": {},
   "source": [
    "A Python ﬁlter than replaces grep -oE '\\w{2,}' to split lines of text into one word per line, "
   ]
  },
  {
   "cell_type": "code",
   "execution_count": 15,
   "metadata": {
    "collapsed": false
   },
   "outputs": [
    {
     "name": "stdout",
     "output_type": "stream",
     "text": [
      "   8155 and\r\n",
      "   7689 the\r\n",
      "   5152 to\r\n",
      "   3523 of\r\n",
      "   3245 her\r\n",
      "   2774 it\r\n",
      "   2503 in\r\n",
      "   2447 you\r\n",
      "   2343 she\r\n",
      "   2233 for\r\n",
      "sort: write failed: standard output: Broken pipe\r\n",
      "sort: write error\r\n"
     ]
    }
   ],
   "source": [
    "!grep -oE '\\w{{2,}}' women.txt | tr '[:upper:]' '[:lower:]' | sort | uniq -c | sort -rn | head -10"
   ]
  },
  {
   "cell_type": "code",
   "execution_count": 16,
   "metadata": {
    "collapsed": false
   },
   "outputs": [],
   "source": [
    "!chmod +x Split.py"
   ]
  },
  {
   "cell_type": "code",
   "execution_count": 17,
   "metadata": {
    "collapsed": false
   },
   "outputs": [
    {
     "name": "stdout",
     "output_type": "stream",
     "text": [
      "The\r\n",
      "Project\r\n",
      "Gutenberg\r\n",
      "EBook\r\n",
      "of\r\n",
      "Little\r\n",
      "Women\r\n",
      "by\r\n",
      "Louisa\r\n",
      "May\r\n",
      "Traceback (most recent call last):\r\n",
      "  File \"./Split.py\", line 12, in <module>\r\n",
      "    print(word)\r\n",
      "BrokenPipeError: [Errno 32] Broken pipe\r\n",
      "cat: write error: Broken pipe\r\n"
     ]
    }
   ],
   "source": [
    "!cat women.txt| ./Split.py |head -10\n",
    "#Testing the split filter"
   ]
  },
  {
   "cell_type": "markdown",
   "metadata": {},
   "source": [
    " An additional Python ﬁlter to replace tr '[:upper:]' '[:lower:]' to transform text into lower case. "
   ]
  },
  {
   "cell_type": "code",
   "execution_count": 18,
   "metadata": {
    "collapsed": true
   },
   "outputs": [],
   "source": [
    "!chmod +x toLower.py"
   ]
  },
  {
   "cell_type": "code",
   "execution_count": 19,
   "metadata": {
    "collapsed": false
   },
   "outputs": [
    {
     "name": "stdout",
     "output_type": "stream",
     "text": [
      "﻿the\r\n",
      "project\r\n",
      "gutenberg\r\n",
      "ebook\r\n",
      "of\r\n",
      "little\r\n",
      "women,\r\n",
      "by\r\n",
      "louisa\r\n",
      "may\r\n",
      "Traceback (most recent call last):\r\n",
      "  File \"./toLower.py\", line 11, in <module>\r\n",
      "    print(word.lower())\r\n",
      "BrokenPipeError: [Errno 32] Broken pipe\r\n",
      "cat: write error: Broken pipe\r\n"
     ]
    }
   ],
   "source": [
    "!cat women.txt| ./toLower.py |head -10\n",
    "#Testing the case conversion filter"
   ]
  },
  {
   "cell_type": "code",
   "execution_count": 20,
   "metadata": {
    "collapsed": false
   },
   "outputs": [
    {
     "name": "stdout",
     "output_type": "stream",
     "text": [
      "   8155 and\r\n",
      "   7689 the\r\n",
      "   5152 to\r\n",
      "   3523 of\r\n",
      "   3245 her\r\n",
      "   2774 it\r\n",
      "   2503 in\r\n",
      "   2447 you\r\n",
      "   2343 she\r\n",
      "   2233 for\r\n",
      "sort: write failed: standard output: Broken pipe\r\n",
      "sort: write error\r\n"
     ]
    }
   ],
   "source": [
    "!./Split.py women.txt | ./toLower.py | sort | uniq -c | sort -rn | head -10\n",
    "# Combining two python filters to test whether the result is the same as using \"grep\" and \"tr\""
   ]
  },
  {
   "cell_type": "markdown",
   "metadata": {},
   "source": [
    "Part B - Remove the stopwords"
   ]
  },
  {
   "cell_type": "code",
   "execution_count": 21,
   "metadata": {
    "collapsed": true
   },
   "outputs": [],
   "source": [
    "!chmod +x removeStopwords.py"
   ]
  },
  {
   "cell_type": "code",
   "execution_count": 22,
   "metadata": {
    "collapsed": false
   },
   "outputs": [
    {
     "name": "stdout",
     "output_type": "stream",
     "text": [
      "﻿The\n",
      "Project\n",
      "Gutenberg\n",
      "EBook\n",
      "Little\n",
      "Women,\n",
      "Louisa\n",
      "May\n",
      "Alcott\n",
      "This\n",
      "Traceback (most recent call last):\n",
      "  File \"./removeStopwords.py\", line 17, in <module>\n",
      "    print(word)\n",
      "BrokenPipeError: [Errno 32] Broken pipe\n",
      "cat: write error: Broken pipe\n"
     ]
    }
   ],
   "source": [
    "!cat women.txt| ./removeStopwords.py |head -10"
   ]
  },
  {
   "cell_type": "code",
   "execution_count": 23,
   "metadata": {
    "collapsed": false
   },
   "outputs": [
    {
     "name": "stdout",
     "output_type": "stream",
     "text": [
      "   1362 jo\r\n",
      "    730 little\r\n",
      "    725 one\r\n",
      "    686 meg\r\n",
      "    658 up\r\n",
      "    652 amy\r\n",
      "    598 laurie\r\n",
      "    550 don\r\n",
      "    492 very\r\n",
      "    485 out\r\n",
      "sort: write failed: standard output: Broken pipe\r\n",
      "sort: write error\r\n"
     ]
    }
   ],
   "source": [
    "!./Split.py women.txt | ./toLower.py |./removeStopwords.py | sort | uniq -c | sort -rn | head -10\n",
    "#Applying all python filters to complete the task of grep, tr, and addtionally remove stop words."
   ]
  },
  {
   "cell_type": "markdown",
   "metadata": {},
   "source": [
    "Extra Credit"
   ]
  },
  {
   "cell_type": "code",
   "execution_count": 24,
   "metadata": {
    "collapsed": false
   },
   "outputs": [
    {
     "name": "stdout",
     "output_type": "stream",
     "text": [
      "--2016-09-19 16:30:31--  https://raw.githubusercontent.com/gwsb-istm-6212-fall-2016/syllabus-and-schedule/master/projects/project-01/texts.zip\n",
      "Resolving raw.githubusercontent.com (raw.githubusercontent.com)... 151.101.20.133\n",
      "Connecting to raw.githubusercontent.com (raw.githubusercontent.com)|151.101.20.133|:443... connected.\n",
      "HTTP request sent, awaiting response... 200 OK\n",
      "Length: 12668137 (12M) [application/octet-stream]\n",
      "Saving to: ‘texts.zip’\n",
      "\n",
      "texts.zip           100%[=====================>]  12.08M  16.4MB/s   in 0.7s   \n",
      "\n",
      "2016-09-19 16:30:32 (16.4 MB/s) - ‘texts.zip’ saved [12668137/12668137]\n",
      "\n"
     ]
    }
   ],
   "source": [
    "!wget https://raw.githubusercontent.com/gwsb-istm-6212-fall-2016/syllabus-and-schedule/master/projects/project-01/texts.zip"
   ]
  },
  {
   "cell_type": "code",
   "execution_count": 25,
   "metadata": {
    "collapsed": false
   },
   "outputs": [
    {
     "name": "stdout",
     "output_type": "stream",
     "text": [
      "Archive:  texts.zip\n",
      "  inflating: many-texts/10001.txt    \n",
      "  inflating: many-texts/10002.txt    \n",
      "  inflating: many-texts/10003.txt    \n",
      "  inflating: many-texts/10004.txt    \n",
      "  inflating: many-texts/10005.txt    \n",
      "  inflating: many-texts/10006.txt    \n",
      "  inflating: many-texts/10007.txt    \n",
      "  inflating: many-texts/10008.txt    \n",
      "  inflating: many-texts/10009.txt    \n",
      "  inflating: many-texts/10010.txt    \n",
      "  inflating: many-texts/10011.txt    \n",
      "  inflating: many-texts/10012.txt    \n",
      "  inflating: many-texts/10013.txt    \n",
      "  inflating: many-texts/10014.txt    \n",
      "  inflating: many-texts/10015.txt    \n",
      "  inflating: many-texts/10016.txt    \n",
      "  inflating: many-texts/10017.txt    \n",
      "  inflating: many-texts/10018.txt    \n",
      "  inflating: many-texts/10019.txt    \n",
      "  inflating: many-texts/10020.txt    \n",
      "  inflating: many-texts/10021.txt    \n",
      "  inflating: many-texts/10023.txt    \n",
      "  inflating: many-texts/10024.txt    \n",
      "  inflating: many-texts/10025.txt    \n",
      "  inflating: many-texts/10026.txt    \n",
      "  inflating: many-texts/10027.txt    \n",
      "  inflating: many-texts/10028.txt    \n",
      "  inflating: many-texts/10029.txt    \n",
      "  inflating: many-texts/10030.txt    \n",
      "  inflating: many-texts/10031.txt    \n",
      "  inflating: many-texts/10032.txt    \n",
      "  inflating: many-texts/10033.txt    \n",
      "  inflating: many-texts/10034.txt    \n",
      "  inflating: many-texts/10035.txt    \n",
      "  inflating: many-texts/10036.txt    \n",
      "  inflating: many-texts/10037.txt    \n",
      "  inflating: many-texts/10038.txt    \n",
      "  inflating: many-texts/10039.txt    \n",
      "  inflating: many-texts/10040.txt    \n",
      "  inflating: many-texts/10041.txt    \n",
      "  inflating: many-texts/10042.txt    \n",
      "  inflating: many-texts/10043.txt    \n",
      "  inflating: many-texts/10045.txt    \n",
      "  inflating: many-texts/10046.txt    \n",
      "  inflating: many-texts/10047.txt    \n",
      "  inflating: many-texts/10048.txt    \n",
      "  inflating: many-texts/10049.txt    \n",
      "  inflating: many-texts/10050.txt    \n",
      "  inflating: many-texts/10051.txt    \n",
      "  inflating: many-texts/10052.txt    \n",
      "  inflating: many-texts/10056.txt    \n",
      "  inflating: many-texts/10059.txt    \n",
      "  inflating: many-texts/10060.txt    \n",
      "  inflating: many-texts/10062.txt    \n",
      "  inflating: many-texts/12370.txt    \n",
      "  inflating: many-texts/12372.txt    \n",
      "  inflating: many-texts/12373.txt    \n",
      "  inflating: many-texts/12374.txt    \n",
      "  inflating: many-texts/12375.txt    \n",
      "  inflating: many-texts/12376.txt    \n",
      "  inflating: many-texts/12377.txt    \n",
      "  inflating: many-texts/12378.txt    \n",
      "  inflating: many-texts/12380.txt    \n",
      "  inflating: many-texts/12381.txt    \n",
      "  inflating: many-texts/12383.txt    \n",
      "  inflating: many-texts/12384.txt    \n",
      "  inflating: many-texts/12385.txt    \n",
      "  inflating: many-texts/12386.txt    \n",
      "  inflating: many-texts/1jcfs10.txt  \n",
      "  inflating: many-texts/2babb10.txt  \n",
      "  inflating: many-texts/3babb10.txt  \n",
      "  inflating: many-texts/50bab10.txt  \n",
      "  inflating: many-texts/ajtl10.txt   \n",
      "  inflating: many-texts/allyr10.txt  \n",
      "  inflating: many-texts/alpsn10.txt  \n",
      "  inflating: many-texts/balen10.txt  \n",
      "  inflating: many-texts/baleng2.txt  \n",
      "  inflating: many-texts/batlf10.txt  \n",
      "  inflating: many-texts/bgopr10.txt  \n",
      "  inflating: many-texts/brnte10.txt  \n",
      "  inflating: many-texts/bstjg10.txt  \n",
      "  inflating: many-texts/cambp10.txt  \n",
      "  inflating: many-texts/canbe10.txt  \n",
      "  inflating: many-texts/cantp10.txt  \n",
      "  inflating: many-texts/cfrz10.txt   \n",
      "  inflating: many-texts/crsnk10.txt  \n",
      "  inflating: many-texts/esbio10.txt  \n",
      "  inflating: many-texts/grybr10.txt  \n",
      "  inflating: many-texts/mklmt10.txt  \n",
      "  inflating: many-texts/morem10.txt  \n",
      "  inflating: many-texts/mspcd10.txt  \n",
      "  inflating: many-texts/penbr10.txt  \n",
      "  inflating: many-texts/pgjr10.txt   \n",
      "  inflating: many-texts/pntvw10.txt  \n",
      "  inflating: many-texts/prcpg10.txt  \n",
      "  inflating: many-texts/prhg10.txt   \n",
      "  inflating: many-texts/prhsb10.txt  \n",
      "  inflating: many-texts/rlsl110.txt  \n",
      "  inflating: many-texts/rlsl210.txt  \n",
      "  inflating: many-texts/rmlav10.txt  \n",
      "  inflating: many-texts/sesli10.txt  \n",
      "  inflating: many-texts/svyrd10.txt  \n",
      "  inflating: many-texts/tecom10.txt  \n",
      "  inflating: many-texts/utrkj10.txt  \n",
      "  inflating: many-texts/vpasm10.txt  \n",
      "  inflating: many-texts/wldsp10.txt  \n",
      "  inflating: many-texts/wtrbs10.txt  \n",
      "  inflating: many-texts/zncli10.txt  \n"
     ]
    }
   ],
   "source": [
    "!unzip -d many-texts texts.zip"
   ]
  },
  {
   "cell_type": "code",
   "execution_count": 26,
   "metadata": {
    "collapsed": false
   },
   "outputs": [
    {
     "name": "stdout",
     "output_type": "stream",
     "text": [
      "109\r\n"
     ]
    }
   ],
   "source": [
    "!ls -l many-texts | wc -l"
   ]
  },
  {
   "cell_type": "code",
   "execution_count": 27,
   "metadata": {
    "collapsed": false
   },
   "outputs": [
    {
     "name": "stdout",
     "output_type": "stream",
     "text": [
      "     958     8807    52510 many-texts/10001.txt\n",
      "    5690    54201   306892 many-texts/10002.txt\n",
      "    6327    64594   380817 many-texts/10003.txt\n",
      "    5361    51300   302750 many-texts/10004.txt\n",
      "    7313    73656   434760 many-texts/10005.txt\n",
      "    1582    16512    95831 many-texts/10006.txt\n",
      "    3695    31295   180129 many-texts/10007.txt\n",
      "    9154    69542   407271 many-texts/10008.txt\n",
      "    8502    90180   504214 many-texts/10009.txt\n",
      "    1451    13938    86336 many-texts/10010.txt\n",
      "    3881    26555   155567 many-texts/10011.txt\n",
      "    9175    94007   561124 many-texts/10012.txt\n",
      "    2535    18202   136650 many-texts/10013.txt\n",
      "    2858    19257   142492 many-texts/10014.txt\n",
      "    2681    18382   138460 many-texts/10015.txt\n",
      "    2824    19782   147277 many-texts/10016.txt\n",
      "    2661    18392   136288 many-texts/10017.txt\n",
      "    2741    18548   139702 many-texts/10018.txt\n",
      "    2740    18474   138437 many-texts/10019.txt\n",
      "    5632    48315   280956 many-texts/10020.txt\n",
      "    7316    55174   318632 many-texts/10021.txt\n",
      "    3583    38245   214800 many-texts/10023.txt\n",
      "    6441    53315   306215 many-texts/10024.txt\n",
      "    9639    69686   404693 many-texts/10025.txt\n",
      "    1937    16222    99760 many-texts/10026.txt\n",
      "    9072    75404   439080 many-texts/10027.txt\n",
      "    5369    46349   276424 many-texts/10028.txt\n",
      "    6896    54856   316283 many-texts/10029.txt\n",
      "   10790   104068   587414 many-texts/10030.txt\n",
      "   10377    64146   410012 many-texts/10031.txt\n",
      "    2622    18401   136841 many-texts/10032.txt\n",
      "    2648    18820   138029 many-texts/10033.txt\n",
      "    2888    18082   137047 many-texts/10034.txt\n",
      "    2750    19139   142997 many-texts/10035.txt\n",
      "    2778    18691   142257 many-texts/10036.txt\n",
      "    8222    69786   396120 many-texts/10037.txt\n",
      "   21255   154845   895429 many-texts/10038.txt\n",
      "   23550   147559   884471 many-texts/10039.txt\n",
      "    1053     4683    42014 many-texts/10040.txt\n",
      "    9132    75482   449973 many-texts/10041.txt\n",
      "    8147    75355   450525 many-texts/10042.txt\n",
      "    3319    32326   186257 many-texts/10043.txt\n",
      "    6265    40441   242697 many-texts/10045.txt\n",
      "    9802    95425   514564 many-texts/10046.txt\n",
      "    2785    20103   148901 many-texts/10047.txt\n",
      "    6225    45314   261984 many-texts/10048.txt\n",
      "    2981    30351   169713 many-texts/10049.txt\n",
      "    2838    29895   161556 many-texts/10050.txt\n",
      "    4081    45376   246157 many-texts/10051.txt\n",
      "    3508    38255   210943 many-texts/10052.txt\n",
      "   12006    90235   531848 many-texts/10056.txt\n",
      "    6650    51775   305801 many-texts/10059.txt\n",
      "    9956    98940   600646 many-texts/10060.txt\n",
      "   15638   144792   830476 many-texts/10062.txt\n",
      "    9574   100603   569574 many-texts/12370.txt\n",
      "    9331    85819   503561 many-texts/12372.txt\n",
      "    8776    86268   511478 many-texts/12373.txt\n",
      "    8747    84637   499663 many-texts/12374.txt\n",
      "    6151    54689   335840 many-texts/12375.txt\n",
      "    9468    92699   556871 many-texts/12376.txt\n",
      "    3710    33010   190511 many-texts/12377.txt\n",
      "    1905    13876    86285 many-texts/12378.txt\n",
      "    9379    82181   478797 many-texts/12380.txt\n",
      "    5456    56619   343561 many-texts/12381.txt\n",
      "   20247   126872   834180 many-texts/12383.txt\n",
      "    6015    33748   211632 many-texts/12384.txt\n",
      "   14015   119266   706620 many-texts/12385.txt\n",
      "    7972    76744   418886 many-texts/12386.txt\n",
      "   13569   141089   864515 many-texts/1jcfs10.txt\n",
      "    4658    22391   133753 many-texts/2babb10.txt\n",
      "    4814    25104   148572 many-texts/3babb10.txt\n",
      "    5859    30669   179964 many-texts/50bab10.txt\n",
      "    5702    48306   273967 many-texts/ajtl10.txt\n",
      "    2752    24292   145780 many-texts/allyr10.txt\n",
      "    7758    76519   429807 many-texts/alpsn10.txt\n",
      "    2893    17536    98212 many-texts/balen10.txt\n",
      "   10930    67628   368952 many-texts/baleng2.txt\n",
      "    3897    31279   183018 many-texts/batlf10.txt\n",
      "    2844    19051   110426 many-texts/bgopr10.txt\n",
      "     824     6677    41155 many-texts/brnte10.txt\n",
      "    2187    20352   114878 many-texts/bstjg10.txt\n",
      "    2334    19883   114379 many-texts/cambp10.txt\n",
      "    6965    62419   360031 many-texts/canbe10.txt\n",
      "    1975    16461    97478 many-texts/cantp10.txt\n",
      "    7790    69450   392387 many-texts/cfrz10.txt\n",
      "    8070    81365   461521 many-texts/crsnk10.txt\n",
      "    3529    27169   166625 many-texts/esbio10.txt\n",
      "    2389    18359   105427 many-texts/grybr10.txt\n",
      "    6257    57131   325285 many-texts/mklmt10.txt\n",
      "    1275     6277    38273 many-texts/morem10.txt\n",
      "    2682    25522   149315 many-texts/mspcd10.txt\n",
      "    2719    21442   124367 many-texts/penbr10.txt\n",
      "    5968    54254   309320 many-texts/pgjr10.txt\n",
      "    2047    21858   123684 many-texts/pntvw10.txt\n",
      "    7689    68597   393344 many-texts/prcpg10.txt\n",
      "    2365    19728   116330 many-texts/prhg10.txt\n",
      "    4171    34653   202188 many-texts/prhsb10.txt\n",
      "   12644   103791   576111 many-texts/rlsl110.txt\n",
      "   13022   113937   629627 many-texts/rlsl210.txt\n",
      "    7687    48233   288195 many-texts/rmlav10.txt\n",
      "    4920    49931   285499 many-texts/sesli10.txt\n",
      "    4176    20935   119559 many-texts/svyrd10.txt\n",
      "    4796    47165   266759 many-texts/tecom10.txt\n",
      "   11757   114971   671233 many-texts/utrkj10.txt\n",
      "     902     5482    32586 many-texts/vpasm10.txt\n",
      "    1540    14174    82920 many-texts/wldsp10.txt\n",
      "    7991    70571   385159 many-texts/wtrbs10.txt\n",
      "   11144   100665   598020 many-texts/zncli10.txt\n",
      "  668517  5607822 33085102 total\n"
     ]
    }
   ],
   "source": [
    "!wc many-texts/*.txt"
   ]
  },
  {
   "cell_type": "code",
   "execution_count": 28,
   "metadata": {
    "collapsed": false
   },
   "outputs": [
    {
     "name": "stdout",
     "output_type": "stream",
     "text": [
      "\n",
      "Computers / CPU cores / Max jobs to run\n",
      "1:local / 2 / 2\n",
      "\n",
      "Computer:jobs running/jobs completed/%of started jobs/Average seconds to complete\n",
      "ETA: 0s 0left 0.26avg  local:0/108/100%/0.3s \n"
     ]
    }
   ],
   "source": [
    "!chmod +x removeStopwords.py\n",
    "!ls many-texts/*.txt \\\n",
    "    | parallel --eta -j+0 \"grep -oE '\\w{{2,}}' {{}} | tr '[:upper:]' '[:lower:]' |./removeStopwords.py >> many-texts/all-words.txt\"\n",
    "#Parallel processing all the text files, split each work into a line, transform to lower cases, then remove all stop words.\n",
    "#all-words text file becomes the next target to process."
   ]
  },
  {
   "cell_type": "code",
   "execution_count": 29,
   "metadata": {
    "collapsed": false
   },
   "outputs": [
    {
     "name": "stdout",
     "output_type": "stream",
     "text": [
      "  19588 one\r\n",
      "  12576 out\r\n",
      "  12234 up\r\n",
      "  10908 more\r\n",
      "   9683 man\r\n",
      "   9511 very\r\n",
      "   9503 now\r\n",
      "   8722 little\r\n",
      "   8607 time\r\n",
      "   8541 upon\r\n",
      "   7764 gutenberg\r\n",
      "   7488 see\r\n",
      "   7322 well\r\n",
      "   7285 project\r\n",
      "   7101 over\r\n",
      "   7019 such\r\n",
      "   7015 two\r\n",
      "   6892 down\r\n",
      "   6823 great\r\n",
      "   6782 old\r\n",
      "   6751 day\r\n",
      "   6671 work\r\n",
      "   6670 know\r\n",
      "   6567 good\r\n",
      "   6446 made\r\n",
      "sort: write failed: standard output: Broken pipe\r\n",
      "sort: write error\r\n"
     ]
    }
   ],
   "source": [
    "!sort many-texts/all-words.txt \\\n",
    "    | uniq -c \\\n",
    "    | sort -rn \\\n",
    "    | head -25\n",
    "\n",
    "    \n",
    "#Finding unique words after sorting then sort again in reverse order and find the top 25 words."
   ]
  }
 ],
 "metadata": {
  "kernelspec": {
   "display_name": "Python 3",
   "language": "python",
   "name": "python3"
  },
  "language_info": {
   "codemirror_mode": {
    "name": "ipython",
    "version": 3
   },
   "file_extension": ".py",
   "mimetype": "text/x-python",
   "name": "python",
   "nbconvert_exporter": "python",
   "pygments_lexer": "ipython3",
   "version": "3.5.2"
  }
 },
 "nbformat": 4,
 "nbformat_minor": 0
}
