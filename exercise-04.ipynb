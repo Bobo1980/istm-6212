{
 "cells": [
  {
   "cell_type": "markdown",
   "metadata": {},
   "source": [
    "# Exercise 04 - Due Friday, October 21 at 12pm\n",
    "\n",
    "*Objectives*: Gain experience loading a CSV dataset into a database model you define yourself and using SQL to explore its contents. Explore the data by writing and executing a number of SQL queries using common syntax and functions and describing your findings.\n",
    "\n",
    "*Grading criteria*: The tasks should all be completed, and questions should all be answered with SQL queries in the space provided, unless a text answer is requested. Results should be correct, according to the embedded tests. The notebook itself should be completely reproducible; from start to finish, another person should be able to use the same code to obtain the same results as yours.  Note that you will receive no more than partial credit if you do not add text/markdown cells explaining your thinking at each major step in each problem.\n",
    "\n",
    "*Deadline*: Friday, October 21, 12pm. Submit your notebook to Blackboard and push it to your GitHub repository.\n",
    "\n",
    "## Setup - obtain data and create database\n",
    "\n",
    "The US City Open Data Census has data on [restaurant inspections from all over the country](http://us-city.census.okfn.org/dataset/food-safety).  Let's take a look at data from Albuquerque.  *Note*: metadata and other details for this dataset are available at http://data.cabq.gov/business/foodinspections/.\n",
    "\n",
    "Fyi, to save you a step, I've converted this file into a clean CSV file by using the `dos2unix` command to change its line endings and to switch it to use commas instead of tabs using `csvformat -t inputfile.csv > outputfile.csv`.\n",
    "\n",
    "First we download the dataset:"
   ]
  },
  {
   "cell_type": "code",
   "execution_count": 1,
   "metadata": {
    "collapsed": false
   },
   "outputs": [
    {
     "name": "stdout",
     "output_type": "stream",
     "text": [
      "--2016-10-24 00:00:39--  https://raw.githubusercontent.com/gwsb-istm-6212-fall-2016/syllabus-and-schedule/master/exercises/abq-food-inspections-fy2010.csv\n",
      "Resolving raw.githubusercontent.com (raw.githubusercontent.com)... 151.101.32.133\n",
      "Connecting to raw.githubusercontent.com (raw.githubusercontent.com)|151.101.32.133|:443... connected.\n",
      "HTTP request sent, awaiting response... 200 OK\n",
      "Length: 5025226 (4.8M) [text/plain]\n",
      "Saving to: ‘abq-food-inspections-fy2010.csv’\n",
      "\n",
      "abq-food-inspection 100%[=====================>]   4.79M  --.-KB/s   in 0.1s   \n",
      "\n",
      "2016-10-24 00:00:40 (44.5 MB/s) - ‘abq-food-inspections-fy2010.csv’ saved [5025226/5025226]\n",
      "\n"
     ]
    }
   ],
   "source": [
    "!wget https://raw.githubusercontent.com/gwsb-istm-6212-fall-2016/syllabus-and-schedule/master/exercises/abq-food-inspections-fy2010.csv"
   ]
  },
  {
   "cell_type": "markdown",
   "metadata": {},
   "source": [
    "## Problem 1 - examine the data (35 points)\n",
    "\n",
    "Use `csvstat` and other tools as you see fit and observe its contents.  Review the metadata definitions linked to above.  Describe what you see:  What do all the columns mean?  Are there null values?  Which columns interest you the most?  Which columns present some complications or questions you would like to ask?"
   ]
  },
  {
   "cell_type": "code",
   "execution_count": 2,
   "metadata": {
    "collapsed": true
   },
   "outputs": [],
   "source": [
    "!mv abq-food-inspections-fy2010.csv fy.csv"
   ]
  },
  {
   "cell_type": "code",
   "execution_count": 3,
   "metadata": {
    "collapsed": false
   },
   "outputs": [
    {
     "name": "stdout",
     "output_type": "stream",
     "text": [
      "17557 fy.csv\r\n"
     ]
    }
   ],
   "source": [
    "!wc -l fy.csv"
   ]
  },
  {
   "cell_type": "markdown",
   "metadata": {},
   "source": [
    "# What do all the columns mean?\n",
    "\n",
    "Based on the metadata information, columns 1-15 describe attributes of the facility such as the basic information like address and type of business. Columns 15 and 16 describe the type of facility permit/ID code the inspection was performed. And the rest of the columns entail details of the inspection method, result, action and violation, if any. "
   ]
  },
  {
   "cell_type": "code",
   "execution_count": 4,
   "metadata": {
    "collapsed": false
   },
   "outputs": [
    {
     "name": "stdout",
     "output_type": "stream",
     "text": [
      "  1: FACILITY_NAME\r\n",
      "  2: FACILITY_KEY\r\n",
      "  3: SITE_ADDRESS\r\n",
      "  4: CITY\r\n",
      "  5: STATE\r\n",
      "  6: ZIP\r\n",
      "  7: OWNER_KEY\r\n",
      "  8: OWNER_NAME\r\n",
      "  9: NATURE_OF_BUSINESS\r\n",
      " 10: STREET_NUMBER\r\n",
      " 11: STREET_NAME\r\n",
      " 12: STREET_TYPE\r\n",
      " 13: POST_DIRECTIONAL\r\n",
      " 14: PHONE\r\n",
      " 15: PROGRAM_CATEGORY\r\n",
      " 16: PROGRAM_CATEGORY_DESCRIPTION\r\n",
      " 17: INSPECTION_DATE\r\n",
      " 18: INSPECTION_TYPE\r\n",
      " 19: INSPECTION_DESC\r\n",
      " 20: SERIAL_NUM\r\n",
      " 21: ACTION_CODE\r\n",
      " 22: ACTION_DESC\r\n",
      " 23: RESULT_CODE\r\n",
      " 24: RESULT_DESC\r\n",
      " 25: VIOLATION_CODE\r\n",
      " 26: VIOLATION_DESC\r\n",
      " 27: INSPECTION_MEMO\r\n"
     ]
    }
   ],
   "source": [
    "!csvcut -n fy.csv"
   ]
  },
  {
   "cell_type": "code",
   "execution_count": 5,
   "metadata": {
    "collapsed": false
   },
   "outputs": [
    {
     "name": "stdout",
     "output_type": "stream",
     "text": [
      "|--------------------------+--------------+-------------------------------+-------------+-------+-------+-----------+-------------------------+--------------------+---------------+-------------+-------------+------------------+------------+------------------+------------------------------+---------------------+-----------------+-------------------------+------------+-------------+-------------+-------------+----------------+----------------+----------------------------------+------------------|\r\n",
      "|  FACILITY_NAME           | FACILITY_KEY | SITE_ADDRESS                  | CITY        | STATE | ZIP   | OWNER_KEY | OWNER_NAME              | NATURE_OF_BUSINESS | STREET_NUMBER | STREET_NAME | STREET_TYPE | POST_DIRECTIONAL | PHONE      | PROGRAM_CATEGORY | PROGRAM_CATEGORY_DESCRIPTION | INSPECTION_DATE     | INSPECTION_TYPE | INSPECTION_DESC         | SERIAL_NUM | ACTION_CODE | ACTION_DESC | RESULT_CODE | RESULT_DESC    | VIOLATION_CODE | VIOLATION_DESC                   | INSPECTION_MEMO  |\r\n",
      "|--------------------------+--------------+-------------------------------+-------------+-------+-------+-----------+-------------------------+--------------------+---------------+-------------+-------------+------------------+------------+------------------+------------------------------+---------------------+-----------------+-------------------------+------------+-------------+-------------+-------------+----------------+----------------+----------------------------------+------------------|\r\n",
      "|  00BSAY IT WITH CAKE     | 50534        | 10200 GOLF COURSE RD NW STE B | ALBUQUERQUE | NM    | 87114 | 47341     | OOBSAY IT WITH CAKE     | CAKE DECORATING    | 10200         | GOLF COURSE | RD          | NW               | 5058339563 | 0405             | Food Processor               | 2009-10-21 00:00:00 |                 | EMERGENCY RESPONSE      | DA8009125  | 00          | NON-GRADED  | 00          | NOT APPLICABLE |     68         | Delivered Informational Brochure |                  |\r\n",
      "|  00BSAY IT WITH CAKE     | 50534        | 10200 GOLF COURSE RD NW STE B | ALBUQUERQUE | NM    | 87114 | 47341     | OOBSAY IT WITH CAKE     | CAKE DECORATING    | 10200         | GOLF COURSE | RD          | NW               | 5058339563 | 0405             | Food Processor               | 2009-10-21 00:00:00 |                 | ROUTINE FOOD INSPECTION | DA8009123  | 11          | APPROVED    | 03          | IN COMPLIANCE  |     00         | No Violations Found              |                  |\r\n",
      "|  00BSAY IT WITH CAKE     | 50534        | 10200 GOLF COURSE RD NW STE B | ALBUQUERQUE | NM    | 87114 | 47341     | OOBSAY IT WITH CAKE     | CAKE DECORATING    | 10200         | GOLF COURSE | RD          | NW               | 5058339563 | 0405             | Food Processor               | 2009-10-21 00:00:00 |                 | ROUTINE FOOD INSPECTION | DA8009123  | 11          | APPROVED    | 03          | IN COMPLIANCE  |     55         | Additional Comments              |                  |\r\n",
      "|  00BSAY IT WITH CAKE     | 50534        | 10200 GOLF COURSE RD NW STE B | ALBUQUERQUE | NM    | 87114 | 47341     | OOBSAY IT WITH CAKE     | CAKE DECORATING    | 10200         | GOLF COURSE | RD          | NW               | 5058339563 | 0405             | Food Processor               | 2010-04-14 00:00:00 |                 | ROUTINE FOOD INSPECTION | DA8010205  | 11          | APPROVED    | 03          | IN COMPLIANCE  |     00         | No Violations Found              |                  |\r\n",
      "|  00BSAY IT WITH CAKE     | 50534        | 10200 GOLF COURSE RD NW STE B | ALBUQUERQUE | NM    | 87114 | 47341     | OOBSAY IT WITH CAKE     | CAKE DECORATING    | 10200         | GOLF COURSE | RD          | NW               | 5058339563 | 0405             | Food Processor               | 2010-04-14 00:00:00 |                 | ROUTINE FOOD INSPECTION | DA8010205  | 11          | APPROVED    | 03          | IN COMPLIANCE  |     55         | Additional Comments              |                  |\r\n",
      "|  2000 VIETNAM RESTAURANT | 31468        | 601 SAN MATEO BLVD SE         | ALBUQUERQUE | NM    | 87108 | 29294     | 2000 VIETMAN RESTAURANT | RESTAURANT         | 601           | SAN MATEO   | BLVD        | SE               | 5052320900 | 0406             | Food Service Establishment   | 2010-03-23 00:00:00 |                 | ROUTINE FOOD INSPECTION | DA8509472  | 11          | APPROVED    | 03          | IN COMPLIANCE  |     34         | Food contact surfaces            |                  |\r\n",
      "|  2000 VIETNAM RESTAURANT | 31468        | 601 SAN MATEO BLVD SE         | ALBUQUERQUE | NM    | 87108 | 29294     | 2000 VIETMAN RESTAURANT | RESTAURANT         | 601           | SAN MATEO   | BLVD        | SE               | 5052320900 | 0406             | Food Service Establishment   | 2010-03-23 00:00:00 |                 | ROUTINE FOOD INSPECTION | DA8509472  | 11          | APPROVED    | 03          | IN COMPLIANCE  |     35         | Non-Food contact surfaces        |                  |\r\n",
      "|  2000 VIETNAM RESTAURANT | 31468        | 601 SAN MATEO BLVD SE         | ALBUQUERQUE | NM    | 87108 | 29294     | 2000 VIETMAN RESTAURANT | RESTAURANT         | 601           | SAN MATEO   | BLVD        | SE               | 5052320900 | 0406             | Food Service Establishment   | 2010-03-23 00:00:00 |                 | ROUTINE FOOD INSPECTION | DA8509472  | 11          | APPROVED    | 03          | IN COMPLIANCE  |     55         | Additional Comments              |                  |\r\n",
      "|  328 CHINESE CUISINE     | 72789        | 5617 MENAUL BLVD NE STE A     | ALBUQUERQUE | NM    | 87110 | 66644     | 328 CHINESE CUISINE     |                    | 5617          | MENAUL      | BLVD        | NE               | 5058814468 | 0406             | Food Service Establishment   | 2009-12-15 00:00:00 |                 | EMERGENCY RESPONSE      | DA7757250  | 00          | NON-GRADED  | 00          | NOT APPLICABLE |     68         | Delivered Informational Brochure |                  |\r\n",
      "|--------------------------+--------------+-------------------------------+-------------+-------+-------+-----------+-------------------------+--------------------+---------------+-------------+-------------+------------------+------------+------------------+------------------------------+---------------------+-----------------+-------------------------+------------+-------------+-------------+-------------+----------------+----------------+----------------------------------+------------------|\r\n"
     ]
    }
   ],
   "source": [
    "!head fy.csv | csvlook"
   ]
  },
  {
   "cell_type": "code",
   "execution_count": 6,
   "metadata": {
    "collapsed": false
   },
   "outputs": [
    {
     "name": "stdout",
     "output_type": "stream",
     "text": [
      "  1. PER EHSII CECELIA GARCIA OOB LA REYNA DEL SUR\n",
      "\t<class 'str'>\n",
      "\tNulls: False\n",
      "\tUnique values: 2455\n",
      "\t5 most frequent values:\n",
      "\t\tSMITHS FOOD AND DRUG CENTERS INC:\t77\n",
      "\t\tISOTOPES PARK - OVATIONS:\t55\n",
      "\t\tPER EHSII CECELIA GARCIA OOB LA REYNA DEL SUR:\t46\n",
      "\t\tECHO INC:\t46\n",
      "\t\tOOB MOM THAI FOOD:\t42\n",
      "\tMax length: 77\n",
      "  2. 65863\n",
      "\t<class 'str'>\n",
      "\tNulls: False\n",
      "\tUnique values: 2658\n",
      "\t5 most frequent values:\n",
      "\t\t46323:\t55\n",
      "\t\t80949:\t46\n",
      "\t\t65863:\t46\n",
      "\t\t93519:\t42\n",
      "\t\t32817:\t40\n",
      "\tMax length: 12\n",
      "  3. 644 OLD COORS BLVD SW \n",
      "\t<class 'str'>\n",
      "\tNulls: True\n",
      "\tUnique values: 2333\n",
      "\t5 most frequent values:\n",
      "\t\t1601 AVENIDA CESAR CHAVEZ SE:\t55\n",
      "\t\t644 OLD COORS BLVD SW:\t46\n",
      "\t\t300 MENAUL NW:\t46\n",
      "\t\t2200 SUNPORT BLVD SE:\t44\n",
      "\t\t1212 SAN PEDRO DR SE:\t42\n",
      "\tMax length: 35\n",
      "  4. ALBUQUERQUE\n",
      "\t<class 'str'>\n",
      "\tNulls: False\n",
      "\tValues: ALBUQUERQUE, CITY\n",
      "  5. NM\n",
      "\t<class 'str'>\n",
      "\tNulls: False\n",
      "\tValues: 87, STATE, NM\n",
      "  6. 87105\n",
      "\t<class 'str'>\n",
      "\tNulls: False\n",
      "\tUnique values: 49\n",
      "\t5 most frequent values:\n",
      "\t\t87110:\t1149\n",
      "\t\t87108:\t1091\n",
      "\t\t87102:\t918\n",
      "\t\t87106:\t884\n",
      "\t\t87109:\t852\n",
      "\tMax length: 10\n",
      "  7. 60564\n",
      "\t<class 'str'>\n",
      "\tNulls: False\n",
      "\tUnique values: 1773\n",
      "\t5 most frequent values:\n",
      "\t\t1838:\t429\n",
      "\t\t3537:\t173\n",
      "\t\t1272:\t120\n",
      "\t\t44953:\t92\n",
      "\t\t36280:\t91\n",
      "\tMax length: 9\n",
      "  8. LUIS LUERANO\n",
      "\t<class 'str'>\n",
      "\tNulls: False\n",
      "\tUnique values: 1735\n",
      "\t5 most frequent values:\n",
      "\t\tAPS:\t429\n",
      "\t\tSMITHS FOOD AND DRUG CENTERS INC:\t173\n",
      "\t\tCIRCLE K STORES INC:\t144\n",
      "\t\tALBERTSONS:\t120\n",
      "\t\tBLAKES LOTABURGER LLC:\t92\n",
      "\tMax length: 82\n",
      "  9. SELLING ICE CREAM\n",
      "\t<class 'str'>\n",
      "\tNulls: True\n",
      "\tUnique values: 565\n",
      "\t5 most frequent values:\n",
      "\t\tRESTAURANT:\t2905\n",
      "\t\tFOOD SERVICE:\t380\n",
      "\t\tGROCERY:\t346\n",
      "\t\tBAR/RESTAURANT:\t280\n",
      "\t\tAPS SCHOOL FOOD SERVICE:\t253\n",
      "\tMax length: 25\n",
      " 10. 644\n",
      "\t<class 'str'>\n",
      "\tNulls: True\n",
      "\tUnique values: 1293\n",
      "\t5 most frequent values:\n",
      "\t\t6600:\t107\n",
      "\t\t300:\t91\n",
      "\t\t2200:\t82\n",
      "\t\t10000:\t79\n",
      "\t\t1601:\t66\n",
      "\tMax length: 13\n",
      " 11. OLD COORS\n",
      "\t<class 'str'>\n",
      "\tNulls: True\n",
      "\tUnique values: 386\n",
      "\t5 most frequent values:\n",
      "\t\tCENTRAL:\t1106\n",
      "\t\tCOORS:\t535\n",
      "\t\tMENAUL:\t525\n",
      "\t\tMONTGOMERY:\t418\n",
      "\t\tSAN MATEO:\t401\n",
      "\tMax length: 24\n",
      " 12. BLVD\n",
      "\t<class 'str'>\n",
      "\tNulls: True\n",
      "\tUnique values: 14\n",
      "\t5 most frequent values:\n",
      "\t\tBLVD:\t4347\n",
      "\t\tAV:\t1754\n",
      "\t\tST:\t1178\n",
      "\t\tRD:\t1049\n",
      "\t\tDR:\t581\n",
      "\tMax length: 11\n",
      " 13. SW\n",
      "\t<class 'str'>\n",
      "\tNulls: True\n",
      "\tUnique values: 6\n",
      "\t5 most frequent values:\n",
      "\t\tNE:\t4954\n",
      "\t\tNW:\t2348\n",
      "\t\tSE:\t1795\n",
      "\t\tSW:\t800\n",
      "\t\tN:\t5\n",
      "\tMax length: 16\n",
      " 14. 3109680646\n",
      "\t<class 'str'>\n",
      "\tNulls: True\n",
      "\tUnique values: 2142\n",
      "\t5 most frequent values:\n",
      "\t\t9153321301:\t61\n",
      "\t\t3037929467:\t57\n",
      "\t\t5052224033:\t55\n",
      "\t\t5052426777:\t46\n",
      "\t\t3109680646:\t46\n",
      "\tMax length: 15\n",
      " 15. 1001\n",
      "\t<class 'str'>\n",
      "\tNulls: False\n",
      "\tUnique values: 26\n",
      "\t5 most frequent values:\n",
      "\t\t0406:\t4572\n",
      "\t\t0601:\t655\n",
      "\t\t0606:\t517\n",
      "\t\t0607:\t507\n",
      "\t\t0501:\t478\n",
      "\tMax length: 16\n",
      " 16. Mobile Pre-Packaged\n",
      "\t<class 'str'>\n",
      "\tNulls: True\n",
      "\tUnique values: 25\n",
      "\t5 most frequent values:\n",
      "\t\tFood Service Establishment:\t4572\n",
      "\t\tRetail -Grocery:\t655\n",
      "\t\tRetail - Prepackage Only:\t517\n",
      "\t\tRetail - Self Service & Prepackage Foods:\t507\n",
      "\t\tBar:\t478\n",
      "\tMax length: 40\n",
      " 17. 2010-05-12 00:00:00\n",
      "\t<class 'str'>\n",
      "\tNulls: False\n",
      "\tUnique values: 255\n",
      "\t5 most frequent values:\n",
      "\t\t2009-12-16 00:00:00:\t103\n",
      "\t\t2009-09-10 00:00:00:\t94\n",
      "\t\t2009-09-25 00:00:00:\t88\n",
      "\t\t2009-07-16 00:00:00:\t78\n",
      "\t\t2009-11-04 00:00:00:\t77\n",
      "\tMax length: 19\n",
      " 18. _unnamed\n",
      "\t<class 'str'>\n",
      "\tNulls: True\n",
      "\tValues: INSPECTION_TYPE\n",
      " 19. MOBILE UNIT FOOD INSPECTION\n",
      "\t<class 'str'>\n",
      "\tNulls: False\n",
      "\tUnique values: 14\n",
      "\t5 most frequent values:\n",
      "\t\tROUTINE FOOD INSPECTION:\t7093\n",
      "\t\tEMERGENCY RESPONSE:\t1141\n",
      "\t\tNew Business Inspection:\t573\n",
      "\t\tPRE-OPENING FOOD INSPECTION:\t432\n",
      "\t\tADDITIONAL SERVICE PROVIDED:\t247\n",
      "\tMax length: 32\n",
      " 20. DA7007343\n",
      "\t<class 'str'>\n",
      "\tNulls: False\n",
      "\tUnique values: 6684\n",
      "\t5 most frequent values:\n",
      "\t\tDA0047720:\t42\n",
      "\t\tDA0045731:\t40\n",
      "\t\tDA0059230:\t39\n",
      "\t\tDA0047290:\t32\n",
      "\t\tDA0045676:\t31\n",
      "\tMax length: 10\n",
      " 21. 09\n",
      "\t<class 'str'>\n",
      "\tNulls: False\n",
      "\tUnique values: 9\n",
      "\t5 most frequent values:\n",
      "\t\t11:\t8027\n",
      "\t\t00:\t1593\n",
      "\t\t09:\t215\n",
      "\t\t06:\t146\n",
      "\t\t10:\t10\n",
      "\tMax length: 11\n",
      " 22. ANNUAL STICKER ISSUED\n",
      "\t<class 'str'>\n",
      "\tNulls: False\n",
      "\tUnique values: 9\n",
      "\t5 most frequent values:\n",
      "\t\tAPPROVED:\t8027\n",
      "\t\tNON-GRADED:\t1593\n",
      "\t\tANNUAL STICKER ISSUED:\t215\n",
      "\t\tUNSATISFACTORY:\t146\n",
      "\t\tANNUAL STICKER NOT ISSUED:\t10\n",
      "\tMax length: 34\n",
      " 23. 03\n",
      "\t<class 'str'>\n",
      "\tNulls: False\n",
      "\tUnique values: 19\n",
      "\t5 most frequent values:\n",
      "\t\t03:\t8206\n",
      "\t\t00:\t1384\n",
      "\t\t05:\t119\n",
      "\t\t22:\t69\n",
      "\t\t18:\t58\n",
      "\tMax length: 11\n",
      " 24. IN COMPLIANCE\n",
      "\t<class 'str'>\n",
      "\tNulls: False\n",
      "\tUnique values: 19\n",
      "\t5 most frequent values:\n",
      "\t\tIN COMPLIANCE:\t8206\n",
      "\t\tNOT APPLICABLE:\t1384\n",
      "\t\tDOWNGRADE:\t119\n",
      "\t\tOUT OF BUSINESS:\t69\n",
      "\t\tTRAINING RECEIVED:\t58\n",
      "\tMax length: 37\n",
      " 25.     55    \n",
      "\t<class 'str'>\n",
      "\tNulls: True\n",
      "\tUnique values: 122\n",
      "\t5 most frequent values:\n",
      "\t\t55:\t3589\n",
      "\t\t00:\t1964\n",
      "\t\t68:\t952\n",
      "\t\t42:\t278\n",
      "\t\t21:\t240\n",
      "\tMax length: 14\n",
      " 26. Additional Comments\n",
      "\t<class 'str'>\n",
      "\tNulls: True\n",
      "\tUnique values: 68\n",
      "\t5 most frequent values:\n",
      "\t\tAdditional Comments:\t3592\n",
      "\t\tNo Violations Found:\t1966\n",
      "\t\tDelivered Informational Brochure:\t952\n",
      "\t\tPlumbing: Improperly installed/maintained/supplied:\t281\n",
      "\t\tFood unprotected:\t242\n",
      "\tMax length: 50\n",
      " 27. _unnamed\n",
      "\t<class 'str'>\n",
      "\tNulls: True\n",
      "\tValues: INSPECTION_MEMO\n",
      "\n",
      "Row count: 9999\n"
     ]
    }
   ],
   "source": [
    "!shuf -n 10000 fy.csv | csvstat"
   ]
  },
  {
   "cell_type": "markdown",
   "metadata": {
    "collapsed": true
   },
   "source": [
    "### Are there null values?  \n",
    "\n",
    "Based on observations from above, columns 3,9, 10, 11, 13, 14, 16, 25, 26, 27 all have null values. The next few lines of code show what the data might look like for those columns with null values. \n"
   ]
  },
  {
   "cell_type": "markdown",
   "metadata": {},
   "source": [
    "### Which columns interest you the most?\n",
    "\n",
    "I am mostly interested in the columns that contain details of the inspection results and descriptions.\n",
    "\n",
    " 17: INSPECTION_DATE\n",
    " 18: INSPECTION_TYPE\n",
    " 19: INSPECTION_DESC\n",
    " 23: RESULT_CODE\n",
    " 24: RESULT_DESC\n",
    " 25: VIOLATION_CODE\n",
    " 26: VIOLATION_DESC"
   ]
  },
  {
   "cell_type": "markdown",
   "metadata": {},
   "source": [
    "### Which columns present some complications or questions you would like to ask?\n",
    "\n",
    "1. Some of them may not be of great concern, such as inspection_memo. It is possible that no additional information is available. Some others are of minor concerns. Nature of business, for example, should all have an entry to describe the nature of the business. \n",
    "2. It is, however, more of an issue when there is missing value for business contact information such as site address, street name, phone number etc. This causes concerns because data should be available but is not, which could be due to human error. \n",
    "3. If both violation code and description are missing then it is possible that the business had no violations at all. If either is missing withe other present, then it is a concern. \n",
    "4. Addtionally I would be interested in finding out if there is any relationship or pattern that can be discovered among inspection violations and the type of business, type of inspection, etc. For example, does one time of business have a tendency to have more violations versus the others? Is there higher occurence of violations around certain time of the year?\n"
   ]
  },
  {
   "cell_type": "code",
   "execution_count": 7,
   "metadata": {
    "collapsed": false
   },
   "outputs": [
    {
     "name": "stdout",
     "output_type": "stream",
     "text": [
      "|--------------------------------+--------------------+---------------+-------------+-------------------|\r\n",
      "|  SITE_ADDRESS                  | NATURE_OF_BUSINESS | STREET_NUMBER | STREET_NAME | POST_DIRECTIONAL  |\r\n",
      "|--------------------------------+--------------------+---------------+-------------+-------------------|\r\n",
      "|  10200 GOLF COURSE RD NW STE B | CAKE DECORATING    | 10200         | GOLF COURSE | NW                |\r\n",
      "|  10200 GOLF COURSE RD NW STE B | CAKE DECORATING    | 10200         | GOLF COURSE | NW                |\r\n",
      "|  10200 GOLF COURSE RD NW STE B | CAKE DECORATING    | 10200         | GOLF COURSE | NW                |\r\n",
      "|  10200 GOLF COURSE RD NW STE B | CAKE DECORATING    | 10200         | GOLF COURSE | NW                |\r\n",
      "|  10200 GOLF COURSE RD NW STE B | CAKE DECORATING    | 10200         | GOLF COURSE | NW                |\r\n",
      "|  601 SAN MATEO BLVD SE         | RESTAURANT         | 601           | SAN MATEO   | SE                |\r\n",
      "|  601 SAN MATEO BLVD SE         | RESTAURANT         | 601           | SAN MATEO   | SE                |\r\n",
      "|  601 SAN MATEO BLVD SE         | RESTAURANT         | 601           | SAN MATEO   | SE                |\r\n",
      "|  5617 MENAUL BLVD NE STE A     |                    | 5617          | MENAUL      | NE                |\r\n",
      "|--------------------------------+--------------------+---------------+-------------+-------------------|\r\n"
     ]
    }
   ],
   "source": [
    "!csvcut -c3,9,10,11,13 fy.csv| head -10 |csvlook"
   ]
  },
  {
   "cell_type": "code",
   "execution_count": 8,
   "metadata": {
    "collapsed": false
   },
   "outputs": [
    {
     "name": "stdout",
     "output_type": "stream",
     "text": [
      "|-------------+------------------------------+----------------+----------------------------------+------------------|\r\n",
      "|  PHONE      | PROGRAM_CATEGORY_DESCRIPTION | VIOLATION_CODE | VIOLATION_DESC                   | INSPECTION_MEMO  |\r\n",
      "|-------------+------------------------------+----------------+----------------------------------+------------------|\r\n",
      "|  5058339563 | Food Processor               |     68         | Delivered Informational Brochure |                  |\r\n",
      "|  5058339563 | Food Processor               |     00         | No Violations Found              |                  |\r\n",
      "|  5058339563 | Food Processor               |     55         | Additional Comments              |                  |\r\n",
      "|  5058339563 | Food Processor               |     00         | No Violations Found              |                  |\r\n",
      "|  5058339563 | Food Processor               |     55         | Additional Comments              |                  |\r\n",
      "|  5052320900 | Food Service Establishment   |     34         | Food contact surfaces            |                  |\r\n",
      "|  5052320900 | Food Service Establishment   |     35         | Non-Food contact surfaces        |                  |\r\n",
      "|  5052320900 | Food Service Establishment   |     55         | Additional Comments              |                  |\r\n",
      "|  5058814468 | Food Service Establishment   |     68         | Delivered Informational Brochure |                  |\r\n",
      "|-------------+------------------------------+----------------+----------------------------------+------------------|\r\n"
     ]
    }
   ],
   "source": [
    "!csvcut -c14,16,25,26,27  fy.csv| head -10 |csvlook"
   ]
  },
  {
   "cell_type": "markdown",
   "metadata": {},
   "source": [
    "## Problem 2 - define a database model and load the data (35 points)\n",
    "\n",
    "Based on what you found above, create and connect to a new database, define a database table in it, and load this dataset into it.  You may use either of the methods for this step you have seen in earlier class notebooks.  You may choose to eliminate variables/columns if they are not relevant or interesting to you - explain your reasoning if you do.  Either way, you should load a majority of the columns present in the source dataset into the database and all of its rows.\n",
    "\n",
    "Once your data has loaded successfully, run a `COUNT(*)` query to verify that all the data has loaded correctly.\n",
    "\n",
    "Insert a combination of code and text/markdown cells here to connect to your database, define your table, load its data, and verify the loaded records."
   ]
  },
  {
   "cell_type": "code",
   "execution_count": 9,
   "metadata": {
    "collapsed": false
   },
   "outputs": [
    {
     "name": "stderr",
     "output_type": "stream",
     "text": [
      "/opt/conda/lib/python3.5/site-packages/IPython/config.py:13: ShimWarning: The `IPython.config` package has been deprecated. You should import from traitlets.config instead.\n",
      "  \"You should import from traitlets.config instead.\", ShimWarning)\n",
      "/opt/conda/lib/python3.5/site-packages/IPython/utils/traitlets.py:5: UserWarning: IPython.utils.traitlets has moved to a top-level traitlets package.\n",
      "  warn(\"IPython.utils.traitlets has moved to a top-level traitlets package.\")\n"
     ]
    }
   ],
   "source": [
    "%load_ext sql"
   ]
  },
  {
   "cell_type": "code",
   "execution_count": 10,
   "metadata": {
    "collapsed": false
   },
   "outputs": [
    {
     "name": "stdout",
     "output_type": "stream",
     "text": [
      "[sudo] password for jovyan: Restarting PostgreSQL 9.5 database server: main.\n"
     ]
    }
   ],
   "source": [
    "!echo 'redspot' | sudo -S service postgresql restart"
   ]
  },
  {
   "cell_type": "code",
   "execution_count": 11,
   "metadata": {
    "collapsed": false
   },
   "outputs": [],
   "source": [
    "!createdb -U dbuser week7"
   ]
  },
  {
   "cell_type": "code",
   "execution_count": 12,
   "metadata": {
    "collapsed": false
   },
   "outputs": [
    {
     "data": {
      "text/plain": [
       "'Connected: dbuser@week7'"
      ]
     },
     "execution_count": 12,
     "metadata": {},
     "output_type": "execute_result"
    }
   ],
   "source": [
    "%sql postgresql://dbuser@localhost:5432/week7"
   ]
  },
  {
   "cell_type": "code",
   "execution_count": 13,
   "metadata": {
    "collapsed": false
   },
   "outputs": [
    {
     "name": "stdout",
     "output_type": "stream",
     "text": [
      "Done.\n",
      "Done.\n"
     ]
    },
    {
     "data": {
      "text/plain": [
       "[]"
      ]
     },
     "execution_count": 13,
     "metadata": {},
     "output_type": "execute_result"
    }
   ],
   "source": [
    "%%sql\n",
    "DROP TABLE IF EXISTS inspection;\n",
    "CREATE TABLE inspection (\n",
    "    FACILITY_NAME CHAR(200),\n",
    "    FACILITY_KEY INTEGER,\n",
    "    SITE_ADDRESS CHAR(50),\n",
    "    CITY CHAR(30),\n",
    "    STATE CHAR(2),\n",
    "    ZIP CHAR(10),\n",
    "    OWNER_KEY INTEGER,\n",
    "    OWNER_NAME CHAR(200),\n",
    "    NATURE_OF_BUSINESS CHAR(32),\n",
    "    STREET_NUMBER CHAR(32),\n",
    "    STREET_NAME CHAR(32),\n",
    "    STREET_TYPE CHAR(50),\n",
    "    POST_DIRECTIONAL CHAR(200),\n",
    "    PHONE CHAR(20),\n",
    "    PROGRAM_CATEGORY CHAR(20),\n",
    "    PROGRAM_CATEGORY_DESCRIPTION CHAR(200),\n",
    "    INSPECTION_DATE TIMESTAMP,\n",
    "    INSPECTION_TYPE CHAR(20),\n",
    "    INSPECTION_DESC CHAR(200),\n",
    "    SERIAL_NUM CHAR(10),\n",
    "    ACTION_CODE INTEGER,\n",
    "    ACTION_DESC CHAR(60),\n",
    "    RESULT_CODE INTEGER,\n",
    "    RESULT_DESC CHAR(200),\n",
    "    VIOLATION_CODE CHAR(32),\n",
    "    VIOLATION_DESC CHAR(200),\n",
    "    INSPECTION_MEMO CHAR(20)\n",
    "    )"
   ]
  },
  {
   "cell_type": "code",
   "execution_count": 14,
   "metadata": {
    "collapsed": false
   },
   "outputs": [
    {
     "name": "stdout",
     "output_type": "stream",
     "text": [
      "/home/jovyan/work\r\n"
     ]
    }
   ],
   "source": [
    "!pwd"
   ]
  },
  {
   "cell_type": "code",
   "execution_count": 15,
   "metadata": {
    "collapsed": false
   },
   "outputs": [
    {
     "name": "stdout",
     "output_type": "stream",
     "text": [
      "17556 rows affected.\n"
     ]
    },
    {
     "data": {
      "text/plain": [
       "[]"
      ]
     },
     "execution_count": 15,
     "metadata": {},
     "output_type": "execute_result"
    }
   ],
   "source": [
    "%%sql\n",
    "COPY inspection FROM '/home/jovyan/work/fy.csv'\n",
    "CSV\n",
    "HEADER\n",
    "QUOTE '\"'\n",
    "DELIMITER ',';"
   ]
  },
  {
   "cell_type": "markdown",
   "metadata": {},
   "source": [
    "Double checking to make sure all the data was moved over corrrectly. "
   ]
  },
  {
   "cell_type": "code",
   "execution_count": 16,
   "metadata": {
    "collapsed": false
   },
   "outputs": [
    {
     "name": "stdout",
     "output_type": "stream",
     "text": [
      "1 rows affected.\n"
     ]
    },
    {
     "data": {
      "text/html": [
       "<table>\n",
       "    <tr>\n",
       "        <th>count</th>\n",
       "    </tr>\n",
       "    <tr>\n",
       "        <td>17556</td>\n",
       "    </tr>\n",
       "</table>"
      ],
      "text/plain": [
       "[(17556,)]"
      ]
     },
     "execution_count": 16,
     "metadata": {},
     "output_type": "execute_result"
    }
   ],
   "source": [
    "%%sql\n",
    "SELECT COUNT(*) FROM inspection;"
   ]
  },
  {
   "cell_type": "markdown",
   "metadata": {},
   "source": [
    "## Problem 3 - explore your data (30 points)\n",
    "\n",
    "Now that the data is loaded, ask some questions of it!  Identify key variables of interest and note their ranges along with other useful descriptive statistics.  Choose and define a few lines of inquiry, execute queries for each, and describe what you find in your result sets.  Use any query techniques we've seen in class, including aggregate functions, transformations, subqueries, or others as appropriate. \n",
    "\n",
    "If you find interesting patterns, adding plots to your exploration would be useful.\n",
    "\n",
    "Insert a combination of code and text/markdown cells here to explore your data."
   ]
  },
  {
   "cell_type": "markdown",
   "metadata": {},
   "source": [
    "# Extracting a schema from a pgsql instance . Checking to see which columns have null values"
   ]
  },
  {
   "cell_type": "code",
   "execution_count": 17,
   "metadata": {
    "collapsed": false
   },
   "outputs": [
    {
     "name": "stdout",
     "output_type": "stream",
     "text": [
      "27 rows affected.\n"
     ]
    },
    {
     "data": {
      "text/html": [
       "<table>\n",
       "    <tr>\n",
       "        <th>column_name</th>\n",
       "        <th>data_type</th>\n",
       "        <th>character_maximum_length</th>\n",
       "        <th>is_nullable</th>\n",
       "    </tr>\n",
       "    <tr>\n",
       "        <td>facility_name</td>\n",
       "        <td>character</td>\n",
       "        <td>200</td>\n",
       "        <td>YES</td>\n",
       "    </tr>\n",
       "    <tr>\n",
       "        <td>facility_key</td>\n",
       "        <td>integer</td>\n",
       "        <td>None</td>\n",
       "        <td>YES</td>\n",
       "    </tr>\n",
       "    <tr>\n",
       "        <td>site_address</td>\n",
       "        <td>character</td>\n",
       "        <td>50</td>\n",
       "        <td>YES</td>\n",
       "    </tr>\n",
       "    <tr>\n",
       "        <td>city</td>\n",
       "        <td>character</td>\n",
       "        <td>30</td>\n",
       "        <td>YES</td>\n",
       "    </tr>\n",
       "    <tr>\n",
       "        <td>state</td>\n",
       "        <td>character</td>\n",
       "        <td>2</td>\n",
       "        <td>YES</td>\n",
       "    </tr>\n",
       "    <tr>\n",
       "        <td>zip</td>\n",
       "        <td>character</td>\n",
       "        <td>10</td>\n",
       "        <td>YES</td>\n",
       "    </tr>\n",
       "    <tr>\n",
       "        <td>owner_key</td>\n",
       "        <td>integer</td>\n",
       "        <td>None</td>\n",
       "        <td>YES</td>\n",
       "    </tr>\n",
       "    <tr>\n",
       "        <td>owner_name</td>\n",
       "        <td>character</td>\n",
       "        <td>200</td>\n",
       "        <td>YES</td>\n",
       "    </tr>\n",
       "    <tr>\n",
       "        <td>nature_of_business</td>\n",
       "        <td>character</td>\n",
       "        <td>32</td>\n",
       "        <td>YES</td>\n",
       "    </tr>\n",
       "    <tr>\n",
       "        <td>street_number</td>\n",
       "        <td>character</td>\n",
       "        <td>32</td>\n",
       "        <td>YES</td>\n",
       "    </tr>\n",
       "    <tr>\n",
       "        <td>street_name</td>\n",
       "        <td>character</td>\n",
       "        <td>32</td>\n",
       "        <td>YES</td>\n",
       "    </tr>\n",
       "    <tr>\n",
       "        <td>street_type</td>\n",
       "        <td>character</td>\n",
       "        <td>50</td>\n",
       "        <td>YES</td>\n",
       "    </tr>\n",
       "    <tr>\n",
       "        <td>post_directional</td>\n",
       "        <td>character</td>\n",
       "        <td>200</td>\n",
       "        <td>YES</td>\n",
       "    </tr>\n",
       "    <tr>\n",
       "        <td>phone</td>\n",
       "        <td>character</td>\n",
       "        <td>20</td>\n",
       "        <td>YES</td>\n",
       "    </tr>\n",
       "    <tr>\n",
       "        <td>program_category</td>\n",
       "        <td>character</td>\n",
       "        <td>20</td>\n",
       "        <td>YES</td>\n",
       "    </tr>\n",
       "    <tr>\n",
       "        <td>program_category_description</td>\n",
       "        <td>character</td>\n",
       "        <td>200</td>\n",
       "        <td>YES</td>\n",
       "    </tr>\n",
       "    <tr>\n",
       "        <td>inspection_date</td>\n",
       "        <td>timestamp without time zone</td>\n",
       "        <td>None</td>\n",
       "        <td>YES</td>\n",
       "    </tr>\n",
       "    <tr>\n",
       "        <td>inspection_type</td>\n",
       "        <td>character</td>\n",
       "        <td>20</td>\n",
       "        <td>YES</td>\n",
       "    </tr>\n",
       "    <tr>\n",
       "        <td>inspection_desc</td>\n",
       "        <td>character</td>\n",
       "        <td>200</td>\n",
       "        <td>YES</td>\n",
       "    </tr>\n",
       "    <tr>\n",
       "        <td>serial_num</td>\n",
       "        <td>character</td>\n",
       "        <td>10</td>\n",
       "        <td>YES</td>\n",
       "    </tr>\n",
       "    <tr>\n",
       "        <td>action_code</td>\n",
       "        <td>integer</td>\n",
       "        <td>None</td>\n",
       "        <td>YES</td>\n",
       "    </tr>\n",
       "    <tr>\n",
       "        <td>action_desc</td>\n",
       "        <td>character</td>\n",
       "        <td>60</td>\n",
       "        <td>YES</td>\n",
       "    </tr>\n",
       "    <tr>\n",
       "        <td>result_code</td>\n",
       "        <td>integer</td>\n",
       "        <td>None</td>\n",
       "        <td>YES</td>\n",
       "    </tr>\n",
       "    <tr>\n",
       "        <td>result_desc</td>\n",
       "        <td>character</td>\n",
       "        <td>200</td>\n",
       "        <td>YES</td>\n",
       "    </tr>\n",
       "    <tr>\n",
       "        <td>violation_code</td>\n",
       "        <td>character</td>\n",
       "        <td>32</td>\n",
       "        <td>YES</td>\n",
       "    </tr>\n",
       "    <tr>\n",
       "        <td>violation_desc</td>\n",
       "        <td>character</td>\n",
       "        <td>200</td>\n",
       "        <td>YES</td>\n",
       "    </tr>\n",
       "    <tr>\n",
       "        <td>inspection_memo</td>\n",
       "        <td>character</td>\n",
       "        <td>20</td>\n",
       "        <td>YES</td>\n",
       "    </tr>\n",
       "</table>"
      ],
      "text/plain": [
       "[('facility_name', 'character', 200, 'YES'),\n",
       " ('facility_key', 'integer', None, 'YES'),\n",
       " ('site_address', 'character', 50, 'YES'),\n",
       " ('city', 'character', 30, 'YES'),\n",
       " ('state', 'character', 2, 'YES'),\n",
       " ('zip', 'character', 10, 'YES'),\n",
       " ('owner_key', 'integer', None, 'YES'),\n",
       " ('owner_name', 'character', 200, 'YES'),\n",
       " ('nature_of_business', 'character', 32, 'YES'),\n",
       " ('street_number', 'character', 32, 'YES'),\n",
       " ('street_name', 'character', 32, 'YES'),\n",
       " ('street_type', 'character', 50, 'YES'),\n",
       " ('post_directional', 'character', 200, 'YES'),\n",
       " ('phone', 'character', 20, 'YES'),\n",
       " ('program_category', 'character', 20, 'YES'),\n",
       " ('program_category_description', 'character', 200, 'YES'),\n",
       " ('inspection_date', 'timestamp without time zone', None, 'YES'),\n",
       " ('inspection_type', 'character', 20, 'YES'),\n",
       " ('inspection_desc', 'character', 200, 'YES'),\n",
       " ('serial_num', 'character', 10, 'YES'),\n",
       " ('action_code', 'integer', None, 'YES'),\n",
       " ('action_desc', 'character', 60, 'YES'),\n",
       " ('result_code', 'integer', None, 'YES'),\n",
       " ('result_desc', 'character', 200, 'YES'),\n",
       " ('violation_code', 'character', 32, 'YES'),\n",
       " ('violation_desc', 'character', 200, 'YES'),\n",
       " ('inspection_memo', 'character', 20, 'YES')]"
      ]
     },
     "execution_count": 17,
     "metadata": {},
     "output_type": "execute_result"
    }
   ],
   "source": [
    "%%sql\n",
    "SELECT column_name, data_type, character_maximum_length, is_nullable\n",
    "FROM INFORMATION_SCHEMA.COLUMNS WHERE table_name = 'inspection';"
   ]
  },
  {
   "cell_type": "markdown",
   "metadata": {},
   "source": [
    "### Getting the top 10 facilities with the most violations"
   ]
  },
  {
   "cell_type": "code",
   "execution_count": 88,
   "metadata": {
    "collapsed": false
   },
   "outputs": [
    {
     "name": "stdout",
     "output_type": "stream",
     "text": [
      "10 rows affected.\n"
     ]
    },
    {
     "data": {
      "text/html": [
       "<table>\n",
       "    <tr>\n",
       "        <th>facility_name</th>\n",
       "        <th>total_violation</th>\n",
       "    </tr>\n",
       "    <tr>\n",
       "        <td>SMITHS FOOD AND DRUG CENTERS INC                                                                                                                                                                        </td>\n",
       "        <td>149</td>\n",
       "    </tr>\n",
       "    <tr>\n",
       "        <td>ISOTOPES PARK - OVATIONS                                                                                                                                                                                </td>\n",
       "        <td>93</td>\n",
       "    </tr>\n",
       "    <tr>\n",
       "        <td>PER EHSII CECELIA GARCIA OOB LA REYNA DEL SUR                                                                                                                                                           </td>\n",
       "        <td>85</td>\n",
       "    </tr>\n",
       "    <tr>\n",
       "        <td>ISLETA AMPHITHEATER                                                                                                                                                                                     </td>\n",
       "        <td>68</td>\n",
       "    </tr>\n",
       "    <tr>\n",
       "        <td>ECHO INC                                                                                                                                                                                                </td>\n",
       "        <td>68</td>\n",
       "    </tr>\n",
       "    <tr>\n",
       "        <td>DIONS PIZZA                                                                                                                                                                                             </td>\n",
       "        <td>66</td>\n",
       "    </tr>\n",
       "    <tr>\n",
       "        <td>CIRCLE K 8936                                                                                                                                                                                           </td>\n",
       "        <td>65</td>\n",
       "    </tr>\n",
       "    <tr>\n",
       "        <td>TALIN MARKET WORLD FOOD FARE                                                                                                                                                                            </td>\n",
       "        <td>64</td>\n",
       "    </tr>\n",
       "    <tr>\n",
       "        <td>OOB MOM THAI FOOD                                                                                                                                                                                       </td>\n",
       "        <td>61</td>\n",
       "    </tr>\n",
       "    <tr>\n",
       "        <td>CIRCLE K 8940                                                                                                                                                                                           </td>\n",
       "        <td>61</td>\n",
       "    </tr>\n",
       "</table>"
      ],
      "text/plain": [
       "[('SMITHS FOOD AND DRUG CENTERS INC                                                                                                                                                                        ', 149),\n",
       " ('ISOTOPES PARK - OVATIONS                                                                                                                                                                                ', 93),\n",
       " ('PER EHSII CECELIA GARCIA OOB LA REYNA DEL SUR                                                                                                                                                           ', 85),\n",
       " ('ISLETA AMPHITHEATER                                                                                                                                                                                     ', 68),\n",
       " ('ECHO INC                                                                                                                                                                                                ', 68),\n",
       " ('DIONS PIZZA                                                                                                                                                                                             ', 66),\n",
       " ('CIRCLE K 8936                                                                                                                                                                                           ', 65),\n",
       " ('TALIN MARKET WORLD FOOD FARE                                                                                                                                                                            ', 64),\n",
       " ('OOB MOM THAI FOOD                                                                                                                                                                                       ', 61),\n",
       " ('CIRCLE K 8940                                                                                                                                                                                           ', 61)]"
      ]
     },
     "execution_count": 88,
     "metadata": {},
     "output_type": "execute_result"
    }
   ],
   "source": [
    "%%sql\n",
    "SELECT facility_name, count( violation_code) as total_violation\n",
    "FROM inspection\n",
    "group by facility_name\n",
    "order by total_violation desc\n",
    "LIMIT 10;"
   ]
  },
  {
   "cell_type": "markdown",
   "metadata": {},
   "source": [
    "#### Total number of violations"
   ]
  },
  {
   "cell_type": "code",
   "execution_count": 19,
   "metadata": {
    "collapsed": false
   },
   "outputs": [
    {
     "name": "stdout",
     "output_type": "stream",
     "text": [
      "1 rows affected.\n"
     ]
    },
    {
     "data": {
      "text/html": [
       "<table>\n",
       "    <tr>\n",
       "        <th>count</th>\n",
       "    </tr>\n",
       "    <tr>\n",
       "        <td>16548</td>\n",
       "    </tr>\n",
       "</table>"
      ],
      "text/plain": [
       "[(16548,)]"
      ]
     },
     "execution_count": 19,
     "metadata": {},
     "output_type": "execute_result"
    }
   ],
   "source": [
    "%%sql\n",
    "select count(violation_code) \n",
    "from inspection;"
   ]
  },
  {
   "cell_type": "markdown",
   "metadata": {},
   "source": [
    "## The top 10 most frequently occured violations with graph to illustrate."
   ]
  },
  {
   "cell_type": "code",
   "execution_count": 20,
   "metadata": {
    "collapsed": false
   },
   "outputs": [
    {
     "name": "stdout",
     "output_type": "stream",
     "text": [
      "10 rows affected.\n"
     ]
    },
    {
     "data": {
      "text/html": [
       "<table>\n",
       "    <tr>\n",
       "        <th>violation_desc</th>\n",
       "        <th>total_occurence</th>\n",
       "    </tr>\n",
       "    <tr>\n",
       "        <td>Plumbing: Improperly installed/maintained/supplied                                                                                                                                                      </td>\n",
       "        <td>492</td>\n",
       "    </tr>\n",
       "    <tr>\n",
       "        <td>Non-Food contact surfaces                                                                                                                                                                               </td>\n",
       "        <td>446</td>\n",
       "    </tr>\n",
       "    <tr>\n",
       "        <td>Improper sanitizing                                                                                                                                                                                     </td>\n",
       "        <td>434</td>\n",
       "    </tr>\n",
       "    <tr>\n",
       "        <td>Food unprotected                                                                                                                                                                                        </td>\n",
       "        <td>425</td>\n",
       "    </tr>\n",
       "    <tr>\n",
       "        <td>Floors, Walls, Ceilings                                                                                                                                                                                 </td>\n",
       "        <td>406</td>\n",
       "    </tr>\n",
       "    <tr>\n",
       "        <td>Food contact surfaces                                                                                                                                                                                   </td>\n",
       "        <td>251</td>\n",
       "    </tr>\n",
       "    <tr>\n",
       "        <td>Cold Holding                                                                                                                                                                                            </td>\n",
       "        <td>201</td>\n",
       "    </tr>\n",
       "    <tr>\n",
       "        <td>Thermometers not provided, not accurate/consp                                                                                                                                                           </td>\n",
       "        <td>183</td>\n",
       "    </tr>\n",
       "    <tr>\n",
       "        <td>Hot Holding                                                                                                                                                                                             </td>\n",
       "        <td>175</td>\n",
       "    </tr>\n",
       "    <tr>\n",
       "        <td>Other Operations - Lighting                                                                                                                                                                             </td>\n",
       "        <td>142</td>\n",
       "    </tr>\n",
       "</table>"
      ],
      "text/plain": [
       "[('Plumbing: Improperly installed/maintained/supplied                                                                                                                                                      ', 492),\n",
       " ('Non-Food contact surfaces                                                                                                                                                                               ', 446),\n",
       " ('Improper sanitizing                                                                                                                                                                                     ', 434),\n",
       " ('Food unprotected                                                                                                                                                                                        ', 425),\n",
       " ('Floors, Walls, Ceilings                                                                                                                                                                                 ', 406),\n",
       " ('Food contact surfaces                                                                                                                                                                                   ', 251),\n",
       " ('Cold Holding                                                                                                                                                                                            ', 201),\n",
       " ('Thermometers not provided, not accurate/consp                                                                                                                                                           ', 183),\n",
       " ('Hot Holding                                                                                                                                                                                             ', 175),\n",
       " ('Other Operations - Lighting                                                                                                                                                                             ', 142)]"
      ]
     },
     "execution_count": 20,
     "metadata": {},
     "output_type": "execute_result"
    }
   ],
   "source": [
    "%%sql\n",
    "select violation_desc, count(violation_code) as total_occurence\n",
    "from inspection\n",
    "where violation_desc not in ('No Violations Found', 'Additional Comments', 'Delivered Informational Brochure')\n",
    "group by violation_desc\n",
    "order by total_occurence desc\n",
    "limit 10;"
   ]
  },
  {
   "cell_type": "code",
   "execution_count": 21,
   "metadata": {
    "collapsed": false
   },
   "outputs": [
    {
     "name": "stderr",
     "output_type": "stream",
     "text": [
      "/opt/conda/lib/python3.5/site-packages/matplotlib/font_manager.py:273: UserWarning: Matplotlib is building the font cache using fc-list. This may take a moment.\n",
      "  warnings.warn('Matplotlib is building the font cache using fc-list. This may take a moment.')\n",
      "/opt/conda/lib/python3.5/site-packages/matplotlib/font_manager.py:273: UserWarning: Matplotlib is building the font cache using fc-list. This may take a moment.\n",
      "  warnings.warn('Matplotlib is building the font cache using fc-list. This may take a moment.')\n"
     ]
    },
    {
     "data": {
      "text/plain": [
       "<Container object of 10 artists>"
      ]
     },
     "execution_count": 21,
     "metadata": {},
     "output_type": "execute_result"
    },
    {
     "data": {
      "image/png": "[encoded data removed]",
      "text/plain": [
       "<matplotlib.figure.Figure at 0x7f509c312ac8>"
      ]
     },
     "metadata": {},
     "output_type": "display_data"
    }
   ],
   "source": [
    "%matplotlib inline\n",
    "result = _\n",
    "result.bar()"
   ]
  },
  {
   "cell_type": "markdown",
   "metadata": {},
   "source": [
    "## Total number count of no violations."
   ]
  },
  {
   "cell_type": "code",
   "execution_count": 22,
   "metadata": {
    "collapsed": false
   },
   "outputs": [
    {
     "name": "stdout",
     "output_type": "stream",
     "text": [
      "1 rows affected.\n"
     ]
    },
    {
     "data": {
      "text/html": [
       "<table>\n",
       "    <tr>\n",
       "        <th>violation_desc</th>\n",
       "        <th>total_occurence</th>\n",
       "    </tr>\n",
       "    <tr>\n",
       "        <td>No Violations Found                                                                                                                                                                                     </td>\n",
       "        <td>3434</td>\n",
       "    </tr>\n",
       "</table>"
      ],
      "text/plain": [
       "[('No Violations Found                                                                                                                                                                                     ', 3434)]"
      ]
     },
     "execution_count": 22,
     "metadata": {},
     "output_type": "execute_result"
    }
   ],
   "source": [
    "%%sql\n",
    "select violation_desc, count(violation_code) as total_occurence\n",
    "from inspection\n",
    "where violation_desc = 'No Violations Found'\n",
    "group by violation_desc;"
   ]
  },
  {
   "cell_type": "markdown",
   "metadata": {},
   "source": [
    "#### CUBE generates summaries for the entire set of attributes and its possible subsets. It seems like \"None\" is still included in the result because it is used in the group by statement that includes all three columns, facility and owner names and violation_desc. The other filters did seem to work as the description didn't include no violations found etc. Some of the values are null for facility/owner names. This could generate issues from query as information is not available for one or the other or even both, in some scenarios. The challenge is consistent with the null value challenges discussed above. "
   ]
  },
  {
   "cell_type": "code",
   "execution_count": 83,
   "metadata": {
    "collapsed": false
   },
   "outputs": [
    {
     "name": "stdout",
     "output_type": "stream",
     "text": [
      "6 rows affected.\n"
     ]
    },
    {
     "data": {
      "text/html": [
       "<table>\n",
       "    <tr>\n",
       "        <th>facility_name</th>\n",
       "        <th>owner_name</th>\n",
       "        <th>violation_desc</th>\n",
       "        <th>total_count</th>\n",
       "    </tr>\n",
       "    <tr>\n",
       "        <td>None</td>\n",
       "        <td>None</td>\n",
       "        <td>Food unprotected                                                                                                                                                                                        </td>\n",
       "        <td>425</td>\n",
       "    </tr>\n",
       "    <tr>\n",
       "        <td>None</td>\n",
       "        <td>None</td>\n",
       "        <td>Improper sanitizing                                                                                                                                                                                     </td>\n",
       "        <td>434</td>\n",
       "    </tr>\n",
       "    <tr>\n",
       "        <td>None</td>\n",
       "        <td>None</td>\n",
       "        <td>Floors, Walls, Ceilings                                                                                                                                                                                 </td>\n",
       "        <td>406</td>\n",
       "    </tr>\n",
       "    <tr>\n",
       "        <td>None</td>\n",
       "        <td>None</td>\n",
       "        <td>None</td>\n",
       "        <td>5103</td>\n",
       "    </tr>\n",
       "    <tr>\n",
       "        <td>None</td>\n",
       "        <td>None</td>\n",
       "        <td>Plumbing: Improperly installed/maintained/supplied                                                                                                                                                      </td>\n",
       "        <td>492</td>\n",
       "    </tr>\n",
       "    <tr>\n",
       "        <td>None</td>\n",
       "        <td>None</td>\n",
       "        <td>Non-Food contact surfaces                                                                                                                                                                               </td>\n",
       "        <td>446</td>\n",
       "    </tr>\n",
       "</table>"
      ],
      "text/plain": [
       "[(None, None, 'Food unprotected                                                                                                                                                                                        ', 425),\n",
       " (None, None, 'Improper sanitizing                                                                                                                                                                                     ', 434),\n",
       " (None, None, 'Floors, Walls, Ceilings                                                                                                                                                                                 ', 406),\n",
       " (None, None, None, 5103),\n",
       " (None, None, 'Plumbing: Improperly installed/maintained/supplied                                                                                                                                                      ', 492),\n",
       " (None, None, 'Non-Food contact surfaces                                                                                                                                                                               ', 446)]"
      ]
     },
     "execution_count": 83,
     "metadata": {},
     "output_type": "execute_result"
    }
   ],
   "source": [
    "%%sql\n",
    "SELECT distinct facility_name, owner_name, violation_desc, COUNT(*) AS total_count\n",
    "FROM inspection\n",
    "where violation_desc not in ('No Violations Found', 'Additional Comments', 'None', 'Delivered Informational Brochure')\n",
    "GROUP BY CUBE (facility_name, owner_name, violation_desc)\n",
    "HAVING COUNT(*) > 300;"
   ]
  },
  {
   "cell_type": "markdown",
   "metadata": {},
   "source": [
    "# Extract dates from inspection date to examine the relationship, if any, with having an inspection done. Determining if this could be a cyclical effect, with certain months having more inspection violations more than others."
   ]
  },
  {
   "cell_type": "code",
   "execution_count": 38,
   "metadata": {
    "collapsed": false
   },
   "outputs": [
    {
     "name": "stdout",
     "output_type": "stream",
     "text": [
      "10 rows affected.\n"
     ]
    },
    {
     "data": {
      "text/html": [
       "<table>\n",
       "    <tr>\n",
       "        <th>date_part</th>\n",
       "        <th>date_part_1</th>\n",
       "        <th>date_part_2</th>\n",
       "    </tr>\n",
       "    <tr>\n",
       "        <td>22.0</td>\n",
       "        <td>9.0</td>\n",
       "        <td>2009.0</td>\n",
       "    </tr>\n",
       "    <tr>\n",
       "        <td>21.0</td>\n",
       "        <td>10.0</td>\n",
       "        <td>2009.0</td>\n",
       "    </tr>\n",
       "    <tr>\n",
       "        <td>24.0</td>\n",
       "        <td>7.0</td>\n",
       "        <td>2009.0</td>\n",
       "    </tr>\n",
       "    <tr>\n",
       "        <td>21.0</td>\n",
       "        <td>10.0</td>\n",
       "        <td>2009.0</td>\n",
       "    </tr>\n",
       "    <tr>\n",
       "        <td>21.0</td>\n",
       "        <td>10.0</td>\n",
       "        <td>2009.0</td>\n",
       "    </tr>\n",
       "    <tr>\n",
       "        <td>14.0</td>\n",
       "        <td>4.0</td>\n",
       "        <td>2010.0</td>\n",
       "    </tr>\n",
       "    <tr>\n",
       "        <td>14.0</td>\n",
       "        <td>4.0</td>\n",
       "        <td>2010.0</td>\n",
       "    </tr>\n",
       "    <tr>\n",
       "        <td>23.0</td>\n",
       "        <td>3.0</td>\n",
       "        <td>2010.0</td>\n",
       "    </tr>\n",
       "    <tr>\n",
       "        <td>23.0</td>\n",
       "        <td>3.0</td>\n",
       "        <td>2010.0</td>\n",
       "    </tr>\n",
       "    <tr>\n",
       "        <td>23.0</td>\n",
       "        <td>3.0</td>\n",
       "        <td>2010.0</td>\n",
       "    </tr>\n",
       "</table>"
      ],
      "text/plain": [
       "[(22.0, 9.0, 2009.0),\n",
       " (21.0, 10.0, 2009.0),\n",
       " (24.0, 7.0, 2009.0),\n",
       " (21.0, 10.0, 2009.0),\n",
       " (21.0, 10.0, 2009.0),\n",
       " (14.0, 4.0, 2010.0),\n",
       " (14.0, 4.0, 2010.0),\n",
       " (23.0, 3.0, 2010.0),\n",
       " (23.0, 3.0, 2010.0),\n",
       " (23.0, 3.0, 2010.0)]"
      ]
     },
     "execution_count": 38,
     "metadata": {},
     "output_type": "execute_result"
    }
   ],
   "source": [
    "%%sql\n",
    "SELECT EXTRACT(DAY FROM inspection_date), EXTRACT(MONTH FROM inspection_date), EXTRACT(YEAR FROM inspection_date)\n",
    "FROM inspection\n",
    "LIMIT 10;"
   ]
  },
  {
   "cell_type": "code",
   "execution_count": 56,
   "metadata": {
    "collapsed": false
   },
   "outputs": [
    {
     "name": "stdout",
     "output_type": "stream",
     "text": [
      "10 rows affected.\n"
     ]
    },
    {
     "data": {
      "text/html": [
       "<table>\n",
       "    <tr>\n",
       "        <th>day_of_year</th>\n",
       "        <th>year</th>\n",
       "        <th>month</th>\n",
       "        <th>day</th>\n",
       "        <th>day_of_week_str</th>\n",
       "        <th>day_of_week</th>\n",
       "        <th>is_weekend</th>\n",
       "        <th>is_weekday</th>\n",
       "        <th>hour_24</th>\n",
       "        <th>quarter</th>\n",
       "        <th>inspection_desc</th>\n",
       "    </tr>\n",
       "    <tr>\n",
       "        <td>2009-10-21</td>\n",
       "        <td>2009</td>\n",
       "        <td>10</td>\n",
       "        <td>21</td>\n",
       "        <td>Wednesday</td>\n",
       "        <td>4</td>\n",
       "        <td>0</td>\n",
       "        <td>1</td>\n",
       "        <td>00</td>\n",
       "        <td>4</td>\n",
       "        <td>ROUTINE FOOD INSPECTION                                                                                                                                                                                 </td>\n",
       "    </tr>\n",
       "    <tr>\n",
       "        <td>2009-10-21</td>\n",
       "        <td>2009</td>\n",
       "        <td>10</td>\n",
       "        <td>21</td>\n",
       "        <td>Wednesday</td>\n",
       "        <td>4</td>\n",
       "        <td>0</td>\n",
       "        <td>1</td>\n",
       "        <td>00</td>\n",
       "        <td>4</td>\n",
       "        <td>ROUTINE FOOD INSPECTION                                                                                                                                                                                 </td>\n",
       "    </tr>\n",
       "    <tr>\n",
       "        <td>2010-04-14</td>\n",
       "        <td>2010</td>\n",
       "        <td>04</td>\n",
       "        <td>14</td>\n",
       "        <td>Wednesday</td>\n",
       "        <td>4</td>\n",
       "        <td>0</td>\n",
       "        <td>1</td>\n",
       "        <td>00</td>\n",
       "        <td>2</td>\n",
       "        <td>ROUTINE FOOD INSPECTION                                                                                                                                                                                 </td>\n",
       "    </tr>\n",
       "    <tr>\n",
       "        <td>2010-04-14</td>\n",
       "        <td>2010</td>\n",
       "        <td>04</td>\n",
       "        <td>14</td>\n",
       "        <td>Wednesday</td>\n",
       "        <td>4</td>\n",
       "        <td>0</td>\n",
       "        <td>1</td>\n",
       "        <td>00</td>\n",
       "        <td>2</td>\n",
       "        <td>ROUTINE FOOD INSPECTION                                                                                                                                                                                 </td>\n",
       "    </tr>\n",
       "    <tr>\n",
       "        <td>2010-03-23</td>\n",
       "        <td>2010</td>\n",
       "        <td>03</td>\n",
       "        <td>23</td>\n",
       "        <td>Tuesday  </td>\n",
       "        <td>3</td>\n",
       "        <td>0</td>\n",
       "        <td>1</td>\n",
       "        <td>00</td>\n",
       "        <td>1</td>\n",
       "        <td>ROUTINE FOOD INSPECTION                                                                                                                                                                                 </td>\n",
       "    </tr>\n",
       "    <tr>\n",
       "        <td>2010-03-23</td>\n",
       "        <td>2010</td>\n",
       "        <td>03</td>\n",
       "        <td>23</td>\n",
       "        <td>Tuesday  </td>\n",
       "        <td>3</td>\n",
       "        <td>0</td>\n",
       "        <td>1</td>\n",
       "        <td>00</td>\n",
       "        <td>1</td>\n",
       "        <td>ROUTINE FOOD INSPECTION                                                                                                                                                                                 </td>\n",
       "    </tr>\n",
       "    <tr>\n",
       "        <td>2010-03-23</td>\n",
       "        <td>2010</td>\n",
       "        <td>03</td>\n",
       "        <td>23</td>\n",
       "        <td>Tuesday  </td>\n",
       "        <td>3</td>\n",
       "        <td>0</td>\n",
       "        <td>1</td>\n",
       "        <td>00</td>\n",
       "        <td>1</td>\n",
       "        <td>ROUTINE FOOD INSPECTION                                                                                                                                                                                 </td>\n",
       "    </tr>\n",
       "    <tr>\n",
       "        <td>2009-12-15</td>\n",
       "        <td>2009</td>\n",
       "        <td>12</td>\n",
       "        <td>15</td>\n",
       "        <td>Tuesday  </td>\n",
       "        <td>3</td>\n",
       "        <td>0</td>\n",
       "        <td>1</td>\n",
       "        <td>00</td>\n",
       "        <td>4</td>\n",
       "        <td>EMERGENCY RESPONSE                                                                                                                                                                                      </td>\n",
       "    </tr>\n",
       "    <tr>\n",
       "        <td>2009-12-15</td>\n",
       "        <td>2009</td>\n",
       "        <td>12</td>\n",
       "        <td>15</td>\n",
       "        <td>Tuesday  </td>\n",
       "        <td>3</td>\n",
       "        <td>0</td>\n",
       "        <td>1</td>\n",
       "        <td>00</td>\n",
       "        <td>4</td>\n",
       "        <td>ROUTINE FOOD INSPECTION                                                                                                                                                                                 </td>\n",
       "    </tr>\n",
       "    <tr>\n",
       "        <td>2009-12-15</td>\n",
       "        <td>2009</td>\n",
       "        <td>12</td>\n",
       "        <td>15</td>\n",
       "        <td>Tuesday  </td>\n",
       "        <td>3</td>\n",
       "        <td>0</td>\n",
       "        <td>1</td>\n",
       "        <td>00</td>\n",
       "        <td>4</td>\n",
       "        <td>ROUTINE FOOD INSPECTION                                                                                                                                                                                 </td>\n",
       "    </tr>\n",
       "</table>"
      ],
      "text/plain": [
       "[('2009-10-21', '2009', '10', '21', 'Wednesday', '4', 0, 1, '00', '4', 'ROUTINE FOOD INSPECTION                                                                                                                                                                                 '),\n",
       " ('2009-10-21', '2009', '10', '21', 'Wednesday', '4', 0, 1, '00', '4', 'ROUTINE FOOD INSPECTION                                                                                                                                                                                 '),\n",
       " ('2010-04-14', '2010', '04', '14', 'Wednesday', '4', 0, 1, '00', '2', 'ROUTINE FOOD INSPECTION                                                                                                                                                                                 '),\n",
       " ('2010-04-14', '2010', '04', '14', 'Wednesday', '4', 0, 1, '00', '2', 'ROUTINE FOOD INSPECTION                                                                                                                                                                                 '),\n",
       " ('2010-03-23', '2010', '03', '23', 'Tuesday  ', '3', 0, 1, '00', '1', 'ROUTINE FOOD INSPECTION                                                                                                                                                                                 '),\n",
       " ('2010-03-23', '2010', '03', '23', 'Tuesday  ', '3', 0, 1, '00', '1', 'ROUTINE FOOD INSPECTION                                                                                                                                                                                 '),\n",
       " ('2010-03-23', '2010', '03', '23', 'Tuesday  ', '3', 0, 1, '00', '1', 'ROUTINE FOOD INSPECTION                                                                                                                                                                                 '),\n",
       " ('2009-12-15', '2009', '12', '15', 'Tuesday  ', '3', 0, 1, '00', '4', 'EMERGENCY RESPONSE                                                                                                                                                                                      '),\n",
       " ('2009-12-15', '2009', '12', '15', 'Tuesday  ', '3', 0, 1, '00', '4', 'ROUTINE FOOD INSPECTION                                                                                                                                                                                 '),\n",
       " ('2009-12-15', '2009', '12', '15', 'Tuesday  ', '3', 0, 1, '00', '4', 'ROUTINE FOOD INSPECTION                                                                                                                                                                                 ')]"
      ]
     },
     "execution_count": 56,
     "metadata": {},
     "output_type": "execute_result"
    }
   ],
   "source": [
    "%%sql\n",
    "SELECT TO_CHAR(inspection_date, 'YYYY-MM-DD') AS day_of_year, \n",
    "    TO_CHAR(inspection_date, 'YYYY') AS year,\n",
    "    TO_CHAR(inspection_date, 'MM') AS month,\n",
    "    TO_CHAR(inspection_date, 'DD') AS day,\n",
    "    TO_CHAR(inspection_date, 'Day') AS day_of_week_str,\n",
    "    TO_CHAR(inspection_date, 'D') AS day_of_week,\n",
    "    CASE WHEN CAST(TO_CHAR(inspection_date, 'D') AS INTEGER) >= 6 \n",
    "        THEN 1 \n",
    "        ELSE 0\n",
    "    END AS is_weekend,\n",
    "    CASE WHEN CAST(TO_CHAR(inspection_date, 'D') AS INTEGER) < 6 \n",
    "        THEN 1 \n",
    "        ELSE 0\n",
    "    END AS is_weekday,\n",
    "    TO_CHAR(inspection_date, 'HH24') AS hour_24,\n",
    "    TO_CHAR(inspection_date, 'Q') AS quarter,\n",
    "    inspection_desc as inspection_desc\n",
    "FROM inspection\n",
    "LIMIT 10;"
   ]
  },
  {
   "cell_type": "code",
   "execution_count": 63,
   "metadata": {
    "collapsed": false
   },
   "outputs": [
    {
     "name": "stdout",
     "output_type": "stream",
     "text": [
      "Done.\n",
      "Done.\n"
     ]
    },
    {
     "data": {
      "text/plain": [
       "[]"
      ]
     },
     "execution_count": 63,
     "metadata": {},
     "output_type": "execute_result"
    }
   ],
   "source": [
    "%%sql\n",
    "DROP TABLE IF EXISTS days;\n",
    "CREATE TABLE days_inspec (\n",
    "    id SERIAL,\n",
    "    day_of_year CHAR(10),\n",
    "    year INTEGER,\n",
    "    month INTEGER,\n",
    "    day INTEGER,\n",
    "    day_of_week_str CHAR(9),\n",
    "    day_of_week INTEGER,\n",
    "    is_weekend BOOLEAN,\n",
    "    is_weekday BOOLEAN,\n",
    "    hour_24 INTEGER,\n",
    "    quarter INTEGER,\n",
    "    inspection_desc char(50)\n",
    ");"
   ]
  },
  {
   "cell_type": "code",
   "execution_count": 65,
   "metadata": {
    "collapsed": false
   },
   "outputs": [
    {
     "name": "stdout",
     "output_type": "stream",
     "text": [
      "1204 rows affected.\n"
     ]
    },
    {
     "data": {
      "text/plain": [
       "[]"
      ]
     },
     "execution_count": 65,
     "metadata": {},
     "output_type": "execute_result"
    }
   ],
   "source": [
    "%%sql\n",
    "INSERT INTO days_inspec (day_of_year, year, month, day, day_of_week_str, day_of_week,\n",
    "                  is_weekend, is_weekday, hour_24, quarter, inspection_desc)\n",
    "SELECT DISTINCT TO_CHAR( inspection_date, 'YYYY-MM-DD') AS day_of_year, \n",
    "    CAST(TO_CHAR( inspection_date, 'YYYY') AS INTEGER) AS year,\n",
    "    CAST(TO_CHAR( inspection_date, 'MM') AS INTEGER) AS month,\n",
    "    CAST(TO_CHAR( inspection_date, 'DD') AS INTEGER) AS day,\n",
    "    TO_CHAR( inspection_date, 'Day') AS day_of_week_str,\n",
    "    CAST(TO_CHAR( inspection_date, 'D') AS INTEGER) AS day_of_week,\n",
    "    CASE WHEN CAST(TO_CHAR( inspection_date, 'D') AS INTEGER) IN (1, 7) \n",
    "        THEN TRUE\n",
    "        ELSE FALSE\n",
    "    END AS is_weekend,\n",
    "    CASE WHEN CAST(TO_CHAR( inspection_date, 'D') AS INTEGER) NOT IN (1, 7) \n",
    "        THEN TRUE\n",
    "        ELSE FALSE\n",
    "    END AS is_weekday,\n",
    "    CAST(TO_CHAR( inspection_date, 'HH24') AS INTEGER) AS hour_24,\n",
    "    CAST(TO_CHAR( inspection_date, 'Q') AS INTEGER) AS quarter,\n",
    "    inspection_desc as inspection\n",
    "FROM inspection;"
   ]
  },
  {
   "cell_type": "code",
   "execution_count": 70,
   "metadata": {
    "collapsed": false
   },
   "outputs": [
    {
     "name": "stdout",
     "output_type": "stream",
     "text": [
      "10 rows affected.\n"
     ]
    },
    {
     "data": {
      "text/html": [
       "<table>\n",
       "    <tr>\n",
       "        <th>id</th>\n",
       "        <th>day_of_year</th>\n",
       "        <th>year</th>\n",
       "        <th>month</th>\n",
       "        <th>day</th>\n",
       "        <th>day_of_week_str</th>\n",
       "        <th>day_of_week</th>\n",
       "        <th>is_weekend</th>\n",
       "        <th>is_weekday</th>\n",
       "        <th>hour_24</th>\n",
       "        <th>quarter</th>\n",
       "        <th>inspection_desc</th>\n",
       "    </tr>\n",
       "    <tr>\n",
       "        <td>1</td>\n",
       "        <td>2010-04-12</td>\n",
       "        <td>2010</td>\n",
       "        <td>4</td>\n",
       "        <td>12</td>\n",
       "        <td>Monday   </td>\n",
       "        <td>2</td>\n",
       "        <td>False</td>\n",
       "        <td>True</td>\n",
       "        <td>0</td>\n",
       "        <td>2</td>\n",
       "        <td>ADDITIONAL SERVICE PROVIDED                       </td>\n",
       "    </tr>\n",
       "    <tr>\n",
       "        <td>2</td>\n",
       "        <td>2009-12-04</td>\n",
       "        <td>2009</td>\n",
       "        <td>12</td>\n",
       "        <td>4</td>\n",
       "        <td>Friday   </td>\n",
       "        <td>6</td>\n",
       "        <td>False</td>\n",
       "        <td>True</td>\n",
       "        <td>0</td>\n",
       "        <td>4</td>\n",
       "        <td>EMERGENCY RESPONSE                                </td>\n",
       "    </tr>\n",
       "    <tr>\n",
       "        <td>3</td>\n",
       "        <td>2010-05-26</td>\n",
       "        <td>2010</td>\n",
       "        <td>5</td>\n",
       "        <td>26</td>\n",
       "        <td>Wednesday</td>\n",
       "        <td>4</td>\n",
       "        <td>False</td>\n",
       "        <td>True</td>\n",
       "        <td>0</td>\n",
       "        <td>2</td>\n",
       "        <td>New Business Inspection                           </td>\n",
       "    </tr>\n",
       "    <tr>\n",
       "        <td>4</td>\n",
       "        <td>2009-10-23</td>\n",
       "        <td>2009</td>\n",
       "        <td>10</td>\n",
       "        <td>23</td>\n",
       "        <td>Friday   </td>\n",
       "        <td>6</td>\n",
       "        <td>False</td>\n",
       "        <td>True</td>\n",
       "        <td>0</td>\n",
       "        <td>4</td>\n",
       "        <td>ROUTINE FOOD INSPECTION                           </td>\n",
       "    </tr>\n",
       "    <tr>\n",
       "        <td>5</td>\n",
       "        <td>2010-01-15</td>\n",
       "        <td>2010</td>\n",
       "        <td>1</td>\n",
       "        <td>15</td>\n",
       "        <td>Friday   </td>\n",
       "        <td>6</td>\n",
       "        <td>False</td>\n",
       "        <td>True</td>\n",
       "        <td>0</td>\n",
       "        <td>1</td>\n",
       "        <td>MANAGERIAL ASSISTANCE                             </td>\n",
       "    </tr>\n",
       "    <tr>\n",
       "        <td>6</td>\n",
       "        <td>2010-06-18</td>\n",
       "        <td>2010</td>\n",
       "        <td>6</td>\n",
       "        <td>18</td>\n",
       "        <td>Friday   </td>\n",
       "        <td>6</td>\n",
       "        <td>False</td>\n",
       "        <td>True</td>\n",
       "        <td>0</td>\n",
       "        <td>2</td>\n",
       "        <td>MANAGERIAL ASSISTANCE                             </td>\n",
       "    </tr>\n",
       "    <tr>\n",
       "        <td>7</td>\n",
       "        <td>2009-12-01</td>\n",
       "        <td>2009</td>\n",
       "        <td>12</td>\n",
       "        <td>1</td>\n",
       "        <td>Tuesday  </td>\n",
       "        <td>3</td>\n",
       "        <td>False</td>\n",
       "        <td>True</td>\n",
       "        <td>0</td>\n",
       "        <td>4</td>\n",
       "        <td>New Business Inspection                           </td>\n",
       "    </tr>\n",
       "    <tr>\n",
       "        <td>8</td>\n",
       "        <td>2009-08-14</td>\n",
       "        <td>2009</td>\n",
       "        <td>8</td>\n",
       "        <td>14</td>\n",
       "        <td>Friday   </td>\n",
       "        <td>6</td>\n",
       "        <td>False</td>\n",
       "        <td>True</td>\n",
       "        <td>0</td>\n",
       "        <td>3</td>\n",
       "        <td>FOOD FOLLOW-UP INSPECTION                         </td>\n",
       "    </tr>\n",
       "    <tr>\n",
       "        <td>9</td>\n",
       "        <td>2010-01-22</td>\n",
       "        <td>2010</td>\n",
       "        <td>1</td>\n",
       "        <td>22</td>\n",
       "        <td>Friday   </td>\n",
       "        <td>6</td>\n",
       "        <td>False</td>\n",
       "        <td>True</td>\n",
       "        <td>0</td>\n",
       "        <td>1</td>\n",
       "        <td>New Business Inspection                           </td>\n",
       "    </tr>\n",
       "    <tr>\n",
       "        <td>10</td>\n",
       "        <td>2010-03-08</td>\n",
       "        <td>2010</td>\n",
       "        <td>3</td>\n",
       "        <td>8</td>\n",
       "        <td>Monday   </td>\n",
       "        <td>2</td>\n",
       "        <td>False</td>\n",
       "        <td>True</td>\n",
       "        <td>0</td>\n",
       "        <td>1</td>\n",
       "        <td>PHONE CALL                                        </td>\n",
       "    </tr>\n",
       "</table>"
      ],
      "text/plain": [
       "[(1, '2010-04-12', 2010, 4, 12, 'Monday   ', 2, False, True, 0, 2, 'ADDITIONAL SERVICE PROVIDED                       '),\n",
       " (2, '2009-12-04', 2009, 12, 4, 'Friday   ', 6, False, True, 0, 4, 'EMERGENCY RESPONSE                                '),\n",
       " (3, '2010-05-26', 2010, 5, 26, 'Wednesday', 4, False, True, 0, 2, 'New Business Inspection                           '),\n",
       " (4, '2009-10-23', 2009, 10, 23, 'Friday   ', 6, False, True, 0, 4, 'ROUTINE FOOD INSPECTION                           '),\n",
       " (5, '2010-01-15', 2010, 1, 15, 'Friday   ', 6, False, True, 0, 1, 'MANAGERIAL ASSISTANCE                             '),\n",
       " (6, '2010-06-18', 2010, 6, 18, 'Friday   ', 6, False, True, 0, 2, 'MANAGERIAL ASSISTANCE                             '),\n",
       " (7, '2009-12-01', 2009, 12, 1, 'Tuesday  ', 3, False, True, 0, 4, 'New Business Inspection                           '),\n",
       " (8, '2009-08-14', 2009, 8, 14, 'Friday   ', 6, False, True, 0, 3, 'FOOD FOLLOW-UP INSPECTION                         '),\n",
       " (9, '2010-01-22', 2010, 1, 22, 'Friday   ', 6, False, True, 0, 1, 'New Business Inspection                           '),\n",
       " (10, '2010-03-08', 2010, 3, 8, 'Monday   ', 2, False, True, 0, 1, 'PHONE CALL                                        ')]"
      ]
     },
     "execution_count": 70,
     "metadata": {},
     "output_type": "execute_result"
    }
   ],
   "source": [
    "%%sql\n",
    "select * from days_inspec limit 10;"
   ]
  },
  {
   "cell_type": "code",
   "execution_count": 80,
   "metadata": {
    "collapsed": false
   },
   "outputs": [
    {
     "name": "stdout",
     "output_type": "stream",
     "text": [
      "10 rows affected.\n"
     ]
    },
    {
     "data": {
      "text/html": [
       "<table>\n",
       "    <tr>\n",
       "        <th>month</th>\n",
       "        <th>total_count</th>\n",
       "    </tr>\n",
       "    <tr>\n",
       "        <td>12</td>\n",
       "        <td>262</td>\n",
       "    </tr>\n",
       "    <tr>\n",
       "        <td>9</td>\n",
       "        <td>246</td>\n",
       "    </tr>\n",
       "    <tr>\n",
       "        <td>10</td>\n",
       "        <td>238</td>\n",
       "    </tr>\n",
       "    <tr>\n",
       "        <td>11</td>\n",
       "        <td>216</td>\n",
       "    </tr>\n",
       "    <tr>\n",
       "        <td>1</td>\n",
       "        <td>206</td>\n",
       "    </tr>\n",
       "    <tr>\n",
       "        <td>3</td>\n",
       "        <td>202</td>\n",
       "    </tr>\n",
       "    <tr>\n",
       "        <td>8</td>\n",
       "        <td>198</td>\n",
       "    </tr>\n",
       "    <tr>\n",
       "        <td>7</td>\n",
       "        <td>184</td>\n",
       "    </tr>\n",
       "    <tr>\n",
       "        <td>6</td>\n",
       "        <td>182</td>\n",
       "    </tr>\n",
       "    <tr>\n",
       "        <td>4</td>\n",
       "        <td>172</td>\n",
       "    </tr>\n",
       "</table>"
      ],
      "text/plain": [
       "[(12, 262),\n",
       " (9, 246),\n",
       " (10, 238),\n",
       " (11, 216),\n",
       " (1, 206),\n",
       " (3, 202),\n",
       " (8, 198),\n",
       " (7, 184),\n",
       " (6, 182),\n",
       " (4, 172)]"
      ]
     },
     "execution_count": 80,
     "metadata": {},
     "output_type": "execute_result"
    }
   ],
   "source": [
    "%%sql\n",
    "select month, count(*) as total_count\n",
    "from days_inspec\n",
    "where inspection_desc not in ('No Violations Found', 'None','Additional Comments', 'None', 'Delivered Informational Brochure')\n",
    "group by month\n",
    "order by total_count desc\n",
    "limit 10;"
   ]
  },
  {
   "cell_type": "code",
   "execution_count": 81,
   "metadata": {
    "collapsed": false
   },
   "outputs": [
    {
     "data": {
      "text/plain": [
       "<Container object of 10 artists>"
      ]
     },
     "execution_count": 81,
     "metadata": {},
     "output_type": "execute_result"
    },
    {
     "data": {
      "image/png": "[encoded data removed]",
      "text/plain": [
       "<matplotlib.figure.Figure at 0x7f509c0483c8>"
      ]
     },
     "metadata": {},
     "output_type": "display_data"
    }
   ],
   "source": [
    "%matplotlib inline\n",
    "result = _\n",
    "result.bar()"
   ]
  },
  {
   "cell_type": "markdown",
   "metadata": {},
   "source": [
    "### Counting total actual violations by categories. This provides top level information about the top 10 category that have the most violations."
   ]
  },
  {
   "cell_type": "code",
   "execution_count": 77,
   "metadata": {
    "collapsed": false
   },
   "outputs": [
    {
     "name": "stdout",
     "output_type": "stream",
     "text": [
      "10 rows affected.\n"
     ]
    },
    {
     "data": {
      "text/html": [
       "<table>\n",
       "    <tr>\n",
       "        <th>program_category_description</th>\n",
       "        <th>total_violation</th>\n",
       "    </tr>\n",
       "    <tr>\n",
       "        <td>Food Service Establishment                                                                                                                                                                              </td>\n",
       "        <td>2883</td>\n",
       "    </tr>\n",
       "    <tr>\n",
       "        <td>Retail - Self Service &amp; Prepackage Foods                                                                                                                                                                </td>\n",
       "        <td>406</td>\n",
       "    </tr>\n",
       "    <tr>\n",
       "        <td>Retail -Grocery                                                                                                                                                                                         </td>\n",
       "        <td>240</td>\n",
       "    </tr>\n",
       "    <tr>\n",
       "        <td>Childcare                                                                                                                                                                                               </td>\n",
       "        <td>185</td>\n",
       "    </tr>\n",
       "    <tr>\n",
       "        <td>Bar                                                                                                                                                                                                     </td>\n",
       "        <td>169</td>\n",
       "    </tr>\n",
       "    <tr>\n",
       "        <td>Retail - Prepackage Only                                                                                                                                                                                </td>\n",
       "        <td>158</td>\n",
       "    </tr>\n",
       "    <tr>\n",
       "        <td>School                                                                                                                                                                                                  </td>\n",
       "        <td>133</td>\n",
       "    </tr>\n",
       "    <tr>\n",
       "        <td>Limited Menu                                                                                                                                                                                            </td>\n",
       "        <td>114</td>\n",
       "    </tr>\n",
       "    <tr>\n",
       "        <td>Retail - Deli                                                                                                                                                                                           </td>\n",
       "        <td>114</td>\n",
       "    </tr>\n",
       "    <tr>\n",
       "        <td>Bakery                                                                                                                                                                                                  </td>\n",
       "        <td>107</td>\n",
       "    </tr>\n",
       "</table>"
      ],
      "text/plain": [
       "[('Food Service Establishment                                                                                                                                                                              ', 2883),\n",
       " ('Retail - Self Service & Prepackage Foods                                                                                                                                                                ', 406),\n",
       " ('Retail -Grocery                                                                                                                                                                                         ', 240),\n",
       " ('Childcare                                                                                                                                                                                               ', 185),\n",
       " ('Bar                                                                                                                                                                                                     ', 169),\n",
       " ('Retail - Prepackage Only                                                                                                                                                                                ', 158),\n",
       " ('School                                                                                                                                                                                                  ', 133),\n",
       " ('Limited Menu                                                                                                                                                                                            ', 114),\n",
       " ('Retail - Deli                                                                                                                                                                                           ', 114),\n",
       " ('Bakery                                                                                                                                                                                                  ', 107)]"
      ]
     },
     "execution_count": 77,
     "metadata": {},
     "output_type": "execute_result"
    }
   ],
   "source": [
    "%%sql\n",
    "SELECT PROGRAM_CATEGORY_DESCRIPTION, count( violation_desc) as total_violation\n",
    "FROM inspection\n",
    "where violation_desc not in ('No Violations Found', 'None','Additional Comments', 'None', 'Delivered Informational Brochure')\n",
    "group by PROGRAM_CATEGORY_DESCRIPTION\n",
    "order by total_violation desc\n",
    "LIMIT 10;"
   ]
  },
  {
   "cell_type": "markdown",
   "metadata": {},
   "source": [
    "## Bonus (10 points)\n",
    "\n",
    "We have seen a few simple techniques for normalizing data in class.  Choose a column or set of columns that might be redundant and normalize them out to another table:\n",
    "\n",
    "* Identify the columns to normalize in the source data table\n",
    "* Create one or more new tables to hold the normalized records\n",
    "* Extract data into the new tables\n",
    "* Re-insert the new foreign key references from the new table into the source table"
   ]
  },
  {
   "cell_type": "markdown",
   "metadata": {},
   "source": [
    "# This section intends to extract facility name/key and owner name/key to normalize in a different dataset then add it back to the original dataset"
   ]
  },
  {
   "cell_type": "code",
   "execution_count": 27,
   "metadata": {
    "collapsed": false
   },
   "outputs": [
    {
     "name": "stdout",
     "output_type": "stream",
     "text": [
      "10 rows affected.\n"
     ]
    },
    {
     "data": {
      "text/html": [
       "<table>\n",
       "    <tr>\n",
       "        <th>facility_name</th>\n",
       "        <th>facility_key</th>\n",
       "    </tr>\n",
       "    <tr>\n",
       "        <td>00BSAY IT WITH CAKE                                                                                                                                                                                     </td>\n",
       "        <td>50534</td>\n",
       "    </tr>\n",
       "    <tr>\n",
       "        <td>2000 VIETNAM RESTAURANT                                                                                                                                                                                 </td>\n",
       "        <td>31468</td>\n",
       "    </tr>\n",
       "    <tr>\n",
       "        <td>328 CHINESE CUISINE                                                                                                                                                                                     </td>\n",
       "        <td>72789</td>\n",
       "    </tr>\n",
       "    <tr>\n",
       "        <td>5 STAR BURGERS                                                                                                                                                                                          </td>\n",
       "        <td>90929</td>\n",
       "    </tr>\n",
       "    <tr>\n",
       "        <td>66 DINER                                                                                                                                                                                                </td>\n",
       "        <td>7820</td>\n",
       "    </tr>\n",
       "    <tr>\n",
       "        <td>7 BAR ELEMENTARY SCHOOL                                                                                                                                                                                 </td>\n",
       "        <td>2207</td>\n",
       "    </tr>\n",
       "    <tr>\n",
       "        <td>7 ELEVEN                                                                                                                                                                                                </td>\n",
       "        <td>21347</td>\n",
       "    </tr>\n",
       "    <tr>\n",
       "        <td>7 ELEVEN 57722                                                                                                                                                                                          </td>\n",
       "        <td>21346</td>\n",
       "    </tr>\n",
       "    <tr>\n",
       "        <td>7 ELEVEN 700                                                                                                                                                                                            </td>\n",
       "        <td>21348</td>\n",
       "    </tr>\n",
       "    <tr>\n",
       "        <td>7 ELEVEN 702                                                                                                                                                                                            </td>\n",
       "        <td>21350</td>\n",
       "    </tr>\n",
       "</table>"
      ],
      "text/plain": [
       "[('00BSAY IT WITH CAKE                                                                                                                                                                                     ', 50534),\n",
       " ('2000 VIETNAM RESTAURANT                                                                                                                                                                                 ', 31468),\n",
       " ('328 CHINESE CUISINE                                                                                                                                                                                     ', 72789),\n",
       " ('5 STAR BURGERS                                                                                                                                                                                          ', 90929),\n",
       " ('66 DINER                                                                                                                                                                                                ', 7820),\n",
       " ('7 BAR ELEMENTARY SCHOOL                                                                                                                                                                                 ', 2207),\n",
       " ('7 ELEVEN                                                                                                                                                                                                ', 21347),\n",
       " ('7 ELEVEN 57722                                                                                                                                                                                          ', 21346),\n",
       " ('7 ELEVEN 700                                                                                                                                                                                            ', 21348),\n",
       " ('7 ELEVEN 702                                                                                                                                                                                            ', 21350)]"
      ]
     },
     "execution_count": 27,
     "metadata": {},
     "output_type": "execute_result"
    }
   ],
   "source": [
    "%%sql\n",
    "SELECT DISTINCT facility_name, facility_key\n",
    "FROM inspection\n",
    "ORDER BY facility_name\n",
    "limit 10;"
   ]
  },
  {
   "cell_type": "code",
   "execution_count": 28,
   "metadata": {
    "collapsed": false
   },
   "outputs": [
    {
     "name": "stdout",
     "output_type": "stream",
     "text": [
      "10 rows affected.\n"
     ]
    },
    {
     "data": {
      "text/html": [
       "<table>\n",
       "    <tr>\n",
       "        <th>owner_name</th>\n",
       "        <th>owner_key</th>\n",
       "    </tr>\n",
       "    <tr>\n",
       "        <td>110 SUNPORT LLC                                                                                                                                                                                         </td>\n",
       "        <td>80806</td>\n",
       "    </tr>\n",
       "    <tr>\n",
       "        <td>1ST CLASS LEARNING CENTER                                                                                                                                                                               </td>\n",
       "        <td>39984</td>\n",
       "    </tr>\n",
       "    <tr>\n",
       "        <td>2000 VIETMAN RESTAURANT                                                                                                                                                                                 </td>\n",
       "        <td>29294</td>\n",
       "    </tr>\n",
       "    <tr>\n",
       "        <td>21ST CENTURY PUBLIC ACADEMY                                                                                                                                                                             </td>\n",
       "        <td>65277</td>\n",
       "    </tr>\n",
       "    <tr>\n",
       "        <td>300 CLUB GRILL                                                                                                                                                                                          </td>\n",
       "        <td>80954</td>\n",
       "    </tr>\n",
       "    <tr>\n",
       "        <td>328 CHINESE CUISINE                                                                                                                                                                                     </td>\n",
       "        <td>66644</td>\n",
       "    </tr>\n",
       "    <tr>\n",
       "        <td>3RD ALARM COFFEE                                                                                                                                                                                        </td>\n",
       "        <td>67195</td>\n",
       "    </tr>\n",
       "    <tr>\n",
       "        <td>5 STAR ABQ INC                                                                                                                                                                                          </td>\n",
       "        <td>82383</td>\n",
       "    </tr>\n",
       "    <tr>\n",
       "        <td>6001 INC                                                                                                                                                                                                </td>\n",
       "        <td>15660</td>\n",
       "    </tr>\n",
       "    <tr>\n",
       "        <td>66 DINER                                                                                                                                                                                                </td>\n",
       "        <td>6743</td>\n",
       "    </tr>\n",
       "</table>"
      ],
      "text/plain": [
       "[('110 SUNPORT LLC                                                                                                                                                                                         ', 80806),\n",
       " ('1ST CLASS LEARNING CENTER                                                                                                                                                                               ', 39984),\n",
       " ('2000 VIETMAN RESTAURANT                                                                                                                                                                                 ', 29294),\n",
       " ('21ST CENTURY PUBLIC ACADEMY                                                                                                                                                                             ', 65277),\n",
       " ('300 CLUB GRILL                                                                                                                                                                                          ', 80954),\n",
       " ('328 CHINESE CUISINE                                                                                                                                                                                     ', 66644),\n",
       " ('3RD ALARM COFFEE                                                                                                                                                                                        ', 67195),\n",
       " ('5 STAR ABQ INC                                                                                                                                                                                          ', 82383),\n",
       " ('6001 INC                                                                                                                                                                                                ', 15660),\n",
       " ('66 DINER                                                                                                                                                                                                ', 6743)]"
      ]
     },
     "execution_count": 28,
     "metadata": {},
     "output_type": "execute_result"
    }
   ],
   "source": [
    "%%sql\n",
    "SELECT DISTINCT owner_name, owner_key\n",
    "FROM inspection\n",
    "ORDER BY owner_name\n",
    "limit 10;"
   ]
  },
  {
   "cell_type": "code",
   "execution_count": 29,
   "metadata": {
    "collapsed": false
   },
   "outputs": [
    {
     "name": "stdout",
     "output_type": "stream",
     "text": [
      "10 rows affected.\n"
     ]
    },
    {
     "data": {
      "text/html": [
       "<table>\n",
       "    <tr>\n",
       "        <th>business_name</th>\n",
       "        <th>business_id</th>\n",
       "    </tr>\n",
       "    <tr>\n",
       "        <td>OOB SPECIALTY HOSPITAL OF ALBUQUER                                                                                                                                                                      </td>\n",
       "        <td>91957</td>\n",
       "    </tr>\n",
       "    <tr>\n",
       "        <td>QUIZNOS SUB 12316                                                                                                                                                                                       </td>\n",
       "        <td>82796</td>\n",
       "    </tr>\n",
       "    <tr>\n",
       "        <td>QUALITY INN UNIVERSITY                                                                                                                                                                                  </td>\n",
       "        <td>92080</td>\n",
       "    </tr>\n",
       "    <tr>\n",
       "        <td>OOB WEENIE WAGON                                                                                                                                                                                        </td>\n",
       "        <td>85431</td>\n",
       "    </tr>\n",
       "    <tr>\n",
       "        <td>SUSHI GEN                                                                                                                                                                                               </td>\n",
       "        <td>54063</td>\n",
       "    </tr>\n",
       "    <tr>\n",
       "        <td>FEDERICO SR                                                                                                                                                                                             </td>\n",
       "        <td>77232</td>\n",
       "    </tr>\n",
       "    <tr>\n",
       "        <td>SMITHS 439                                                                                                                                                                                              </td>\n",
       "        <td>4291</td>\n",
       "    </tr>\n",
       "    <tr>\n",
       "        <td>SB RESTAURANT CO                                                                                                                                                                                        </td>\n",
       "        <td>61877</td>\n",
       "    </tr>\n",
       "    <tr>\n",
       "        <td>DUKE CITY AQUATICS FOUNDATION                                                                                                                                                                           </td>\n",
       "        <td>79374</td>\n",
       "    </tr>\n",
       "    <tr>\n",
       "        <td>IL VICINO HEIGHTS                                                                                                                                                                                       </td>\n",
       "        <td>29317</td>\n",
       "    </tr>\n",
       "</table>"
      ],
      "text/plain": [
       "[('OOB SPECIALTY HOSPITAL OF ALBUQUER                                                                                                                                                                      ', 91957),\n",
       " ('QUIZNOS SUB 12316                                                                                                                                                                                       ', 82796),\n",
       " ('QUALITY INN UNIVERSITY                                                                                                                                                                                  ', 92080),\n",
       " ('OOB WEENIE WAGON                                                                                                                                                                                        ', 85431),\n",
       " ('SUSHI GEN                                                                                                                                                                                               ', 54063),\n",
       " ('FEDERICO SR                                                                                                                                                                                             ', 77232),\n",
       " ('SMITHS 439                                                                                                                                                                                              ', 4291),\n",
       " ('SB RESTAURANT CO                                                                                                                                                                                        ', 61877),\n",
       " ('DUKE CITY AQUATICS FOUNDATION                                                                                                                                                                           ', 79374),\n",
       " ('IL VICINO HEIGHTS                                                                                                                                                                                       ', 29317)]"
      ]
     },
     "execution_count": 29,
     "metadata": {},
     "output_type": "execute_result"
    }
   ],
   "source": [
    "%%sql\n",
    "SELECT Business_name, Business_id\n",
    "FROM (\n",
    "    SELECT DISTINCT facility_name as business_name, facility_key AS business_id FROM inspection\n",
    "    UNION\n",
    "    SELECT DISTINCT owner_name as business_name, owner_key AS business_id FROM inspection\n",
    "    ) AS d\n",
    "LIMIT 10;"
   ]
  },
  {
   "cell_type": "code",
   "execution_count": 30,
   "metadata": {
    "collapsed": false
   },
   "outputs": [
    {
     "name": "stdout",
     "output_type": "stream",
     "text": [
      "Done.\n",
      "Done.\n"
     ]
    },
    {
     "data": {
      "text/plain": [
       "[]"
      ]
     },
     "execution_count": 30,
     "metadata": {},
     "output_type": "execute_result"
    }
   ],
   "source": [
    "%%sql\n",
    "DROP TABLE IF EXISTS names;\n",
    "CREATE TABLE names (\n",
    "    id SERIAL,\n",
    "    name VARCHAR(164),\n",
    "    business_id INTEGER\n",
    ");"
   ]
  },
  {
   "cell_type": "code",
   "execution_count": 31,
   "metadata": {
    "collapsed": false
   },
   "outputs": [
    {
     "name": "stdout",
     "output_type": "stream",
     "text": [
      "4727 rows affected.\n"
     ]
    },
    {
     "data": {
      "text/plain": [
       "[]"
      ]
     },
     "execution_count": 31,
     "metadata": {},
     "output_type": "execute_result"
    }
   ],
   "source": [
    "%%sql\n",
    "INSERT INTO names (name, business_id)\n",
    "SELECT business_name, business_id FROM (\n",
    "   SELECT DISTINCT facility_name as business_name, facility_key AS business_id FROM inspection\n",
    "    UNION\n",
    "    SELECT DISTINCT owner_name as business_name, owner_key AS business_id FROM inspection\n",
    ") AS d;"
   ]
  },
  {
   "cell_type": "code",
   "execution_count": 32,
   "metadata": {
    "collapsed": false
   },
   "outputs": [
    {
     "name": "stdout",
     "output_type": "stream",
     "text": [
      "5 rows affected.\n"
     ]
    },
    {
     "data": {
      "text/html": [
       "<table>\n",
       "    <tr>\n",
       "        <th>id</th>\n",
       "        <th>name</th>\n",
       "        <th>business_id</th>\n",
       "    </tr>\n",
       "    <tr>\n",
       "        <td>1</td>\n",
       "        <td>OOB SPECIALTY HOSPITAL OF ALBUQUER</td>\n",
       "        <td>91957</td>\n",
       "    </tr>\n",
       "    <tr>\n",
       "        <td>2</td>\n",
       "        <td>QUIZNOS SUB 12316</td>\n",
       "        <td>82796</td>\n",
       "    </tr>\n",
       "    <tr>\n",
       "        <td>3</td>\n",
       "        <td>QUALITY INN UNIVERSITY</td>\n",
       "        <td>92080</td>\n",
       "    </tr>\n",
       "    <tr>\n",
       "        <td>4</td>\n",
       "        <td>OOB WEENIE WAGON</td>\n",
       "        <td>85431</td>\n",
       "    </tr>\n",
       "    <tr>\n",
       "        <td>5</td>\n",
       "        <td>SUSHI GEN</td>\n",
       "        <td>54063</td>\n",
       "    </tr>\n",
       "</table>"
      ],
      "text/plain": [
       "[(1, 'OOB SPECIALTY HOSPITAL OF ALBUQUER', 91957),\n",
       " (2, 'QUIZNOS SUB 12316', 82796),\n",
       " (3, 'QUALITY INN UNIVERSITY', 92080),\n",
       " (4, 'OOB WEENIE WAGON', 85431),\n",
       " (5, 'SUSHI GEN', 54063)]"
      ]
     },
     "execution_count": 32,
     "metadata": {},
     "output_type": "execute_result"
    }
   ],
   "source": [
    "%%sql\n",
    "select * from names limit 5;"
   ]
  },
  {
   "cell_type": "code",
   "execution_count": 33,
   "metadata": {
    "collapsed": false
   },
   "outputs": [
    {
     "name": "stdout",
     "output_type": "stream",
     "text": [
      "Done.\n"
     ]
    },
    {
     "data": {
      "text/plain": [
       "[]"
      ]
     },
     "execution_count": 33,
     "metadata": {},
     "output_type": "execute_result"
    }
   ],
   "source": [
    "%%sql\n",
    "ALTER TABLE inspection \n",
    "ADD COLUMN facility_nid INTEGER;"
   ]
  },
  {
   "cell_type": "code",
   "execution_count": 34,
   "metadata": {
    "collapsed": false
   },
   "outputs": [
    {
     "name": "stdout",
     "output_type": "stream",
     "text": [
      "17556 rows affected.\n"
     ]
    },
    {
     "data": {
      "text/plain": [
       "[]"
      ]
     },
     "execution_count": 34,
     "metadata": {},
     "output_type": "execute_result"
    }
   ],
   "source": [
    "%%sql\n",
    "UPDATE inspection as i\n",
    "SET facility_nid = n.id\n",
    "FROM names as n\n",
    "WHERE i.facility_name = n.name;"
   ]
  },
  {
   "cell_type": "code",
   "execution_count": 35,
   "metadata": {
    "collapsed": false
   },
   "outputs": [
    {
     "name": "stdout",
     "output_type": "stream",
     "text": [
      "Done.\n"
     ]
    },
    {
     "data": {
      "text/plain": [
       "[]"
      ]
     },
     "execution_count": 35,
     "metadata": {},
     "output_type": "execute_result"
    }
   ],
   "source": [
    "%%sql\n",
    "ALTER TABLE inspection \n",
    "ADD COLUMN owner_nid INTEGER;"
   ]
  },
  {
   "cell_type": "code",
   "execution_count": 36,
   "metadata": {
    "collapsed": false
   },
   "outputs": [
    {
     "name": "stdout",
     "output_type": "stream",
     "text": [
      "17556 rows affected.\n"
     ]
    },
    {
     "data": {
      "text/plain": [
       "[]"
      ]
     },
     "execution_count": 36,
     "metadata": {},
     "output_type": "execute_result"
    }
   ],
   "source": [
    "%%sql\n",
    "UPDATE inspection as i\n",
    "SET owner_nid = n.id\n",
    "FROM names as n\n",
    "WHERE i.owner_name = n.name;"
   ]
  },
  {
   "cell_type": "markdown",
   "metadata": {
    "collapsed": true
   },
   "source": [
    "### I thought it was necessary to maintain both facility and owner id as they aren't always identical. In cases where they are indeed identical, it seems like they have the same id, which could be used as a validation, if necessary, to check for whether the names are identical. "
   ]
  },
  {
   "cell_type": "code",
   "execution_count": 39,
   "metadata": {
    "collapsed": false
   },
   "outputs": [
    {
     "name": "stdout",
     "output_type": "stream",
     "text": [
      "10 rows affected.\n"
     ]
    },
    {
     "data": {
      "text/html": [
       "<table>\n",
       "    <tr>\n",
       "        <th>facility_name</th>\n",
       "        <th>owner_name</th>\n",
       "        <th>facility_nid</th>\n",
       "        <th>owner_nid</th>\n",
       "    </tr>\n",
       "    <tr>\n",
       "        <td>OOB ALPHA CHI OMEGA                                                                                                                                                                                     </td>\n",
       "        <td>ALPHA CHI OMEGA                                                                                                                                                                                         </td>\n",
       "        <td>3684</td>\n",
       "        <td>432</td>\n",
       "    </tr>\n",
       "    <tr>\n",
       "        <td>BOYD COFFEE CO                                                                                                                                                                                          </td>\n",
       "        <td>BOYD COFFEE CO                                                                                                                                                                                          </td>\n",
       "        <td>3614</td>\n",
       "        <td>3614</td>\n",
       "    </tr>\n",
       "    <tr>\n",
       "        <td>OOB SUPER SUPPERS                                                                                                                                                                                       </td>\n",
       "        <td>SUPER SUPPERS ABQ WESTSIDE                                                                                                                                                                              </td>\n",
       "        <td>3698</td>\n",
       "        <td>1932</td>\n",
       "    </tr>\n",
       "    <tr>\n",
       "        <td>OOB WENDYS 11                                                                                                                                                                                           </td>\n",
       "        <td>DOUBLE CHEESE CORP                                                                                                                                                                                      </td>\n",
       "        <td>2115</td>\n",
       "        <td>3222</td>\n",
       "    </tr>\n",
       "    <tr>\n",
       "        <td>SUBWAY                                                                                                                                                                                                  </td>\n",
       "        <td>WIGH LLC                                                                                                                                                                                                </td>\n",
       "        <td>162</td>\n",
       "        <td>350</td>\n",
       "    </tr>\n",
       "    <tr>\n",
       "        <td>TIMES SQUARE DELI MART                                                                                                                                                                                  </td>\n",
       "        <td>KAYED LLC                                                                                                                                                                                               </td>\n",
       "        <td>2946</td>\n",
       "        <td>4467</td>\n",
       "    </tr>\n",
       "    <tr>\n",
       "        <td>OOB BROADWAY CHEVRON                                                                                                                                                                                    </td>\n",
       "        <td>EVER READY OIL CO INC                                                                                                                                                                                   </td>\n",
       "        <td>926</td>\n",
       "        <td>1168</td>\n",
       "    </tr>\n",
       "    <tr>\n",
       "        <td>SUBWAY 36875                                                                                                                                                                                            </td>\n",
       "        <td>BERMUDEZ SHORTS INC                                                                                                                                                                                     </td>\n",
       "        <td>501</td>\n",
       "        <td>3560</td>\n",
       "    </tr>\n",
       "    <tr>\n",
       "        <td>ANDALUZ RESTAURANT KITCHEN                                                                                                                                                                              </td>\n",
       "        <td>GEMSTONE LA POSADA LLC                                                                                                                                                                                  </td>\n",
       "        <td>4068</td>\n",
       "        <td>3316</td>\n",
       "    </tr>\n",
       "    <tr>\n",
       "        <td>COST PLUS WORLD MARKET                                                                                                                                                                                  </td>\n",
       "        <td>COST PLUS INC                                                                                                                                                                                           </td>\n",
       "        <td>1091</td>\n",
       "        <td>1598</td>\n",
       "    </tr>\n",
       "</table>"
      ],
      "text/plain": [
       "[('OOB ALPHA CHI OMEGA                                                                                                                                                                                     ', 'ALPHA CHI OMEGA                                                                                                                                                                                         ', 3684, 432),\n",
       " ('BOYD COFFEE CO                                                                                                                                                                                          ', 'BOYD COFFEE CO                                                                                                                                                                                          ', 3614, 3614),\n",
       " ('OOB SUPER SUPPERS                                                                                                                                                                                       ', 'SUPER SUPPERS ABQ WESTSIDE                                                                                                                                                                              ', 3698, 1932),\n",
       " ('OOB WENDYS 11                                                                                                                                                                                           ', 'DOUBLE CHEESE CORP                                                                                                                                                                                      ', 2115, 3222),\n",
       " ('SUBWAY                                                                                                                                                                                                  ', 'WIGH LLC                                                                                                                                                                                                ', 162, 350),\n",
       " ('TIMES SQUARE DELI MART                                                                                                                                                                                  ', 'KAYED LLC                                                                                                                                                                                               ', 2946, 4467),\n",
       " ('OOB BROADWAY CHEVRON                                                                                                                                                                                    ', 'EVER READY OIL CO INC                                                                                                                                                                                   ', 926, 1168),\n",
       " ('SUBWAY 36875                                                                                                                                                                                            ', 'BERMUDEZ SHORTS INC                                                                                                                                                                                     ', 501, 3560),\n",
       " ('ANDALUZ RESTAURANT KITCHEN                                                                                                                                                                              ', 'GEMSTONE LA POSADA LLC                                                                                                                                                                                  ', 4068, 3316),\n",
       " ('COST PLUS WORLD MARKET                                                                                                                                                                                  ', 'COST PLUS INC                                                                                                                                                                                           ', 1091, 1598)]"
      ]
     },
     "execution_count": 39,
     "metadata": {},
     "output_type": "execute_result"
    }
   ],
   "source": [
    "%%sql\n",
    "select distinct facility_name,owner_name, facility_nid, owner_nid from inspection limit 10;"
   ]
  },
  {
   "cell_type": "code",
   "execution_count": null,
   "metadata": {
    "collapsed": true
   },
   "outputs": [],
   "source": []
  }
 ],
 "metadata": {
  "anaconda-cloud": {},
  "kernelspec": {
   "display_name": "Python 3",
   "language": "python",
   "name": "python3"
  },
  "language_info": {
   "codemirror_mode": {
    "name": "ipython",
    "version": 3
   },
   "file_extension": ".py",
   "mimetype": "text/x-python",
   "name": "python",
   "nbconvert_exporter": "python",
   "pygments_lexer": "ipython3",
   "version": "3.5.2"
  }
 },
 "nbformat": 4,
 "nbformat_minor": 1
}
