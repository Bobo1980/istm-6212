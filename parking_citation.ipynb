{
 "cells": [
  {
   "cell_type": "code",
   "execution_count": 1,
   "metadata": {
    "collapsed": true
   },
   "outputs": [],
   "source": [
    "import pandas as pd\n",
    "import psycopg2 as pg\n",
    "import numpy as np\n",
    "import datetime"
   ]
  },
  {
   "cell_type": "code",
   "execution_count": 2,
   "metadata": {
    "collapsed": false
   },
   "outputs": [
    {
     "name": "stdout",
     "output_type": "stream",
     "text": [
      "--2016-12-02 20:55:23--  https://data.baltimorecity.gov/api/views/n4ma-fj3m/rows.csv?accessType=DOWNLOAD\n",
      "Resolving data.baltimorecity.gov (data.baltimorecity.gov)... 52.206.140.199\n",
      "Connecting to data.baltimorecity.gov (data.baltimorecity.gov)|52.206.140.199|:443... connected.\n",
      "HTTP request sent, awaiting response... 200 OK\n",
      "Length: unspecified [text/csv]\n",
      "Saving to: ‘Parking_Citations.csv’\n",
      "\n",
      "Parking_Citations.c     [ <=>                  ] 143.08M  1.84MB/s   in 88s    \n",
      "\n",
      "Last-modified header invalid -- time-stamp ignored.\n",
      "2016-12-02 20:56:51 (1.63 MB/s) - ‘Parking_Citations.csv’ saved [150033075]\n",
      "\n"
     ]
    }
   ],
   "source": [
    "pd.options.display.max_columns = 30\n",
    "!wget https://data.baltimorecity.gov/api/views/n4ma-fj3m/rows.csv?accessType=DOWNLOAD -O Parking_Citations.csv"
   ]
  },
  {
   "cell_type": "code",
   "execution_count": 3,
   "metadata": {
    "collapsed": false
   },
   "outputs": [
    {
     "name": "stderr",
     "output_type": "stream",
     "text": [
      "/opt/conda/lib/python3.5/site-packages/IPython/core/interactiveshell.py:2717: DtypeWarning: Columns (2) have mixed types. Specify dtype option on import or set low_memory=False.\n",
      "  interactivity=interactivity, compiler=compiler, result=result)\n"
     ]
    }
   ],
   "source": [
    "df = pd.read_csv('Parking_Citations.csv')"
   ]
  },
  {
   "cell_type": "code",
   "execution_count": 4,
   "metadata": {
    "collapsed": false
   },
   "outputs": [
    {
     "data": {
      "text/plain": [
       "Citation             int64\n",
       "Tag                 object\n",
       "ExpMM               object\n",
       "ExpYY              float64\n",
       "State               object\n",
       "Make                object\n",
       "Address             object\n",
       "ViolCode           float64\n",
       "Description         object\n",
       "ViolFine            object\n",
       "ViolDate            object\n",
       "Balance             object\n",
       "PenaltyDate        float64\n",
       "OpenFine            object\n",
       "OpenPenalty         object\n",
       "NoticeDate          object\n",
       "ImportDate          object\n",
       "Neighborhood        object\n",
       "PoliceDistrict      object\n",
       "CouncilDistrict    float64\n",
       "Location            object\n",
       "dtype: object"
      ]
     },
     "execution_count": 4,
     "metadata": {},
     "output_type": "execute_result"
    }
   ],
   "source": [
    "df.dtypes\n"
   ]
  },
  {
   "cell_type": "code",
   "execution_count": 5,
   "metadata": {
    "collapsed": true
   },
   "outputs": [],
   "source": [
    "# create a 2016 subset\n",
    "df.ViolDate = pd.to_datetime(df.ViolDate, format=\"%m/%d/%Y %H:%M:%S %p\")\n",
    "# split Location\n",
    "df.set_index('ViolDate', inplace=True)\n",
    "df = df['2016']\n",
    "df.reset_index(inplace=True)\n"
   ]
  },
  {
   "cell_type": "code",
   "execution_count": 6,
   "metadata": {
    "collapsed": false
   },
   "outputs": [
    {
     "data": {
      "text/plain": [
       "(319688, 21)"
      ]
     },
     "execution_count": 6,
     "metadata": {},
     "output_type": "execute_result"
    }
   ],
   "source": [
    "df.shape"
   ]
  },
  {
   "cell_type": "code",
   "execution_count": 7,
   "metadata": {
    "collapsed": false
   },
   "outputs": [],
   "source": [
    "# convert to date type\n",
    "df.ImportDate = df.ImportDate.str.replace(' \\+0000', '')\n",
    "df.NoticeDate = pd.to_datetime(df.NoticeDate, format=\"%m/%d/%Y\")\n",
    "df.PenaltyDate = pd.to_datetime(df.PenaltyDate, format=\"%m/%d/%Y\")\n",
    "df.ImportDate = pd.to_datetime(df.ImportDate, format=\"%m/%d/%Y %H:%M:%S %p\")\n",
    "# split Location\n",
    "df['Latitude'] = df.Location.str.split(',').str.get(0).str.replace('\\(','').map(lambda s: float(s))\n",
    "df['Longitude'] = df.Location.str.split(',').str.get(1).str.replace('\\)','').map(lambda s: float(s))\n",
    "# remove $ sign\n",
    "df[['ViolFine', 'Balance','OpenFine','OpenPenalty']] = df[['ViolFine', 'Balance','OpenFine','OpenPenalty']].applymap(lambda s: float(str(s).replace('$', '')))\n"
   ]
  },
  {
   "cell_type": "code",
   "execution_count": 8,
   "metadata": {
    "collapsed": false
   },
   "outputs": [
    {
     "data": {
      "text/plain": [
       "{nan: nan,\n",
       " '01': '01',\n",
       " '10': '10',\n",
       " 3.0: 3.0,\n",
       " 4.0: 4.0,\n",
       " 5.0: 5.0,\n",
       " 6.0: 6.0,\n",
       " 1.0: 1.0,\n",
       " 8.0: 8.0,\n",
       " '12': '12',\n",
       " '09': '09',\n",
       " 11.0: 11.0,\n",
       " 12.0: 12.0,\n",
       " 2.0: 2.0,\n",
       " 9.0: 9.0,\n",
       " '04': '04',\n",
       " '03': '03',\n",
       " '11': '11',\n",
       " 0.0: 0.0,\n",
       " '07': '07',\n",
       " '05': '05',\n",
       " 7.0: 7.0,\n",
       " '06': '06',\n",
       " '00': '00',\n",
       " 10.0: 10.0,\n",
       " '02': '02',\n",
       " '08': '08',\n",
       " 'PE': 'PE'}"
      ]
     },
     "execution_count": 8,
     "metadata": {},
     "output_type": "execute_result"
    }
   ],
   "source": [
    "# Clean EXP_MM \n",
    "mm_map = {val: val for val in df.ExpMM.unique()}\n",
    "mm_map"
   ]
  },
  {
   "cell_type": "markdown",
   "metadata": {},
   "source": [
    "#####  use 9999 to indictate not a number\n",
    "#####   use 888 to indiecate permanent \n",
    "#####   leave 0 intact since i do not know what it means"
   ]
  },
  {
   "cell_type": "code",
   "execution_count": 9,
   "metadata": {
    "collapsed": false
   },
   "outputs": [
    {
     "data": {
      "text/plain": [
       "array([   2,   11,    9,   10, 9999,   12,    1,    5,    4,    3,    8,\n",
       "          6,    7,  888,    0])"
      ]
     },
     "execution_count": 9,
     "metadata": {},
     "output_type": "execute_result"
    }
   ],
   "source": [
    "mm_map[np.nan] = 9999\n",
    "mm_map['PE'] = 888\n",
    "df.ExpMM = df.ExpMM.map(mm_map)\n",
    "df.ExpMM = df.ExpMM.astype(int)\n",
    "df.ExpMM.unique()"
   ]
  },
  {
   "cell_type": "code",
   "execution_count": 10,
   "metadata": {
    "collapsed": true
   },
   "outputs": [],
   "source": [
    "df.ExpYY = df.ExpYY.astype(int)\n",
    "df.Citation = df.Citation.astype(str)\n",
    "df.ViolCode = df.ViolCode.astype(str)\n",
    "df.CouncilDistrict = df.CouncilDistrict.astype(str)"
   ]
  },
  {
   "cell_type": "code",
   "execution_count": 11,
   "metadata": {
    "collapsed": false
   },
   "outputs": [
    {
     "data": {
      "text/plain": [
       "ViolDate           datetime64[ns]\n",
       "Citation                   object\n",
       "Tag                        object\n",
       "ExpMM                       int64\n",
       "ExpYY                       int64\n",
       "State                      object\n",
       "Make                       object\n",
       "Address                    object\n",
       "ViolCode                   object\n",
       "Description                object\n",
       "ViolFine                  float64\n",
       "Balance                   float64\n",
       "PenaltyDate        datetime64[ns]\n",
       "OpenFine                  float64\n",
       "OpenPenalty               float64\n",
       "NoticeDate         datetime64[ns]\n",
       "ImportDate         datetime64[ns]\n",
       "Neighborhood               object\n",
       "PoliceDistrict             object\n",
       "CouncilDistrict            object\n",
       "Location                   object\n",
       "Latitude                  float64\n",
       "Longitude                 float64\n",
       "dtype: object"
      ]
     },
     "execution_count": 11,
     "metadata": {},
     "output_type": "execute_result"
    }
   ],
   "source": [
    "df.dtypes"
   ]
  },
  {
   "cell_type": "markdown",
   "metadata": {},
   "source": [
    "##### Replace null values based on datatype"
   ]
  },
  {
   "cell_type": "code",
   "execution_count": 12,
   "metadata": {
    "collapsed": true
   },
   "outputs": [],
   "source": [
    "rep_na = {\n",
    "    \"datetime64[ns]\": datetime.datetime(9999,12,31),\n",
    "    \"object\" :  \"unknown\",\n",
    "    \"float64\" : np.nan,\n",
    "    \"int64\" : np.nan,\n",
    "}"
   ]
  },
  {
   "cell_type": "code",
   "execution_count": 13,
   "metadata": {
    "collapsed": false
   },
   "outputs": [],
   "source": [
    "for c, t in zip(df.columns, df.dtypes):\n",
    "    df[c].fillna(rep_na[str(t)], inplace = True)"
   ]
  },
  {
   "cell_type": "code",
   "execution_count": 14,
   "metadata": {
    "collapsed": false
   },
   "outputs": [],
   "source": [
    "df.to_csv(\"clean_data.csv\", index=False, header=True)"
   ]
  },
  {
   "cell_type": "code",
   "execution_count": 15,
   "metadata": {
    "collapsed": false
   },
   "outputs": [
    {
     "name": "stderr",
     "output_type": "stream",
     "text": [
      "/opt/conda/lib/python3.5/site-packages/IPython/config.py:13: ShimWarning: The `IPython.config` package has been deprecated. You should import from traitlets.config instead.\n",
      "  \"You should import from traitlets.config instead.\", ShimWarning)\n",
      "/opt/conda/lib/python3.5/site-packages/IPython/utils/traitlets.py:5: UserWarning: IPython.utils.traitlets has moved to a top-level traitlets package.\n",
      "  warn(\"IPython.utils.traitlets has moved to a top-level traitlets package.\")\n"
     ]
    },
    {
     "name": "stdout",
     "output_type": "stream",
     "text": [
      "[sudo] password for jovyan: Restarting PostgreSQL 9.5 database server: main.\n"
     ]
    }
   ],
   "source": [
    "%load_ext sql\n",
    "!echo 'redspot' | sudo -S service postgresql restart\n",
    "!createdb -U dbuser project3"
   ]
  },
  {
   "cell_type": "code",
   "execution_count": 16,
   "metadata": {
    "collapsed": false
   },
   "outputs": [
    {
     "data": {
      "text/plain": [
       "'Connected: dbuser@project3'"
      ]
     },
     "execution_count": 16,
     "metadata": {},
     "output_type": "execute_result"
    }
   ],
   "source": [
    "%sql postgresql://dbuser@localhost:5432/project3"
   ]
  },
  {
   "cell_type": "code",
   "execution_count": 17,
   "metadata": {
    "collapsed": false
   },
   "outputs": [
    {
     "name": "stdout",
     "output_type": "stream",
     "text": [
      "Done.\n",
      "Done.\n"
     ]
    },
    {
     "data": {
      "text/plain": [
       "[]"
      ]
     },
     "execution_count": 17,
     "metadata": {},
     "output_type": "execute_result"
    }
   ],
   "source": [
    "%%sql\n",
    "DROP TABLE IF EXISTS citation;\n",
    "CREATE TABLE citation (\n",
    "    violdate TIMESTAMP,\n",
    "    citation Varchar(9),\n",
    "    tag Varchar(9),\n",
    "    expmm Integer,\n",
    "    expyy Integer,\n",
    "    state Varchar(2),\n",
    "    make Varchar(20),\n",
    "    address Varchar(255),\n",
    "    violcode Varchar(25),\n",
    "    description Varchar(255),\n",
    "    violfine Real,\n",
    "    balance Real,\n",
    "    penaltydate TIMESTAMP,\n",
    "    openfine Real,\n",
    "    openpenalty Real,\n",
    "    noticedate TIMESTAMP,\n",
    "    importdate TIMESTAMP,\n",
    "    neighborhood Varchar(100),\n",
    "    policedistrict Varchar(100),\n",
    "    councildistrict Varchar(25),\n",
    "    location Varchar(255),\n",
    "    latitude Float8,\n",
    "    longitude Float8,\n",
    "    Primary Key(citation)\n",
    ");"
   ]
  },
  {
   "cell_type": "code",
   "execution_count": 18,
   "metadata": {
    "collapsed": false
   },
   "outputs": [
    {
     "name": "stdout",
     "output_type": "stream",
     "text": [
      "/home/jovyan/work\r\n"
     ]
    }
   ],
   "source": [
    "!pwd"
   ]
  },
  {
   "cell_type": "code",
   "execution_count": 19,
   "metadata": {
    "collapsed": false
   },
   "outputs": [
    {
     "ename": "IntegrityError",
     "evalue": "(psycopg2.IntegrityError) duplicate key value violates unique constraint \"citation_pkey\"\nDETAIL:  Key (citation)=(90668410) already exists.\nCONTEXT:  COPY citation, line 152066\n [SQL: 'COPY citation FROM \\'/home/jovyan/work/clean_data.csv\\'\\nCSV\\nHEADER\\nQUOTE \\'\"\\'\\nDELIMITER \\',\\';']",
     "output_type": "error",
     "traceback": [
      "\u001b[0;31m---------------------------------------------------------------------------\u001b[0m",
      "\u001b[0;31mIntegrityError\u001b[0m                            Traceback (most recent call last)",
      "\u001b[0;32m/opt/conda/lib/python3.5/site-packages/sqlalchemy/engine/base.py\u001b[0m in \u001b[0;36m_execute_context\u001b[0;34m(self, dialect, constructor, statement, parameters, *args)\u001b[0m\n\u001b[1;32m   1138\u001b[0m                         \u001b[0mparameters\u001b[0m\u001b[0;34m,\u001b[0m\u001b[0;34m\u001b[0m\u001b[0m\n\u001b[0;32m-> 1139\u001b[0;31m                         context)\n\u001b[0m\u001b[1;32m   1140\u001b[0m         \u001b[0;32mexcept\u001b[0m \u001b[0mException\u001b[0m \u001b[0;32mas\u001b[0m \u001b[0me\u001b[0m\u001b[0;34m:\u001b[0m\u001b[0;34m\u001b[0m\u001b[0m\n",
      "\u001b[0;32m/opt/conda/lib/python3.5/site-packages/sqlalchemy/engine/default.py\u001b[0m in \u001b[0;36mdo_execute\u001b[0;34m(self, cursor, statement, parameters, context)\u001b[0m\n\u001b[1;32m    449\u001b[0m     \u001b[0;32mdef\u001b[0m \u001b[0mdo_execute\u001b[0m\u001b[0;34m(\u001b[0m\u001b[0mself\u001b[0m\u001b[0;34m,\u001b[0m \u001b[0mcursor\u001b[0m\u001b[0;34m,\u001b[0m \u001b[0mstatement\u001b[0m\u001b[0;34m,\u001b[0m \u001b[0mparameters\u001b[0m\u001b[0;34m,\u001b[0m \u001b[0mcontext\u001b[0m\u001b[0;34m=\u001b[0m\u001b[0;32mNone\u001b[0m\u001b[0;34m)\u001b[0m\u001b[0;34m:\u001b[0m\u001b[0;34m\u001b[0m\u001b[0m\n\u001b[0;32m--> 450\u001b[0;31m         \u001b[0mcursor\u001b[0m\u001b[0;34m.\u001b[0m\u001b[0mexecute\u001b[0m\u001b[0;34m(\u001b[0m\u001b[0mstatement\u001b[0m\u001b[0;34m,\u001b[0m \u001b[0mparameters\u001b[0m\u001b[0;34m)\u001b[0m\u001b[0;34m\u001b[0m\u001b[0m\n\u001b[0m\u001b[1;32m    451\u001b[0m \u001b[0;34m\u001b[0m\u001b[0m\n",
      "\u001b[0;31mIntegrityError\u001b[0m: duplicate key value violates unique constraint \"citation_pkey\"\nDETAIL:  Key (citation)=(90668410) already exists.\nCONTEXT:  COPY citation, line 152066\n",
      "\nThe above exception was the direct cause of the following exception:\n",
      "\u001b[0;31mIntegrityError\u001b[0m                            Traceback (most recent call last)",
      "\u001b[0;32m<ipython-input-19-4956e98aa39e>\u001b[0m in \u001b[0;36m<module>\u001b[0;34m()\u001b[0m\n\u001b[0;32m----> 1\u001b[0;31m \u001b[0mget_ipython\u001b[0m\u001b[0;34m(\u001b[0m\u001b[0;34m)\u001b[0m\u001b[0;34m.\u001b[0m\u001b[0mrun_cell_magic\u001b[0m\u001b[0;34m(\u001b[0m\u001b[0;34m'sql'\u001b[0m\u001b[0;34m,\u001b[0m \u001b[0;34m''\u001b[0m\u001b[0;34m,\u001b[0m \u001b[0;34m'COPY citation FROM \\'/home/jovyan/work/clean_data.csv\\'\\nCSV\\nHEADER\\nQUOTE \\'\"\\'\\nDELIMITER \\',\\';'\u001b[0m\u001b[0;34m)\u001b[0m\u001b[0;34m\u001b[0m\u001b[0m\n\u001b[0m",
      "\u001b[0;32m/opt/conda/lib/python3.5/site-packages/IPython/core/interactiveshell.py\u001b[0m in \u001b[0;36mrun_cell_magic\u001b[0;34m(self, magic_name, line, cell)\u001b[0m\n\u001b[1;32m   2113\u001b[0m             \u001b[0mmagic_arg_s\u001b[0m \u001b[0;34m=\u001b[0m \u001b[0mself\u001b[0m\u001b[0;34m.\u001b[0m\u001b[0mvar_expand\u001b[0m\u001b[0;34m(\u001b[0m\u001b[0mline\u001b[0m\u001b[0;34m,\u001b[0m \u001b[0mstack_depth\u001b[0m\u001b[0;34m)\u001b[0m\u001b[0;34m\u001b[0m\u001b[0m\n\u001b[1;32m   2114\u001b[0m             \u001b[0;32mwith\u001b[0m \u001b[0mself\u001b[0m\u001b[0;34m.\u001b[0m\u001b[0mbuiltin_trap\u001b[0m\u001b[0;34m:\u001b[0m\u001b[0;34m\u001b[0m\u001b[0m\n\u001b[0;32m-> 2115\u001b[0;31m                 \u001b[0mresult\u001b[0m \u001b[0;34m=\u001b[0m \u001b[0mfn\u001b[0m\u001b[0;34m(\u001b[0m\u001b[0mmagic_arg_s\u001b[0m\u001b[0;34m,\u001b[0m \u001b[0mcell\u001b[0m\u001b[0;34m)\u001b[0m\u001b[0;34m\u001b[0m\u001b[0m\n\u001b[0m\u001b[1;32m   2116\u001b[0m             \u001b[0;32mreturn\u001b[0m \u001b[0mresult\u001b[0m\u001b[0;34m\u001b[0m\u001b[0m\n\u001b[1;32m   2117\u001b[0m \u001b[0;34m\u001b[0m\u001b[0m\n",
      "\u001b[0;32m<decorator-gen-123>\u001b[0m in \u001b[0;36mexecute\u001b[0;34m(self, line, cell, local_ns)\u001b[0m\n",
      "\u001b[0;32m/opt/conda/lib/python3.5/site-packages/IPython/core/magic.py\u001b[0m in \u001b[0;36m<lambda>\u001b[0;34m(f, *a, **k)\u001b[0m\n\u001b[1;32m    186\u001b[0m     \u001b[0;31m# but it's overkill for just that one bit of state.\u001b[0m\u001b[0;34m\u001b[0m\u001b[0;34m\u001b[0m\u001b[0m\n\u001b[1;32m    187\u001b[0m     \u001b[0;32mdef\u001b[0m \u001b[0mmagic_deco\u001b[0m\u001b[0;34m(\u001b[0m\u001b[0marg\u001b[0m\u001b[0;34m)\u001b[0m\u001b[0;34m:\u001b[0m\u001b[0;34m\u001b[0m\u001b[0m\n\u001b[0;32m--> 188\u001b[0;31m         \u001b[0mcall\u001b[0m \u001b[0;34m=\u001b[0m \u001b[0;32mlambda\u001b[0m \u001b[0mf\u001b[0m\u001b[0;34m,\u001b[0m \u001b[0;34m*\u001b[0m\u001b[0ma\u001b[0m\u001b[0;34m,\u001b[0m \u001b[0;34m**\u001b[0m\u001b[0mk\u001b[0m\u001b[0;34m:\u001b[0m \u001b[0mf\u001b[0m\u001b[0;34m(\u001b[0m\u001b[0;34m*\u001b[0m\u001b[0ma\u001b[0m\u001b[0;34m,\u001b[0m \u001b[0;34m**\u001b[0m\u001b[0mk\u001b[0m\u001b[0;34m)\u001b[0m\u001b[0;34m\u001b[0m\u001b[0m\n\u001b[0m\u001b[1;32m    189\u001b[0m \u001b[0;34m\u001b[0m\u001b[0m\n\u001b[1;32m    190\u001b[0m         \u001b[0;32mif\u001b[0m \u001b[0mcallable\u001b[0m\u001b[0;34m(\u001b[0m\u001b[0marg\u001b[0m\u001b[0;34m)\u001b[0m\u001b[0;34m:\u001b[0m\u001b[0;34m\u001b[0m\u001b[0m\n",
      "\u001b[0;32m<decorator-gen-122>\u001b[0m in \u001b[0;36mexecute\u001b[0;34m(self, line, cell, local_ns)\u001b[0m\n",
      "\u001b[0;32m/opt/conda/lib/python3.5/site-packages/IPython/core/magic.py\u001b[0m in \u001b[0;36m<lambda>\u001b[0;34m(f, *a, **k)\u001b[0m\n\u001b[1;32m    186\u001b[0m     \u001b[0;31m# but it's overkill for just that one bit of state.\u001b[0m\u001b[0;34m\u001b[0m\u001b[0;34m\u001b[0m\u001b[0m\n\u001b[1;32m    187\u001b[0m     \u001b[0;32mdef\u001b[0m \u001b[0mmagic_deco\u001b[0m\u001b[0;34m(\u001b[0m\u001b[0marg\u001b[0m\u001b[0;34m)\u001b[0m\u001b[0;34m:\u001b[0m\u001b[0;34m\u001b[0m\u001b[0m\n\u001b[0;32m--> 188\u001b[0;31m         \u001b[0mcall\u001b[0m \u001b[0;34m=\u001b[0m \u001b[0;32mlambda\u001b[0m \u001b[0mf\u001b[0m\u001b[0;34m,\u001b[0m \u001b[0;34m*\u001b[0m\u001b[0ma\u001b[0m\u001b[0;34m,\u001b[0m \u001b[0;34m**\u001b[0m\u001b[0mk\u001b[0m\u001b[0;34m:\u001b[0m \u001b[0mf\u001b[0m\u001b[0;34m(\u001b[0m\u001b[0;34m*\u001b[0m\u001b[0ma\u001b[0m\u001b[0;34m,\u001b[0m \u001b[0;34m**\u001b[0m\u001b[0mk\u001b[0m\u001b[0;34m)\u001b[0m\u001b[0;34m\u001b[0m\u001b[0m\n\u001b[0m\u001b[1;32m    189\u001b[0m \u001b[0;34m\u001b[0m\u001b[0m\n\u001b[1;32m    190\u001b[0m         \u001b[0;32mif\u001b[0m \u001b[0mcallable\u001b[0m\u001b[0;34m(\u001b[0m\u001b[0marg\u001b[0m\u001b[0;34m)\u001b[0m\u001b[0;34m:\u001b[0m\u001b[0;34m\u001b[0m\u001b[0m\n",
      "\u001b[0;32m/opt/conda/lib/python3.5/site-packages/sql/magic.py\u001b[0m in \u001b[0;36mexecute\u001b[0;34m(self, line, cell, local_ns)\u001b[0m\n\u001b[1;32m     78\u001b[0m             \u001b[0;32mreturn\u001b[0m \u001b[0mself\u001b[0m\u001b[0;34m.\u001b[0m\u001b[0m_persist_dataframe\u001b[0m\u001b[0;34m(\u001b[0m\u001b[0mparsed\u001b[0m\u001b[0;34m[\u001b[0m\u001b[0;34m'sql'\u001b[0m\u001b[0;34m]\u001b[0m\u001b[0;34m,\u001b[0m \u001b[0mconn\u001b[0m\u001b[0;34m,\u001b[0m \u001b[0muser_ns\u001b[0m\u001b[0;34m)\u001b[0m\u001b[0;34m\u001b[0m\u001b[0m\n\u001b[1;32m     79\u001b[0m         \u001b[0;32mtry\u001b[0m\u001b[0;34m:\u001b[0m\u001b[0;34m\u001b[0m\u001b[0m\n\u001b[0;32m---> 80\u001b[0;31m             \u001b[0mresult\u001b[0m \u001b[0;34m=\u001b[0m \u001b[0msql\u001b[0m\u001b[0;34m.\u001b[0m\u001b[0mrun\u001b[0m\u001b[0;34m.\u001b[0m\u001b[0mrun\u001b[0m\u001b[0;34m(\u001b[0m\u001b[0mconn\u001b[0m\u001b[0;34m,\u001b[0m \u001b[0mparsed\u001b[0m\u001b[0;34m[\u001b[0m\u001b[0;34m'sql'\u001b[0m\u001b[0;34m]\u001b[0m\u001b[0;34m,\u001b[0m \u001b[0mself\u001b[0m\u001b[0;34m,\u001b[0m \u001b[0muser_ns\u001b[0m\u001b[0;34m)\u001b[0m\u001b[0;34m\u001b[0m\u001b[0m\n\u001b[0m\u001b[1;32m     81\u001b[0m             \u001b[0;32mreturn\u001b[0m \u001b[0mresult\u001b[0m\u001b[0;34m\u001b[0m\u001b[0m\n\u001b[1;32m     82\u001b[0m         \u001b[0;32mexcept\u001b[0m \u001b[0;34m(\u001b[0m\u001b[0mProgrammingError\u001b[0m\u001b[0;34m,\u001b[0m \u001b[0mOperationalError\u001b[0m\u001b[0;34m)\u001b[0m \u001b[0;32mas\u001b[0m \u001b[0me\u001b[0m\u001b[0;34m:\u001b[0m\u001b[0;34m\u001b[0m\u001b[0m\n",
      "\u001b[0;32m/opt/conda/lib/python3.5/site-packages/sql/run.py\u001b[0m in \u001b[0;36mrun\u001b[0;34m(conn, sql, config, user_namespace)\u001b[0m\n\u001b[1;32m    270\u001b[0m                 \u001b[0;32mraise\u001b[0m \u001b[0mException\u001b[0m\u001b[0;34m(\u001b[0m\u001b[0;34m\"ipython_sql does not support transactions\"\u001b[0m\u001b[0;34m)\u001b[0m\u001b[0;34m\u001b[0m\u001b[0m\n\u001b[1;32m    271\u001b[0m             \u001b[0mtxt\u001b[0m \u001b[0;34m=\u001b[0m \u001b[0msqlalchemy\u001b[0m\u001b[0;34m.\u001b[0m\u001b[0msql\u001b[0m\u001b[0;34m.\u001b[0m\u001b[0mtext\u001b[0m\u001b[0;34m(\u001b[0m\u001b[0mstatement\u001b[0m\u001b[0;34m)\u001b[0m\u001b[0;34m\u001b[0m\u001b[0m\n\u001b[0;32m--> 272\u001b[0;31m             \u001b[0mresult\u001b[0m \u001b[0;34m=\u001b[0m \u001b[0mconn\u001b[0m\u001b[0;34m.\u001b[0m\u001b[0msession\u001b[0m\u001b[0;34m.\u001b[0m\u001b[0mexecute\u001b[0m\u001b[0;34m(\u001b[0m\u001b[0mtxt\u001b[0m\u001b[0;34m,\u001b[0m \u001b[0muser_namespace\u001b[0m\u001b[0;34m)\u001b[0m\u001b[0;34m\u001b[0m\u001b[0m\n\u001b[0m\u001b[1;32m    273\u001b[0m             \u001b[0;32mtry\u001b[0m\u001b[0;34m:\u001b[0m\u001b[0;34m\u001b[0m\u001b[0m\n\u001b[1;32m    274\u001b[0m                 \u001b[0mconn\u001b[0m\u001b[0;34m.\u001b[0m\u001b[0msession\u001b[0m\u001b[0;34m.\u001b[0m\u001b[0mexecute\u001b[0m\u001b[0;34m(\u001b[0m\u001b[0;34m'commit'\u001b[0m\u001b[0;34m)\u001b[0m\u001b[0;34m\u001b[0m\u001b[0m\n",
      "\u001b[0;32m/opt/conda/lib/python3.5/site-packages/sqlalchemy/engine/base.py\u001b[0m in \u001b[0;36mexecute\u001b[0;34m(self, object, *multiparams, **params)\u001b[0m\n\u001b[1;32m    912\u001b[0m                 type(object))\n\u001b[1;32m    913\u001b[0m         \u001b[0;32melse\u001b[0m\u001b[0;34m:\u001b[0m\u001b[0;34m\u001b[0m\u001b[0m\n\u001b[0;32m--> 914\u001b[0;31m             \u001b[0;32mreturn\u001b[0m \u001b[0mmeth\u001b[0m\u001b[0;34m(\u001b[0m\u001b[0mself\u001b[0m\u001b[0;34m,\u001b[0m \u001b[0mmultiparams\u001b[0m\u001b[0;34m,\u001b[0m \u001b[0mparams\u001b[0m\u001b[0;34m)\u001b[0m\u001b[0;34m\u001b[0m\u001b[0m\n\u001b[0m\u001b[1;32m    915\u001b[0m \u001b[0;34m\u001b[0m\u001b[0m\n\u001b[1;32m    916\u001b[0m     \u001b[0;32mdef\u001b[0m \u001b[0m_execute_function\u001b[0m\u001b[0;34m(\u001b[0m\u001b[0mself\u001b[0m\u001b[0;34m,\u001b[0m \u001b[0mfunc\u001b[0m\u001b[0;34m,\u001b[0m \u001b[0mmultiparams\u001b[0m\u001b[0;34m,\u001b[0m \u001b[0mparams\u001b[0m\u001b[0;34m)\u001b[0m\u001b[0;34m:\u001b[0m\u001b[0;34m\u001b[0m\u001b[0m\n",
      "\u001b[0;32m/opt/conda/lib/python3.5/site-packages/sqlalchemy/sql/elements.py\u001b[0m in \u001b[0;36m_execute_on_connection\u001b[0;34m(self, connection, multiparams, params)\u001b[0m\n\u001b[1;32m    321\u001b[0m \u001b[0;34m\u001b[0m\u001b[0m\n\u001b[1;32m    322\u001b[0m     \u001b[0;32mdef\u001b[0m \u001b[0m_execute_on_connection\u001b[0m\u001b[0;34m(\u001b[0m\u001b[0mself\u001b[0m\u001b[0;34m,\u001b[0m \u001b[0mconnection\u001b[0m\u001b[0;34m,\u001b[0m \u001b[0mmultiparams\u001b[0m\u001b[0;34m,\u001b[0m \u001b[0mparams\u001b[0m\u001b[0;34m)\u001b[0m\u001b[0;34m:\u001b[0m\u001b[0;34m\u001b[0m\u001b[0m\n\u001b[0;32m--> 323\u001b[0;31m         \u001b[0;32mreturn\u001b[0m \u001b[0mconnection\u001b[0m\u001b[0;34m.\u001b[0m\u001b[0m_execute_clauseelement\u001b[0m\u001b[0;34m(\u001b[0m\u001b[0mself\u001b[0m\u001b[0;34m,\u001b[0m \u001b[0mmultiparams\u001b[0m\u001b[0;34m,\u001b[0m \u001b[0mparams\u001b[0m\u001b[0;34m)\u001b[0m\u001b[0;34m\u001b[0m\u001b[0m\n\u001b[0m\u001b[1;32m    324\u001b[0m \u001b[0;34m\u001b[0m\u001b[0m\n\u001b[1;32m    325\u001b[0m     \u001b[0;32mdef\u001b[0m \u001b[0munique_params\u001b[0m\u001b[0;34m(\u001b[0m\u001b[0mself\u001b[0m\u001b[0;34m,\u001b[0m \u001b[0;34m*\u001b[0m\u001b[0moptionaldict\u001b[0m\u001b[0;34m,\u001b[0m \u001b[0;34m**\u001b[0m\u001b[0mkwargs\u001b[0m\u001b[0;34m)\u001b[0m\u001b[0;34m:\u001b[0m\u001b[0;34m\u001b[0m\u001b[0m\n",
      "\u001b[0;32m/opt/conda/lib/python3.5/site-packages/sqlalchemy/engine/base.py\u001b[0m in \u001b[0;36m_execute_clauseelement\u001b[0;34m(self, elem, multiparams, params)\u001b[0m\n\u001b[1;32m   1008\u001b[0m             \u001b[0mcompiled_sql\u001b[0m\u001b[0;34m,\u001b[0m\u001b[0;34m\u001b[0m\u001b[0m\n\u001b[1;32m   1009\u001b[0m             \u001b[0mdistilled_params\u001b[0m\u001b[0;34m,\u001b[0m\u001b[0;34m\u001b[0m\u001b[0m\n\u001b[0;32m-> 1010\u001b[0;31m             \u001b[0mcompiled_sql\u001b[0m\u001b[0;34m,\u001b[0m \u001b[0mdistilled_params\u001b[0m\u001b[0;34m\u001b[0m\u001b[0m\n\u001b[0m\u001b[1;32m   1011\u001b[0m         )\n\u001b[1;32m   1012\u001b[0m         \u001b[0;32mif\u001b[0m \u001b[0mself\u001b[0m\u001b[0;34m.\u001b[0m\u001b[0m_has_events\u001b[0m \u001b[0;32mor\u001b[0m \u001b[0mself\u001b[0m\u001b[0;34m.\u001b[0m\u001b[0mengine\u001b[0m\u001b[0;34m.\u001b[0m\u001b[0m_has_events\u001b[0m\u001b[0;34m:\u001b[0m\u001b[0;34m\u001b[0m\u001b[0m\n",
      "\u001b[0;32m/opt/conda/lib/python3.5/site-packages/sqlalchemy/engine/base.py\u001b[0m in \u001b[0;36m_execute_context\u001b[0;34m(self, dialect, constructor, statement, parameters, *args)\u001b[0m\n\u001b[1;32m   1144\u001b[0m                 \u001b[0mparameters\u001b[0m\u001b[0;34m,\u001b[0m\u001b[0;34m\u001b[0m\u001b[0m\n\u001b[1;32m   1145\u001b[0m                 \u001b[0mcursor\u001b[0m\u001b[0;34m,\u001b[0m\u001b[0;34m\u001b[0m\u001b[0m\n\u001b[0;32m-> 1146\u001b[0;31m                 context)\n\u001b[0m\u001b[1;32m   1147\u001b[0m \u001b[0;34m\u001b[0m\u001b[0m\n\u001b[1;32m   1148\u001b[0m         \u001b[0;32mif\u001b[0m \u001b[0mself\u001b[0m\u001b[0;34m.\u001b[0m\u001b[0m_has_events\u001b[0m \u001b[0;32mor\u001b[0m \u001b[0mself\u001b[0m\u001b[0;34m.\u001b[0m\u001b[0mengine\u001b[0m\u001b[0;34m.\u001b[0m\u001b[0m_has_events\u001b[0m\u001b[0;34m:\u001b[0m\u001b[0;34m\u001b[0m\u001b[0m\n",
      "\u001b[0;32m/opt/conda/lib/python3.5/site-packages/sqlalchemy/engine/base.py\u001b[0m in \u001b[0;36m_handle_dbapi_exception\u001b[0;34m(self, e, statement, parameters, cursor, context)\u001b[0m\n\u001b[1;32m   1339\u001b[0m                 util.raise_from_cause(\n\u001b[1;32m   1340\u001b[0m                     \u001b[0msqlalchemy_exception\u001b[0m\u001b[0;34m,\u001b[0m\u001b[0;34m\u001b[0m\u001b[0m\n\u001b[0;32m-> 1341\u001b[0;31m                     \u001b[0mexc_info\u001b[0m\u001b[0;34m\u001b[0m\u001b[0m\n\u001b[0m\u001b[1;32m   1342\u001b[0m                 )\n\u001b[1;32m   1343\u001b[0m             \u001b[0;32melse\u001b[0m\u001b[0;34m:\u001b[0m\u001b[0;34m\u001b[0m\u001b[0m\n",
      "\u001b[0;32m/opt/conda/lib/python3.5/site-packages/sqlalchemy/util/compat.py\u001b[0m in \u001b[0;36mraise_from_cause\u001b[0;34m(exception, exc_info)\u001b[0m\n\u001b[1;32m    200\u001b[0m     \u001b[0mexc_type\u001b[0m\u001b[0;34m,\u001b[0m \u001b[0mexc_value\u001b[0m\u001b[0;34m,\u001b[0m \u001b[0mexc_tb\u001b[0m \u001b[0;34m=\u001b[0m \u001b[0mexc_info\u001b[0m\u001b[0;34m\u001b[0m\u001b[0m\n\u001b[1;32m    201\u001b[0m     \u001b[0mcause\u001b[0m \u001b[0;34m=\u001b[0m \u001b[0mexc_value\u001b[0m \u001b[0;32mif\u001b[0m \u001b[0mexc_value\u001b[0m \u001b[0;32mis\u001b[0m \u001b[0;32mnot\u001b[0m \u001b[0mexception\u001b[0m \u001b[0;32melse\u001b[0m \u001b[0;32mNone\u001b[0m\u001b[0;34m\u001b[0m\u001b[0m\n\u001b[0;32m--> 202\u001b[0;31m     \u001b[0mreraise\u001b[0m\u001b[0;34m(\u001b[0m\u001b[0mtype\u001b[0m\u001b[0;34m(\u001b[0m\u001b[0mexception\u001b[0m\u001b[0;34m)\u001b[0m\u001b[0;34m,\u001b[0m \u001b[0mexception\u001b[0m\u001b[0;34m,\u001b[0m \u001b[0mtb\u001b[0m\u001b[0;34m=\u001b[0m\u001b[0mexc_tb\u001b[0m\u001b[0;34m,\u001b[0m \u001b[0mcause\u001b[0m\u001b[0;34m=\u001b[0m\u001b[0mcause\u001b[0m\u001b[0;34m)\u001b[0m\u001b[0;34m\u001b[0m\u001b[0m\n\u001b[0m\u001b[1;32m    203\u001b[0m \u001b[0;34m\u001b[0m\u001b[0m\n\u001b[1;32m    204\u001b[0m \u001b[0;32mif\u001b[0m \u001b[0mpy3k\u001b[0m\u001b[0;34m:\u001b[0m\u001b[0;34m\u001b[0m\u001b[0m\n",
      "\u001b[0;32m/opt/conda/lib/python3.5/site-packages/sqlalchemy/util/compat.py\u001b[0m in \u001b[0;36mreraise\u001b[0;34m(tp, value, tb, cause)\u001b[0m\n\u001b[1;32m    183\u001b[0m             \u001b[0mvalue\u001b[0m\u001b[0;34m.\u001b[0m\u001b[0m__cause__\u001b[0m \u001b[0;34m=\u001b[0m \u001b[0mcause\u001b[0m\u001b[0;34m\u001b[0m\u001b[0m\n\u001b[1;32m    184\u001b[0m         \u001b[0;32mif\u001b[0m \u001b[0mvalue\u001b[0m\u001b[0;34m.\u001b[0m\u001b[0m__traceback__\u001b[0m \u001b[0;32mis\u001b[0m \u001b[0;32mnot\u001b[0m \u001b[0mtb\u001b[0m\u001b[0;34m:\u001b[0m\u001b[0;34m\u001b[0m\u001b[0m\n\u001b[0;32m--> 185\u001b[0;31m             \u001b[0;32mraise\u001b[0m \u001b[0mvalue\u001b[0m\u001b[0;34m.\u001b[0m\u001b[0mwith_traceback\u001b[0m\u001b[0;34m(\u001b[0m\u001b[0mtb\u001b[0m\u001b[0;34m)\u001b[0m\u001b[0;34m\u001b[0m\u001b[0m\n\u001b[0m\u001b[1;32m    186\u001b[0m         \u001b[0;32mraise\u001b[0m \u001b[0mvalue\u001b[0m\u001b[0;34m\u001b[0m\u001b[0m\n\u001b[1;32m    187\u001b[0m \u001b[0;34m\u001b[0m\u001b[0m\n",
      "\u001b[0;32m/opt/conda/lib/python3.5/site-packages/sqlalchemy/engine/base.py\u001b[0m in \u001b[0;36m_execute_context\u001b[0;34m(self, dialect, constructor, statement, parameters, *args)\u001b[0m\n\u001b[1;32m   1137\u001b[0m                         \u001b[0mstatement\u001b[0m\u001b[0;34m,\u001b[0m\u001b[0;34m\u001b[0m\u001b[0m\n\u001b[1;32m   1138\u001b[0m                         \u001b[0mparameters\u001b[0m\u001b[0;34m,\u001b[0m\u001b[0;34m\u001b[0m\u001b[0m\n\u001b[0;32m-> 1139\u001b[0;31m                         context)\n\u001b[0m\u001b[1;32m   1140\u001b[0m         \u001b[0;32mexcept\u001b[0m \u001b[0mException\u001b[0m \u001b[0;32mas\u001b[0m \u001b[0me\u001b[0m\u001b[0;34m:\u001b[0m\u001b[0;34m\u001b[0m\u001b[0m\n\u001b[1;32m   1141\u001b[0m             self._handle_dbapi_exception(\n",
      "\u001b[0;32m/opt/conda/lib/python3.5/site-packages/sqlalchemy/engine/default.py\u001b[0m in \u001b[0;36mdo_execute\u001b[0;34m(self, cursor, statement, parameters, context)\u001b[0m\n\u001b[1;32m    448\u001b[0m \u001b[0;34m\u001b[0m\u001b[0m\n\u001b[1;32m    449\u001b[0m     \u001b[0;32mdef\u001b[0m \u001b[0mdo_execute\u001b[0m\u001b[0;34m(\u001b[0m\u001b[0mself\u001b[0m\u001b[0;34m,\u001b[0m \u001b[0mcursor\u001b[0m\u001b[0;34m,\u001b[0m \u001b[0mstatement\u001b[0m\u001b[0;34m,\u001b[0m \u001b[0mparameters\u001b[0m\u001b[0;34m,\u001b[0m \u001b[0mcontext\u001b[0m\u001b[0;34m=\u001b[0m\u001b[0;32mNone\u001b[0m\u001b[0;34m)\u001b[0m\u001b[0;34m:\u001b[0m\u001b[0;34m\u001b[0m\u001b[0m\n\u001b[0;32m--> 450\u001b[0;31m         \u001b[0mcursor\u001b[0m\u001b[0;34m.\u001b[0m\u001b[0mexecute\u001b[0m\u001b[0;34m(\u001b[0m\u001b[0mstatement\u001b[0m\u001b[0;34m,\u001b[0m \u001b[0mparameters\u001b[0m\u001b[0;34m)\u001b[0m\u001b[0;34m\u001b[0m\u001b[0m\n\u001b[0m\u001b[1;32m    451\u001b[0m \u001b[0;34m\u001b[0m\u001b[0m\n\u001b[1;32m    452\u001b[0m     \u001b[0;32mdef\u001b[0m \u001b[0mdo_execute_no_params\u001b[0m\u001b[0;34m(\u001b[0m\u001b[0mself\u001b[0m\u001b[0;34m,\u001b[0m \u001b[0mcursor\u001b[0m\u001b[0;34m,\u001b[0m \u001b[0mstatement\u001b[0m\u001b[0;34m,\u001b[0m \u001b[0mcontext\u001b[0m\u001b[0;34m=\u001b[0m\u001b[0;32mNone\u001b[0m\u001b[0;34m)\u001b[0m\u001b[0;34m:\u001b[0m\u001b[0;34m\u001b[0m\u001b[0m\n",
      "\u001b[0;31mIntegrityError\u001b[0m: (psycopg2.IntegrityError) duplicate key value violates unique constraint \"citation_pkey\"\nDETAIL:  Key (citation)=(90668410) already exists.\nCONTEXT:  COPY citation, line 152066\n [SQL: 'COPY citation FROM \\'/home/jovyan/work/clean_data.csv\\'\\nCSV\\nHEADER\\nQUOTE \\'\"\\'\\nDELIMITER \\',\\';']"
     ]
    }
   ],
   "source": [
    "%%sql\n",
    "COPY citation FROM '/home/jovyan/work/clean_data.csv'\n",
    "CSV\n",
    "HEADER\n",
    "QUOTE '\"'\n",
    "DELIMITER ',';"
   ]
  },
  {
   "cell_type": "code",
   "execution_count": 20,
   "metadata": {
    "collapsed": false
   },
   "outputs": [
    {
     "data": {
      "text/html": [
       "<div>\n",
       "<table border=\"1\" class=\"dataframe\">\n",
       "  <thead>\n",
       "    <tr style=\"text-align: right;\">\n",
       "      <th></th>\n",
       "      <th>ViolDate</th>\n",
       "      <th>Citation</th>\n",
       "      <th>Tag</th>\n",
       "      <th>ExpMM</th>\n",
       "      <th>ExpYY</th>\n",
       "      <th>State</th>\n",
       "      <th>Make</th>\n",
       "      <th>Address</th>\n",
       "      <th>ViolCode</th>\n",
       "      <th>Description</th>\n",
       "      <th>ViolFine</th>\n",
       "      <th>Balance</th>\n",
       "      <th>PenaltyDate</th>\n",
       "      <th>OpenFine</th>\n",
       "      <th>OpenPenalty</th>\n",
       "      <th>NoticeDate</th>\n",
       "      <th>ImportDate</th>\n",
       "      <th>Neighborhood</th>\n",
       "      <th>PoliceDistrict</th>\n",
       "      <th>CouncilDistrict</th>\n",
       "      <th>Location</th>\n",
       "      <th>Latitude</th>\n",
       "      <th>Longitude</th>\n",
       "    </tr>\n",
       "  </thead>\n",
       "  <tbody>\n",
       "    <tr>\n",
       "      <th>122702</th>\n",
       "      <td>2016-03-31 11:59:00</td>\n",
       "      <td>90668410</td>\n",
       "      <td>HAZ2149</td>\n",
       "      <td>8</td>\n",
       "      <td>17</td>\n",
       "      <td>NY</td>\n",
       "      <td>VOLKS</td>\n",
       "      <td>4500 CHARLES ST</td>\n",
       "      <td>16.0</td>\n",
       "      <td>In Transit Zone/Stop</td>\n",
       "      <td>77.0</td>\n",
       "      <td>77.0</td>\n",
       "      <td>9999-12-31 00:00:00</td>\n",
       "      <td>77.0</td>\n",
       "      <td>0.0</td>\n",
       "      <td>9999-12-31 00:00:00</td>\n",
       "      <td>2016-04-02 11:01:00</td>\n",
       "      <td>unknown</td>\n",
       "      <td>unknown</td>\n",
       "      <td>nan</td>\n",
       "      <td>unknown</td>\n",
       "      <td>NaN</td>\n",
       "      <td>NaN</td>\n",
       "    </tr>\n",
       "    <tr>\n",
       "      <th>152064</th>\n",
       "      <td>2016-03-31 11:59:00</td>\n",
       "      <td>90668410</td>\n",
       "      <td>HAZ2149</td>\n",
       "      <td>8</td>\n",
       "      <td>17</td>\n",
       "      <td>NY</td>\n",
       "      <td>VOLKS</td>\n",
       "      <td>4500 CHARLES ST</td>\n",
       "      <td>16.0</td>\n",
       "      <td>In Transit Zone/Stop</td>\n",
       "      <td>77.0</td>\n",
       "      <td>0.0</td>\n",
       "      <td>9999-12-31 00:00:00</td>\n",
       "      <td>0.0</td>\n",
       "      <td>0.0</td>\n",
       "      <td>9999-12-31 00:00:00</td>\n",
       "      <td>2016-04-21 04:02:00</td>\n",
       "      <td>unknown</td>\n",
       "      <td>unknown</td>\n",
       "      <td>nan</td>\n",
       "      <td>unknown</td>\n",
       "      <td>NaN</td>\n",
       "      <td>NaN</td>\n",
       "    </tr>\n",
       "  </tbody>\n",
       "</table>\n",
       "</div>"
      ],
      "text/plain": [
       "                  ViolDate  Citation      Tag  ExpMM  ExpYY State   Make  \\\n",
       "122702 2016-03-31 11:59:00  90668410  HAZ2149      8     17    NY  VOLKS   \n",
       "152064 2016-03-31 11:59:00  90668410  HAZ2149      8     17    NY  VOLKS   \n",
       "\n",
       "                Address ViolCode           Description  ViolFine  Balance  \\\n",
       "122702  4500 CHARLES ST     16.0  In Transit Zone/Stop      77.0     77.0   \n",
       "152064  4500 CHARLES ST     16.0  In Transit Zone/Stop      77.0      0.0   \n",
       "\n",
       "                PenaltyDate  OpenFine  OpenPenalty           NoticeDate  \\\n",
       "122702  9999-12-31 00:00:00      77.0          0.0  9999-12-31 00:00:00   \n",
       "152064  9999-12-31 00:00:00       0.0          0.0  9999-12-31 00:00:00   \n",
       "\n",
       "                ImportDate Neighborhood PoliceDistrict CouncilDistrict  \\\n",
       "122702 2016-04-02 11:01:00      unknown        unknown             nan   \n",
       "152064 2016-04-21 04:02:00      unknown        unknown             nan   \n",
       "\n",
       "       Location  Latitude  Longitude  \n",
       "122702  unknown       NaN        NaN  \n",
       "152064  unknown       NaN        NaN  "
      ]
     },
     "execution_count": 20,
     "metadata": {},
     "output_type": "execute_result"
    }
   ],
   "source": [
    "df[df.Citation == '90668410']"
   ]
  },
  {
   "cell_type": "code",
   "execution_count": 21,
   "metadata": {
    "collapsed": false
   },
   "outputs": [
    {
     "data": {
      "text/plain": [
       "16"
      ]
     },
     "execution_count": 21,
     "metadata": {},
     "output_type": "execute_result"
    }
   ],
   "source": [
    "df.duplicated(['Citation'], keep=False).sum()"
   ]
  },
  {
   "cell_type": "code",
   "execution_count": 22,
   "metadata": {
    "collapsed": false
   },
   "outputs": [
    {
     "data": {
      "text/html": [
       "<div>\n",
       "<table border=\"1\" class=\"dataframe\">\n",
       "  <thead>\n",
       "    <tr style=\"text-align: right;\">\n",
       "      <th></th>\n",
       "      <th>ViolDate</th>\n",
       "      <th>Citation</th>\n",
       "      <th>Tag</th>\n",
       "      <th>ExpMM</th>\n",
       "      <th>ExpYY</th>\n",
       "      <th>State</th>\n",
       "      <th>Make</th>\n",
       "      <th>Address</th>\n",
       "      <th>ViolCode</th>\n",
       "      <th>Description</th>\n",
       "      <th>ViolFine</th>\n",
       "      <th>Balance</th>\n",
       "      <th>PenaltyDate</th>\n",
       "      <th>OpenFine</th>\n",
       "      <th>OpenPenalty</th>\n",
       "      <th>NoticeDate</th>\n",
       "      <th>ImportDate</th>\n",
       "      <th>Neighborhood</th>\n",
       "      <th>PoliceDistrict</th>\n",
       "      <th>CouncilDistrict</th>\n",
       "      <th>Location</th>\n",
       "      <th>Latitude</th>\n",
       "      <th>Longitude</th>\n",
       "    </tr>\n",
       "  </thead>\n",
       "  <tbody>\n",
       "    <tr>\n",
       "      <th>2336</th>\n",
       "      <td>2016-03-07 04:59:00</td>\n",
       "      <td>872119</td>\n",
       "      <td>6AL4573</td>\n",
       "      <td>11</td>\n",
       "      <td>15</td>\n",
       "      <td>MD</td>\n",
       "      <td>NISS</td>\n",
       "      <td>1110 S POTOMAC ST</td>\n",
       "      <td>22.0</td>\n",
       "      <td>Expired Tags</td>\n",
       "      <td>32.0</td>\n",
       "      <td>32.0</td>\n",
       "      <td>9999-12-31 00:00:00</td>\n",
       "      <td>32.0</td>\n",
       "      <td>0.0</td>\n",
       "      <td>9999-12-31 00:00:00</td>\n",
       "      <td>2016-04-02 11:01:00</td>\n",
       "      <td>unknown</td>\n",
       "      <td>unknown</td>\n",
       "      <td>nan</td>\n",
       "      <td>unknown</td>\n",
       "      <td>NaN</td>\n",
       "      <td>NaN</td>\n",
       "    </tr>\n",
       "    <tr>\n",
       "      <th>2337</th>\n",
       "      <td>2016-03-07 05:26:00</td>\n",
       "      <td>872135</td>\n",
       "      <td>52601M9</td>\n",
       "      <td>2</td>\n",
       "      <td>16</td>\n",
       "      <td>MD</td>\n",
       "      <td>MAZDA</td>\n",
       "      <td>E/S 1000 BLK ROBINSON S</td>\n",
       "      <td>22.0</td>\n",
       "      <td>Expired Tags</td>\n",
       "      <td>32.0</td>\n",
       "      <td>32.0</td>\n",
       "      <td>9999-12-31 00:00:00</td>\n",
       "      <td>32.0</td>\n",
       "      <td>0.0</td>\n",
       "      <td>9999-12-31 00:00:00</td>\n",
       "      <td>2016-04-02 11:01:00</td>\n",
       "      <td>unknown</td>\n",
       "      <td>unknown</td>\n",
       "      <td>nan</td>\n",
       "      <td>unknown</td>\n",
       "      <td>NaN</td>\n",
       "      <td>NaN</td>\n",
       "    </tr>\n",
       "    <tr>\n",
       "      <th>2338</th>\n",
       "      <td>2016-03-07 05:28:00</td>\n",
       "      <td>872143</td>\n",
       "      <td>52601M9</td>\n",
       "      <td>2</td>\n",
       "      <td>16</td>\n",
       "      <td>MD</td>\n",
       "      <td>MAZDA</td>\n",
       "      <td>E/S 1000 S ROBINSON ST</td>\n",
       "      <td>19.0</td>\n",
       "      <td>Exceeding 48 Hours</td>\n",
       "      <td>32.0</td>\n",
       "      <td>32.0</td>\n",
       "      <td>9999-12-31 00:00:00</td>\n",
       "      <td>32.0</td>\n",
       "      <td>0.0</td>\n",
       "      <td>9999-12-31 00:00:00</td>\n",
       "      <td>2016-04-02 11:01:00</td>\n",
       "      <td>unknown</td>\n",
       "      <td>unknown</td>\n",
       "      <td>nan</td>\n",
       "      <td>unknown</td>\n",
       "      <td>NaN</td>\n",
       "      <td>NaN</td>\n",
       "    </tr>\n",
       "    <tr>\n",
       "      <th>2339</th>\n",
       "      <td>2016-03-07 06:48:00</td>\n",
       "      <td>872150</td>\n",
       "      <td>9AV6732</td>\n",
       "      <td>8</td>\n",
       "      <td>15</td>\n",
       "      <td>MD</td>\n",
       "      <td>HOND</td>\n",
       "      <td>1300 S ELLWOOD AV</td>\n",
       "      <td>22.0</td>\n",
       "      <td>Expired Tags</td>\n",
       "      <td>32.0</td>\n",
       "      <td>32.0</td>\n",
       "      <td>9999-12-31 00:00:00</td>\n",
       "      <td>32.0</td>\n",
       "      <td>0.0</td>\n",
       "      <td>9999-12-31 00:00:00</td>\n",
       "      <td>2016-04-02 11:01:00</td>\n",
       "      <td>unknown</td>\n",
       "      <td>unknown</td>\n",
       "      <td>nan</td>\n",
       "      <td>unknown</td>\n",
       "      <td>NaN</td>\n",
       "      <td>NaN</td>\n",
       "    </tr>\n",
       "    <tr>\n",
       "      <th>2340</th>\n",
       "      <td>2016-03-10 08:53:00</td>\n",
       "      <td>872192</td>\n",
       "      <td>49394M4</td>\n",
       "      <td>10</td>\n",
       "      <td>15</td>\n",
       "      <td>MD</td>\n",
       "      <td>JEEP</td>\n",
       "      <td>E/S 3032 ELLIOTT ST</td>\n",
       "      <td>22.0</td>\n",
       "      <td>Expired Tags</td>\n",
       "      <td>32.0</td>\n",
       "      <td>32.0</td>\n",
       "      <td>9999-12-31 00:00:00</td>\n",
       "      <td>32.0</td>\n",
       "      <td>0.0</td>\n",
       "      <td>9999-12-31 00:00:00</td>\n",
       "      <td>2016-04-02 11:01:00</td>\n",
       "      <td>unknown</td>\n",
       "      <td>unknown</td>\n",
       "      <td>nan</td>\n",
       "      <td>unknown</td>\n",
       "      <td>NaN</td>\n",
       "      <td>NaN</td>\n",
       "    </tr>\n",
       "    <tr>\n",
       "      <th>2341</th>\n",
       "      <td>2016-03-11 10:58:00</td>\n",
       "      <td>872226</td>\n",
       "      <td>JKN8018</td>\n",
       "      <td>9</td>\n",
       "      <td>15</td>\n",
       "      <td>PA</td>\n",
       "      <td>FORD</td>\n",
       "      <td>901 POTOMAC ST</td>\n",
       "      <td>22.0</td>\n",
       "      <td>Expired Tags</td>\n",
       "      <td>32.0</td>\n",
       "      <td>32.0</td>\n",
       "      <td>9999-12-31 00:00:00</td>\n",
       "      <td>32.0</td>\n",
       "      <td>0.0</td>\n",
       "      <td>9999-12-31 00:00:00</td>\n",
       "      <td>2016-04-02 11:01:00</td>\n",
       "      <td>unknown</td>\n",
       "      <td>unknown</td>\n",
       "      <td>nan</td>\n",
       "      <td>unknown</td>\n",
       "      <td>NaN</td>\n",
       "      <td>NaN</td>\n",
       "    </tr>\n",
       "    <tr>\n",
       "      <th>5202</th>\n",
       "      <td>2016-03-03 05:50:00</td>\n",
       "      <td>2006716</td>\n",
       "      <td>4CF9258</td>\n",
       "      <td>2</td>\n",
       "      <td>16</td>\n",
       "      <td>MD</td>\n",
       "      <td>HOND</td>\n",
       "      <td>100 ALBEMARLE ST</td>\n",
       "      <td>22.0</td>\n",
       "      <td>Expired Tags</td>\n",
       "      <td>32.0</td>\n",
       "      <td>32.0</td>\n",
       "      <td>9999-12-31 00:00:00</td>\n",
       "      <td>32.0</td>\n",
       "      <td>0.0</td>\n",
       "      <td>9999-12-31 00:00:00</td>\n",
       "      <td>2016-04-02 11:01:00</td>\n",
       "      <td>unknown</td>\n",
       "      <td>unknown</td>\n",
       "      <td>nan</td>\n",
       "      <td>unknown</td>\n",
       "      <td>NaN</td>\n",
       "      <td>NaN</td>\n",
       "    </tr>\n",
       "    <tr>\n",
       "      <th>122702</th>\n",
       "      <td>2016-03-31 11:59:00</td>\n",
       "      <td>90668410</td>\n",
       "      <td>HAZ2149</td>\n",
       "      <td>8</td>\n",
       "      <td>17</td>\n",
       "      <td>NY</td>\n",
       "      <td>VOLKS</td>\n",
       "      <td>4500 CHARLES ST</td>\n",
       "      <td>16.0</td>\n",
       "      <td>In Transit Zone/Stop</td>\n",
       "      <td>77.0</td>\n",
       "      <td>77.0</td>\n",
       "      <td>9999-12-31 00:00:00</td>\n",
       "      <td>77.0</td>\n",
       "      <td>0.0</td>\n",
       "      <td>9999-12-31 00:00:00</td>\n",
       "      <td>2016-04-02 11:01:00</td>\n",
       "      <td>unknown</td>\n",
       "      <td>unknown</td>\n",
       "      <td>nan</td>\n",
       "      <td>unknown</td>\n",
       "      <td>NaN</td>\n",
       "      <td>NaN</td>\n",
       "    </tr>\n",
       "    <tr>\n",
       "      <th>152064</th>\n",
       "      <td>2016-03-31 11:59:00</td>\n",
       "      <td>90668410</td>\n",
       "      <td>HAZ2149</td>\n",
       "      <td>8</td>\n",
       "      <td>17</td>\n",
       "      <td>NY</td>\n",
       "      <td>VOLKS</td>\n",
       "      <td>4500 CHARLES ST</td>\n",
       "      <td>16.0</td>\n",
       "      <td>In Transit Zone/Stop</td>\n",
       "      <td>77.0</td>\n",
       "      <td>0.0</td>\n",
       "      <td>9999-12-31 00:00:00</td>\n",
       "      <td>0.0</td>\n",
       "      <td>0.0</td>\n",
       "      <td>9999-12-31 00:00:00</td>\n",
       "      <td>2016-04-21 04:02:00</td>\n",
       "      <td>unknown</td>\n",
       "      <td>unknown</td>\n",
       "      <td>nan</td>\n",
       "      <td>unknown</td>\n",
       "      <td>NaN</td>\n",
       "      <td>NaN</td>\n",
       "    </tr>\n",
       "    <tr>\n",
       "      <th>161774</th>\n",
       "      <td>2016-03-07 04:59:00</td>\n",
       "      <td>872119</td>\n",
       "      <td>6AL4573</td>\n",
       "      <td>11</td>\n",
       "      <td>17</td>\n",
       "      <td>MD</td>\n",
       "      <td>NISS</td>\n",
       "      <td>1110 S POTOMAC ST</td>\n",
       "      <td>22.0</td>\n",
       "      <td>Expired Tags</td>\n",
       "      <td>32.0</td>\n",
       "      <td>144.0</td>\n",
       "      <td>9999-12-31 00:00:00</td>\n",
       "      <td>32.0</td>\n",
       "      <td>96.0</td>\n",
       "      <td>2016-04-20 00:00:00</td>\n",
       "      <td>2016-10-12 04:02:00</td>\n",
       "      <td>unknown</td>\n",
       "      <td>unknown</td>\n",
       "      <td>nan</td>\n",
       "      <td>unknown</td>\n",
       "      <td>NaN</td>\n",
       "      <td>NaN</td>\n",
       "    </tr>\n",
       "    <tr>\n",
       "      <th>161775</th>\n",
       "      <td>2016-03-07 06:48:00</td>\n",
       "      <td>872150</td>\n",
       "      <td>9AV6732</td>\n",
       "      <td>8</td>\n",
       "      <td>15</td>\n",
       "      <td>MD</td>\n",
       "      <td>HOND</td>\n",
       "      <td>1300 S ELLWOOD AV</td>\n",
       "      <td>22.0</td>\n",
       "      <td>Expired Tags</td>\n",
       "      <td>32.0</td>\n",
       "      <td>144.0</td>\n",
       "      <td>9999-12-31 00:00:00</td>\n",
       "      <td>32.0</td>\n",
       "      <td>96.0</td>\n",
       "      <td>2016-04-20 00:00:00</td>\n",
       "      <td>2016-10-12 04:02:00</td>\n",
       "      <td>unknown</td>\n",
       "      <td>unknown</td>\n",
       "      <td>nan</td>\n",
       "      <td>unknown</td>\n",
       "      <td>NaN</td>\n",
       "      <td>NaN</td>\n",
       "    </tr>\n",
       "    <tr>\n",
       "      <th>161781</th>\n",
       "      <td>2016-03-07 05:26:00</td>\n",
       "      <td>872135</td>\n",
       "      <td>52601M9</td>\n",
       "      <td>2</td>\n",
       "      <td>16</td>\n",
       "      <td>MD</td>\n",
       "      <td>MAZDA</td>\n",
       "      <td>E/S 1000 BLK ROBINSON S</td>\n",
       "      <td>22.0</td>\n",
       "      <td>Expired Tags</td>\n",
       "      <td>32.0</td>\n",
       "      <td>0.0</td>\n",
       "      <td>9999-12-31 00:00:00</td>\n",
       "      <td>0.0</td>\n",
       "      <td>0.0</td>\n",
       "      <td>2016-04-20 00:00:00</td>\n",
       "      <td>2016-05-20 04:02:00</td>\n",
       "      <td>unknown</td>\n",
       "      <td>unknown</td>\n",
       "      <td>nan</td>\n",
       "      <td>unknown</td>\n",
       "      <td>NaN</td>\n",
       "      <td>NaN</td>\n",
       "    </tr>\n",
       "    <tr>\n",
       "      <th>161782</th>\n",
       "      <td>2016-03-07 05:28:00</td>\n",
       "      <td>872143</td>\n",
       "      <td>52601M9</td>\n",
       "      <td>2</td>\n",
       "      <td>16</td>\n",
       "      <td>MD</td>\n",
       "      <td>MAZDA</td>\n",
       "      <td>E/S 1000 S ROBINSON ST</td>\n",
       "      <td>19.0</td>\n",
       "      <td>Exceeding 48 Hours</td>\n",
       "      <td>32.0</td>\n",
       "      <td>0.0</td>\n",
       "      <td>9999-12-31 00:00:00</td>\n",
       "      <td>0.0</td>\n",
       "      <td>0.0</td>\n",
       "      <td>2016-04-20 00:00:00</td>\n",
       "      <td>2016-05-20 04:02:00</td>\n",
       "      <td>unknown</td>\n",
       "      <td>unknown</td>\n",
       "      <td>nan</td>\n",
       "      <td>unknown</td>\n",
       "      <td>NaN</td>\n",
       "      <td>NaN</td>\n",
       "    </tr>\n",
       "    <tr>\n",
       "      <th>161783</th>\n",
       "      <td>2016-03-10 08:53:00</td>\n",
       "      <td>872192</td>\n",
       "      <td>49394M4</td>\n",
       "      <td>10</td>\n",
       "      <td>15</td>\n",
       "      <td>MD</td>\n",
       "      <td>JEEP</td>\n",
       "      <td>E/S 3032 ELLIOTT ST</td>\n",
       "      <td>22.0</td>\n",
       "      <td>Expired Tags</td>\n",
       "      <td>32.0</td>\n",
       "      <td>0.0</td>\n",
       "      <td>9999-12-31 00:00:00</td>\n",
       "      <td>32.0</td>\n",
       "      <td>96.0</td>\n",
       "      <td>2016-04-20 00:00:00</td>\n",
       "      <td>2016-10-12 04:02:00</td>\n",
       "      <td>unknown</td>\n",
       "      <td>unknown</td>\n",
       "      <td>nan</td>\n",
       "      <td>unknown</td>\n",
       "      <td>NaN</td>\n",
       "      <td>NaN</td>\n",
       "    </tr>\n",
       "    <tr>\n",
       "      <th>161784</th>\n",
       "      <td>2016-03-11 10:58:00</td>\n",
       "      <td>872226</td>\n",
       "      <td>JKN8018</td>\n",
       "      <td>9</td>\n",
       "      <td>15</td>\n",
       "      <td>PA</td>\n",
       "      <td>FORD</td>\n",
       "      <td>901 POTOMAC ST</td>\n",
       "      <td>22.0</td>\n",
       "      <td>Expired Tags</td>\n",
       "      <td>32.0</td>\n",
       "      <td>0.0</td>\n",
       "      <td>9999-12-31 00:00:00</td>\n",
       "      <td>32.0</td>\n",
       "      <td>0.0</td>\n",
       "      <td>9999-12-31 00:00:00</td>\n",
       "      <td>2016-04-02 04:01:00</td>\n",
       "      <td>unknown</td>\n",
       "      <td>unknown</td>\n",
       "      <td>nan</td>\n",
       "      <td>unknown</td>\n",
       "      <td>NaN</td>\n",
       "      <td>NaN</td>\n",
       "    </tr>\n",
       "    <tr>\n",
       "      <th>162256</th>\n",
       "      <td>2016-03-03 05:50:00</td>\n",
       "      <td>2006716</td>\n",
       "      <td>4CF9258</td>\n",
       "      <td>2</td>\n",
       "      <td>16</td>\n",
       "      <td>MD</td>\n",
       "      <td>HOND</td>\n",
       "      <td>100 ALBEMARLE ST</td>\n",
       "      <td>22.0</td>\n",
       "      <td>Expired Tags</td>\n",
       "      <td>32.0</td>\n",
       "      <td>0.0</td>\n",
       "      <td>9999-12-31 00:00:00</td>\n",
       "      <td>0.0</td>\n",
       "      <td>0.0</td>\n",
       "      <td>2016-04-20 00:00:00</td>\n",
       "      <td>2016-05-25 04:01:00</td>\n",
       "      <td>unknown</td>\n",
       "      <td>unknown</td>\n",
       "      <td>nan</td>\n",
       "      <td>unknown</td>\n",
       "      <td>NaN</td>\n",
       "      <td>NaN</td>\n",
       "    </tr>\n",
       "  </tbody>\n",
       "</table>\n",
       "</div>"
      ],
      "text/plain": [
       "                  ViolDate  Citation      Tag  ExpMM  ExpYY State   Make  \\\n",
       "2336   2016-03-07 04:59:00    872119  6AL4573     11     15    MD   NISS   \n",
       "2337   2016-03-07 05:26:00    872135  52601M9      2     16    MD  MAZDA   \n",
       "2338   2016-03-07 05:28:00    872143  52601M9      2     16    MD  MAZDA   \n",
       "2339   2016-03-07 06:48:00    872150  9AV6732      8     15    MD   HOND   \n",
       "2340   2016-03-10 08:53:00    872192  49394M4     10     15    MD   JEEP   \n",
       "2341   2016-03-11 10:58:00    872226  JKN8018      9     15    PA   FORD   \n",
       "5202   2016-03-03 05:50:00   2006716  4CF9258      2     16    MD   HOND   \n",
       "122702 2016-03-31 11:59:00  90668410  HAZ2149      8     17    NY  VOLKS   \n",
       "152064 2016-03-31 11:59:00  90668410  HAZ2149      8     17    NY  VOLKS   \n",
       "161774 2016-03-07 04:59:00    872119  6AL4573     11     17    MD   NISS   \n",
       "161775 2016-03-07 06:48:00    872150  9AV6732      8     15    MD   HOND   \n",
       "161781 2016-03-07 05:26:00    872135  52601M9      2     16    MD  MAZDA   \n",
       "161782 2016-03-07 05:28:00    872143  52601M9      2     16    MD  MAZDA   \n",
       "161783 2016-03-10 08:53:00    872192  49394M4     10     15    MD   JEEP   \n",
       "161784 2016-03-11 10:58:00    872226  JKN8018      9     15    PA   FORD   \n",
       "162256 2016-03-03 05:50:00   2006716  4CF9258      2     16    MD   HOND   \n",
       "\n",
       "                        Address ViolCode           Description  ViolFine  \\\n",
       "2336          1110 S POTOMAC ST     22.0          Expired Tags      32.0   \n",
       "2337    E/S 1000 BLK ROBINSON S     22.0          Expired Tags      32.0   \n",
       "2338     E/S 1000 S ROBINSON ST     19.0    Exceeding 48 Hours      32.0   \n",
       "2339          1300 S ELLWOOD AV     22.0          Expired Tags      32.0   \n",
       "2340        E/S 3032 ELLIOTT ST     22.0          Expired Tags      32.0   \n",
       "2341             901 POTOMAC ST     22.0          Expired Tags      32.0   \n",
       "5202           100 ALBEMARLE ST     22.0          Expired Tags      32.0   \n",
       "122702          4500 CHARLES ST     16.0  In Transit Zone/Stop      77.0   \n",
       "152064          4500 CHARLES ST     16.0  In Transit Zone/Stop      77.0   \n",
       "161774        1110 S POTOMAC ST     22.0          Expired Tags      32.0   \n",
       "161775        1300 S ELLWOOD AV     22.0          Expired Tags      32.0   \n",
       "161781  E/S 1000 BLK ROBINSON S     22.0          Expired Tags      32.0   \n",
       "161782   E/S 1000 S ROBINSON ST     19.0    Exceeding 48 Hours      32.0   \n",
       "161783      E/S 3032 ELLIOTT ST     22.0          Expired Tags      32.0   \n",
       "161784           901 POTOMAC ST     22.0          Expired Tags      32.0   \n",
       "162256         100 ALBEMARLE ST     22.0          Expired Tags      32.0   \n",
       "\n",
       "        Balance          PenaltyDate  OpenFine  OpenPenalty  \\\n",
       "2336       32.0  9999-12-31 00:00:00      32.0          0.0   \n",
       "2337       32.0  9999-12-31 00:00:00      32.0          0.0   \n",
       "2338       32.0  9999-12-31 00:00:00      32.0          0.0   \n",
       "2339       32.0  9999-12-31 00:00:00      32.0          0.0   \n",
       "2340       32.0  9999-12-31 00:00:00      32.0          0.0   \n",
       "2341       32.0  9999-12-31 00:00:00      32.0          0.0   \n",
       "5202       32.0  9999-12-31 00:00:00      32.0          0.0   \n",
       "122702     77.0  9999-12-31 00:00:00      77.0          0.0   \n",
       "152064      0.0  9999-12-31 00:00:00       0.0          0.0   \n",
       "161774    144.0  9999-12-31 00:00:00      32.0         96.0   \n",
       "161775    144.0  9999-12-31 00:00:00      32.0         96.0   \n",
       "161781      0.0  9999-12-31 00:00:00       0.0          0.0   \n",
       "161782      0.0  9999-12-31 00:00:00       0.0          0.0   \n",
       "161783      0.0  9999-12-31 00:00:00      32.0         96.0   \n",
       "161784      0.0  9999-12-31 00:00:00      32.0          0.0   \n",
       "162256      0.0  9999-12-31 00:00:00       0.0          0.0   \n",
       "\n",
       "                 NoticeDate          ImportDate Neighborhood PoliceDistrict  \\\n",
       "2336    9999-12-31 00:00:00 2016-04-02 11:01:00      unknown        unknown   \n",
       "2337    9999-12-31 00:00:00 2016-04-02 11:01:00      unknown        unknown   \n",
       "2338    9999-12-31 00:00:00 2016-04-02 11:01:00      unknown        unknown   \n",
       "2339    9999-12-31 00:00:00 2016-04-02 11:01:00      unknown        unknown   \n",
       "2340    9999-12-31 00:00:00 2016-04-02 11:01:00      unknown        unknown   \n",
       "2341    9999-12-31 00:00:00 2016-04-02 11:01:00      unknown        unknown   \n",
       "5202    9999-12-31 00:00:00 2016-04-02 11:01:00      unknown        unknown   \n",
       "122702  9999-12-31 00:00:00 2016-04-02 11:01:00      unknown        unknown   \n",
       "152064  9999-12-31 00:00:00 2016-04-21 04:02:00      unknown        unknown   \n",
       "161774  2016-04-20 00:00:00 2016-10-12 04:02:00      unknown        unknown   \n",
       "161775  2016-04-20 00:00:00 2016-10-12 04:02:00      unknown        unknown   \n",
       "161781  2016-04-20 00:00:00 2016-05-20 04:02:00      unknown        unknown   \n",
       "161782  2016-04-20 00:00:00 2016-05-20 04:02:00      unknown        unknown   \n",
       "161783  2016-04-20 00:00:00 2016-10-12 04:02:00      unknown        unknown   \n",
       "161784  9999-12-31 00:00:00 2016-04-02 04:01:00      unknown        unknown   \n",
       "162256  2016-04-20 00:00:00 2016-05-25 04:01:00      unknown        unknown   \n",
       "\n",
       "       CouncilDistrict Location  Latitude  Longitude  \n",
       "2336               nan  unknown       NaN        NaN  \n",
       "2337               nan  unknown       NaN        NaN  \n",
       "2338               nan  unknown       NaN        NaN  \n",
       "2339               nan  unknown       NaN        NaN  \n",
       "2340               nan  unknown       NaN        NaN  \n",
       "2341               nan  unknown       NaN        NaN  \n",
       "5202               nan  unknown       NaN        NaN  \n",
       "122702             nan  unknown       NaN        NaN  \n",
       "152064             nan  unknown       NaN        NaN  \n",
       "161774             nan  unknown       NaN        NaN  \n",
       "161775             nan  unknown       NaN        NaN  \n",
       "161781             nan  unknown       NaN        NaN  \n",
       "161782             nan  unknown       NaN        NaN  \n",
       "161783             nan  unknown       NaN        NaN  \n",
       "161784             nan  unknown       NaN        NaN  \n",
       "162256             nan  unknown       NaN        NaN  "
      ]
     },
     "execution_count": 22,
     "metadata": {},
     "output_type": "execute_result"
    }
   ],
   "source": [
    "df[df.duplicated(['Citation'], keep=False)]"
   ]
  },
  {
   "cell_type": "code",
   "execution_count": 23,
   "metadata": {
    "collapsed": true
   },
   "outputs": [],
   "source": [
    "df.drop_duplicates(['Citation'], keep='last', inplace=True)"
   ]
  },
  {
   "cell_type": "code",
   "execution_count": 24,
   "metadata": {
    "collapsed": true
   },
   "outputs": [],
   "source": [
    "df.to_csv(\"clean_data.csv\", index=False, header=True)"
   ]
  },
  {
   "cell_type": "code",
   "execution_count": 25,
   "metadata": {
    "collapsed": false
   },
   "outputs": [
    {
     "name": "stdout",
     "output_type": "stream",
     "text": [
      "319680 rows affected.\n"
     ]
    },
    {
     "data": {
      "text/plain": [
       "[]"
      ]
     },
     "execution_count": 25,
     "metadata": {},
     "output_type": "execute_result"
    }
   ],
   "source": [
    "%%sql\n",
    "COPY citation FROM '/home/jovyan/work/clean_data.csv'\n",
    "CSV\n",
    "HEADER\n",
    "QUOTE '\"'\n",
    "DELIMITER ',';"
   ]
  },
  {
   "cell_type": "code",
   "execution_count": 26,
   "metadata": {
    "collapsed": false
   },
   "outputs": [
    {
     "name": "stdout",
     "output_type": "stream",
     "text": [
      "5 rows affected.\n"
     ]
    },
    {
     "data": {
      "text/html": [
       "<table>\n",
       "    <tr>\n",
       "        <th>violdate</th>\n",
       "        <th>citation</th>\n",
       "        <th>tag</th>\n",
       "        <th>expmm</th>\n",
       "        <th>expyy</th>\n",
       "        <th>state</th>\n",
       "        <th>make</th>\n",
       "        <th>address</th>\n",
       "        <th>violcode</th>\n",
       "        <th>description</th>\n",
       "        <th>violfine</th>\n",
       "        <th>balance</th>\n",
       "        <th>penaltydate</th>\n",
       "        <th>openfine</th>\n",
       "        <th>openpenalty</th>\n",
       "        <th>noticedate</th>\n",
       "        <th>importdate</th>\n",
       "        <th>neighborhood</th>\n",
       "        <th>policedistrict</th>\n",
       "        <th>councildistrict</th>\n",
       "        <th>location</th>\n",
       "        <th>latitude</th>\n",
       "        <th>longitude</th>\n",
       "    </tr>\n",
       "    <tr>\n",
       "        <td>2016-07-02 02:27:00</td>\n",
       "        <td>3450277</td>\n",
       "        <td>7BN7407</td>\n",
       "        <td>7</td>\n",
       "        <td>16</td>\n",
       "        <td>MD</td>\n",
       "        <td>SUBA</td>\n",
       "        <td>HOLIDAY</td>\n",
       "        <td>8.0</td>\n",
       "        <td>No Stopping/Standing Tow Away Zone</td>\n",
       "        <td>52.0</td>\n",
       "        <td>0.0</td>\n",
       "        <td>9999-12-31 00:00:00</td>\n",
       "        <td>0.0</td>\n",
       "        <td>0.0</td>\n",
       "        <td>2016-08-03 00:00:00</td>\n",
       "        <td>2016-10-15 04:02:00</td>\n",
       "        <td>unknown</td>\n",
       "        <td>unknown</td>\n",
       "        <td>nan</td>\n",
       "        <td>unknown</td>\n",
       "        <td>None</td>\n",
       "        <td>None</td>\n",
       "    </tr>\n",
       "    <tr>\n",
       "        <td>2016-03-15 10:50:00</td>\n",
       "        <td>96192399</td>\n",
       "        <td>1CA9164</td>\n",
       "        <td>10</td>\n",
       "        <td>15</td>\n",
       "        <td>MD</td>\n",
       "        <td>CADIL</td>\n",
       "        <td>1300 PARK AVE</td>\n",
       "        <td>22.0</td>\n",
       "        <td>Expired Tags</td>\n",
       "        <td>32.0</td>\n",
       "        <td>0.0</td>\n",
       "        <td>9999-12-31 00:00:00</td>\n",
       "        <td>0.0</td>\n",
       "        <td>0.0</td>\n",
       "        <td>2016-04-13 00:00:00</td>\n",
       "        <td>2016-06-07 04:01:00</td>\n",
       "        <td>unknown</td>\n",
       "        <td>unknown</td>\n",
       "        <td>nan</td>\n",
       "        <td>unknown</td>\n",
       "        <td>None</td>\n",
       "        <td>None</td>\n",
       "    </tr>\n",
       "    <tr>\n",
       "        <td>2016-09-14 09:40:00</td>\n",
       "        <td>97915038</td>\n",
       "        <td>2CF8876</td>\n",
       "        <td>4</td>\n",
       "        <td>17</td>\n",
       "        <td>MD</td>\n",
       "        <td>OLDSM</td>\n",
       "        <td>3702 CHESHOLM RD</td>\n",
       "        <td>19.0</td>\n",
       "        <td>Exceeding 48 Hours</td>\n",
       "        <td>32.0</td>\n",
       "        <td>0.0</td>\n",
       "        <td>9999-12-31 00:00:00</td>\n",
       "        <td>32.0</td>\n",
       "        <td>0.0</td>\n",
       "        <td>9999-12-31 00:00:00</td>\n",
       "        <td>2016-09-16 04:02:00</td>\n",
       "        <td>unknown</td>\n",
       "        <td>unknown</td>\n",
       "        <td>nan</td>\n",
       "        <td>unknown</td>\n",
       "        <td>None</td>\n",
       "        <td>None</td>\n",
       "    </tr>\n",
       "    <tr>\n",
       "        <td>2016-07-02 09:49:00</td>\n",
       "        <td>97036785</td>\n",
       "        <td>6ETF80</td>\n",
       "        <td>2</td>\n",
       "        <td>17</td>\n",
       "        <td>MD</td>\n",
       "        <td>LEXUS</td>\n",
       "        <td>400 ST PAUL PL</td>\n",
       "        <td>18.0</td>\n",
       "        <td>All Other Parking Meter Violations</td>\n",
       "        <td>32.0</td>\n",
       "        <td>0.0</td>\n",
       "        <td>9999-12-31 00:00:00</td>\n",
       "        <td>32.0</td>\n",
       "        <td>48.0</td>\n",
       "        <td>2016-07-20 00:00:00</td>\n",
       "        <td>2016-10-12 04:02:00</td>\n",
       "        <td>unknown</td>\n",
       "        <td>unknown</td>\n",
       "        <td>nan</td>\n",
       "        <td>unknown</td>\n",
       "        <td>None</td>\n",
       "        <td>None</td>\n",
       "    </tr>\n",
       "    <tr>\n",
       "        <td>2016-06-15 01:31:00</td>\n",
       "        <td>97059282</td>\n",
       "        <td>GLB4684</td>\n",
       "        <td>11</td>\n",
       "        <td>17</td>\n",
       "        <td>NY</td>\n",
       "        <td>KIA</td>\n",
       "        <td>800 BATTERY AVE</td>\n",
       "        <td>11.0</td>\n",
       "        <td>Residential Parking Permit Only</td>\n",
       "        <td>52.0</td>\n",
       "        <td>0.0</td>\n",
       "        <td>9999-12-31 00:00:00</td>\n",
       "        <td>52.0</td>\n",
       "        <td>0.0</td>\n",
       "        <td>9999-12-31 00:00:00</td>\n",
       "        <td>2016-10-18 04:01:00</td>\n",
       "        <td>unknown</td>\n",
       "        <td>unknown</td>\n",
       "        <td>nan</td>\n",
       "        <td>unknown</td>\n",
       "        <td>None</td>\n",
       "        <td>None</td>\n",
       "    </tr>\n",
       "</table>"
      ],
      "text/plain": [
       "[(datetime.datetime(2016, 7, 2, 2, 27), '3450277', '7BN7407', 7, 16, 'MD', 'SUBA', 'HOLIDAY', '8.0', 'No Stopping/Standing Tow Away Zone', 52.0, 0.0, datetime.datetime(9999, 12, 31, 0, 0), 0.0, 0.0, datetime.datetime(2016, 8, 3, 0, 0), datetime.datetime(2016, 10, 15, 4, 2), 'unknown', 'unknown', 'nan', 'unknown', None, None),\n",
       " (datetime.datetime(2016, 3, 15, 10, 50), '96192399', '1CA9164', 10, 15, 'MD', 'CADIL', '1300 PARK AVE', '22.0', 'Expired Tags', 32.0, 0.0, datetime.datetime(9999, 12, 31, 0, 0), 0.0, 0.0, datetime.datetime(2016, 4, 13, 0, 0), datetime.datetime(2016, 6, 7, 4, 1), 'unknown', 'unknown', 'nan', 'unknown', None, None),\n",
       " (datetime.datetime(2016, 9, 14, 9, 40), '97915038', '2CF8876', 4, 17, 'MD', 'OLDSM', '3702 CHESHOLM RD', '19.0', 'Exceeding 48 Hours', 32.0, 0.0, datetime.datetime(9999, 12, 31, 0, 0), 32.0, 0.0, datetime.datetime(9999, 12, 31, 0, 0), datetime.datetime(2016, 9, 16, 4, 2), 'unknown', 'unknown', 'nan', 'unknown', None, None),\n",
       " (datetime.datetime(2016, 7, 2, 9, 49), '97036785', '6ETF80', 2, 17, 'MD', 'LEXUS', '400 ST PAUL PL', '18.0', 'All Other Parking Meter Violations', 32.0, 0.0, datetime.datetime(9999, 12, 31, 0, 0), 32.0, 48.0, datetime.datetime(2016, 7, 20, 0, 0), datetime.datetime(2016, 10, 12, 4, 2), 'unknown', 'unknown', 'nan', 'unknown', None, None),\n",
       " (datetime.datetime(2016, 6, 15, 1, 31), '97059282', 'GLB4684', 11, 17, 'NY', 'KIA', '800 BATTERY AVE', '11.0', 'Residential Parking Permit Only', 52.0, 0.0, datetime.datetime(9999, 12, 31, 0, 0), 52.0, 0.0, datetime.datetime(9999, 12, 31, 0, 0), datetime.datetime(2016, 10, 18, 4, 1), 'unknown', 'unknown', 'nan', 'unknown', None, None)]"
      ]
     },
     "execution_count": 26,
     "metadata": {},
     "output_type": "execute_result"
    }
   ],
   "source": [
    "%%sql\n",
    "Select *\n",
    "From citation\n",
    "Limit 5;"
   ]
  },
  {
   "cell_type": "code",
   "execution_count": 27,
   "metadata": {
    "collapsed": false
   },
   "outputs": [
    {
     "name": "stderr",
     "output_type": "stream",
     "text": [
      "/opt/conda/lib/python3.5/site-packages/matplotlib/font_manager.py:273: UserWarning: Matplotlib is building the font cache using fc-list. This may take a moment.\n",
      "  warnings.warn('Matplotlib is building the font cache using fc-list. This may take a moment.')\n",
      "/opt/conda/lib/python3.5/site-packages/matplotlib/font_manager.py:273: UserWarning: Matplotlib is building the font cache using fc-list. This may take a moment.\n",
      "  warnings.warn('Matplotlib is building the font cache using fc-list. This may take a moment.')\n"
     ]
    }
   ],
   "source": [
    "%matplotlib inline"
   ]
  },
  {
   "cell_type": "markdown",
   "metadata": {},
   "source": [
    "Explore the top 10 violations that result in the most amount of fine."
   ]
  },
  {
   "cell_type": "code",
   "execution_count": 28,
   "metadata": {
    "collapsed": false
   },
   "outputs": [
    {
     "name": "stdout",
     "output_type": "stream",
     "text": [
      "10 rows affected.\n"
     ]
    },
    {
     "data": {
      "text/html": [
       "<table>\n",
       "    <tr>\n",
       "        <th>description</th>\n",
       "        <th>total_viol_fine</th>\n",
       "    </tr>\n",
       "    <tr>\n",
       "        <td>All Other Parking Meter Violations</td>\n",
       "        <td>3509060.0</td>\n",
       "    </tr>\n",
       "    <tr>\n",
       "        <td>No Stop/Park Street Cleaning</td>\n",
       "        <td>2190500.0</td>\n",
       "    </tr>\n",
       "    <tr>\n",
       "        <td>No Stopping/Standing Tow Away Zone</td>\n",
       "        <td>1762910.0</td>\n",
       "    </tr>\n",
       "    <tr>\n",
       "        <td>Residential Parking Permit Only</td>\n",
       "        <td>1248520.0</td>\n",
       "    </tr>\n",
       "    <tr>\n",
       "        <td>No Stopping/Standing Not Tow-Away Zone</td>\n",
       "        <td>1115780.0</td>\n",
       "    </tr>\n",
       "    <tr>\n",
       "        <td>No Stop/Park Handicap</td>\n",
       "        <td>1031910.0</td>\n",
       "    </tr>\n",
       "    <tr>\n",
       "        <td>Expired Tags</td>\n",
       "        <td>975729.0</td>\n",
       "    </tr>\n",
       "    <tr>\n",
       "        <td>Abandonded Vehicle</td>\n",
       "        <td>569572.0</td>\n",
       "    </tr>\n",
       "    <tr>\n",
       "        <td>In Transit Zone/Stop</td>\n",
       "        <td>444521.0</td>\n",
       "    </tr>\n",
       "    <tr>\n",
       "        <td>Obstruct/Impeding Movement of Pedestrian</td>\n",
       "        <td>419881.0</td>\n",
       "    </tr>\n",
       "</table>"
      ],
      "text/plain": [
       "[('All Other Parking Meter Violations', 3509060.0),\n",
       " ('No Stop/Park Street Cleaning', 2190500.0),\n",
       " ('No Stopping/Standing Tow Away Zone', 1762910.0),\n",
       " ('Residential Parking Permit Only', 1248520.0),\n",
       " ('No Stopping/Standing Not Tow-Away Zone', 1115780.0),\n",
       " ('No Stop/Park Handicap', 1031910.0),\n",
       " ('Expired Tags', 975729.0),\n",
       " ('Abandonded Vehicle', 569572.0),\n",
       " ('In Transit Zone/Stop', 444521.0),\n",
       " ('Obstruct/Impeding Movement of Pedestrian', 419881.0)]"
      ]
     },
     "execution_count": 28,
     "metadata": {},
     "output_type": "execute_result"
    }
   ],
   "source": [
    "%%sql\n",
    "select description, sum(violfine) as Total_Viol_Fine\n",
    "from citation\n",
    "group by description\n",
    "order by Total_Viol_Fine desc limit 10;\n"
   ]
  },
  {
   "cell_type": "code",
   "execution_count": 29,
   "metadata": {
    "collapsed": false
   },
   "outputs": [
    {
     "data": {
      "text/plain": [
       "<Container object of 10 artists>"
      ]
     },
     "execution_count": 29,
     "metadata": {},
     "output_type": "execute_result"
    },
    {
     "data": {
      "image/png": "[encoded data removed]",
      "text/plain": [
       "<matplotlib.figure.Figure at 0x7f7c7855b748>"
      ]
     },
     "metadata": {},
     "output_type": "display_data"
    }
   ],
   "source": [
    "result = _\n",
    "result.bar()"
   ]
  },
  {
   "cell_type": "markdown",
   "metadata": {},
   "source": [
    "Similarly, explore the top 10 violations that have the most total amount of open fine."
   ]
  },
  {
   "cell_type": "code",
   "execution_count": 30,
   "metadata": {
    "collapsed": false
   },
   "outputs": [
    {
     "name": "stdout",
     "output_type": "stream",
     "text": [
      "10 rows affected.\n"
     ]
    },
    {
     "data": {
      "text/html": [
       "<table>\n",
       "    <tr>\n",
       "        <th>description</th>\n",
       "        <th>total_open_fine</th>\n",
       "    </tr>\n",
       "    <tr>\n",
       "        <td>All Other Parking Meter Violations</td>\n",
       "        <td>1337440.0</td>\n",
       "    </tr>\n",
       "    <tr>\n",
       "        <td>No Stop/Park Street Cleaning</td>\n",
       "        <td>1007310.0</td>\n",
       "    </tr>\n",
       "    <tr>\n",
       "        <td>No Stopping/Standing Tow Away Zone</td>\n",
       "        <td>677603.0</td>\n",
       "    </tr>\n",
       "    <tr>\n",
       "        <td>Expired Tags</td>\n",
       "        <td>553392.0</td>\n",
       "    </tr>\n",
       "    <tr>\n",
       "        <td>No Stop/Park Handicap</td>\n",
       "        <td>542735.0</td>\n",
       "    </tr>\n",
       "    <tr>\n",
       "        <td>Residential Parking Permit Only</td>\n",
       "        <td>474128.0</td>\n",
       "    </tr>\n",
       "    <tr>\n",
       "        <td>Abandonded Vehicle</td>\n",
       "        <td>444119.0</td>\n",
       "    </tr>\n",
       "    <tr>\n",
       "        <td>No Stopping/Standing Not Tow-Away Zone</td>\n",
       "        <td>418578.0</td>\n",
       "    </tr>\n",
       "    <tr>\n",
       "        <td>All Other Stopping or Parking Violations</td>\n",
       "        <td>193808.0</td>\n",
       "    </tr>\n",
       "    <tr>\n",
       "        <td>In Transit Zone/Stop</td>\n",
       "        <td>190778.0</td>\n",
       "    </tr>\n",
       "</table>"
      ],
      "text/plain": [
       "[('All Other Parking Meter Violations', 1337440.0),\n",
       " ('No Stop/Park Street Cleaning', 1007310.0),\n",
       " ('No Stopping/Standing Tow Away Zone', 677603.0),\n",
       " ('Expired Tags', 553392.0),\n",
       " ('No Stop/Park Handicap', 542735.0),\n",
       " ('Residential Parking Permit Only', 474128.0),\n",
       " ('Abandonded Vehicle', 444119.0),\n",
       " ('No Stopping/Standing Not Tow-Away Zone', 418578.0),\n",
       " ('All Other Stopping or Parking Violations', 193808.0),\n",
       " ('In Transit Zone/Stop', 190778.0)]"
      ]
     },
     "execution_count": 30,
     "metadata": {},
     "output_type": "execute_result"
    }
   ],
   "source": [
    "%%sql\n",
    "select description, sum(openfine) as Total_Open_Fine\n",
    "from citation\n",
    "group by description\n",
    "order by Total_Open_Fine desc limit 10;"
   ]
  },
  {
   "cell_type": "code",
   "execution_count": 31,
   "metadata": {
    "collapsed": false
   },
   "outputs": [
    {
     "data": {
      "text/plain": [
       "<Container object of 10 artists>"
      ]
     },
     "execution_count": 31,
     "metadata": {},
     "output_type": "execute_result"
    },
    {
     "data": {
      "image/png": "[encoded data removed]",
      "text/plain": [
       "<matplotlib.figure.Figure at 0x7f7c752aaa20>"
      ]
     },
     "metadata": {},
     "output_type": "display_data"
    }
   ],
   "source": [
    "result = _\n",
    "result.bar()"
   ]
  },
  {
   "cell_type": "markdown",
   "metadata": {},
   "source": [
    "Top 10 states that have the most number of violations"
   ]
  },
  {
   "cell_type": "code",
   "execution_count": 32,
   "metadata": {
    "collapsed": false
   },
   "outputs": [
    {
     "name": "stdout",
     "output_type": "stream",
     "text": [
      "10 rows affected.\n"
     ]
    },
    {
     "data": {
      "text/html": [
       "<table>\n",
       "    <tr>\n",
       "        <th>state</th>\n",
       "        <th>total_violations</th>\n",
       "    </tr>\n",
       "    <tr>\n",
       "        <td>MD</td>\n",
       "        <td>268647</td>\n",
       "    </tr>\n",
       "    <tr>\n",
       "        <td>VA</td>\n",
       "        <td>8618</td>\n",
       "    </tr>\n",
       "    <tr>\n",
       "        <td>PA</td>\n",
       "        <td>8519</td>\n",
       "    </tr>\n",
       "    <tr>\n",
       "        <td>NJ</td>\n",
       "        <td>3650</td>\n",
       "    </tr>\n",
       "    <tr>\n",
       "        <td>NY</td>\n",
       "        <td>3448</td>\n",
       "    </tr>\n",
       "    <tr>\n",
       "        <td>FL</td>\n",
       "        <td>2459</td>\n",
       "    </tr>\n",
       "    <tr>\n",
       "        <td>TN</td>\n",
       "        <td>2362</td>\n",
       "    </tr>\n",
       "    <tr>\n",
       "        <td>NC</td>\n",
       "        <td>2171</td>\n",
       "    </tr>\n",
       "    <tr>\n",
       "        <td>DC</td>\n",
       "        <td>2120</td>\n",
       "    </tr>\n",
       "    <tr>\n",
       "        <td>DE</td>\n",
       "        <td>1813</td>\n",
       "    </tr>\n",
       "</table>"
      ],
      "text/plain": [
       "[('MD', 268647),\n",
       " ('VA', 8618),\n",
       " ('PA', 8519),\n",
       " ('NJ', 3650),\n",
       " ('NY', 3448),\n",
       " ('FL', 2459),\n",
       " ('TN', 2362),\n",
       " ('NC', 2171),\n",
       " ('DC', 2120),\n",
       " ('DE', 1813)]"
      ]
     },
     "execution_count": 32,
     "metadata": {},
     "output_type": "execute_result"
    }
   ],
   "source": [
    "%%sql\n",
    "select state, count(violcode) as Total_Violations\n",
    "from citation\n",
    "group by state\n",
    "order by Total_Violations desc limit 10;"
   ]
  },
  {
   "cell_type": "code",
   "execution_count": 33,
   "metadata": {
    "collapsed": false
   },
   "outputs": [
    {
     "data": {
      "text/plain": [
       "<Container object of 10 artists>"
      ]
     },
     "execution_count": 33,
     "metadata": {},
     "output_type": "execute_result"
    },
    {
     "data": {
      "image/png": "[encoded data removed]",
      "text/plain": [
       "<matplotlib.figure.Figure at 0x7f7c75ae0630>"
      ]
     },
     "metadata": {},
     "output_type": "display_data"
    }
   ],
   "source": [
    "result = _\n",
    "result.bar()"
   ]
  },
  {
   "cell_type": "markdown",
   "metadata": {},
   "source": [
    "The state of Maryland seems to have the most number of violations by orders of magnitude. Its total is over 250,000 records while the other states are less than 10,000. The next step is subsetting the data for Maryland specifically to provide further details to reveal the nature of the violations."
   ]
  },
  {
   "cell_type": "code",
   "execution_count": 34,
   "metadata": {
    "collapsed": false
   },
   "outputs": [
    {
     "name": "stdout",
     "output_type": "stream",
     "text": [
      "10 rows affected.\n"
     ]
    },
    {
     "data": {
      "text/html": [
       "<table>\n",
       "    <tr>\n",
       "        <th>description</th>\n",
       "        <th>total_viol_fine</th>\n",
       "    </tr>\n",
       "    <tr>\n",
       "        <td>All Other Parking Meter Violations</td>\n",
       "        <td>2987300.0</td>\n",
       "    </tr>\n",
       "    <tr>\n",
       "        <td>No Stop/Park Street Cleaning</td>\n",
       "        <td>1903510.0</td>\n",
       "    </tr>\n",
       "    <tr>\n",
       "        <td>No Stopping/Standing Tow Away Zone</td>\n",
       "        <td>1477900.0</td>\n",
       "    </tr>\n",
       "    <tr>\n",
       "        <td>Residential Parking Permit Only</td>\n",
       "        <td>992056.0</td>\n",
       "    </tr>\n",
       "    <tr>\n",
       "        <td>No Stopping/Standing Not Tow-Away Zone</td>\n",
       "        <td>935241.0</td>\n",
       "    </tr>\n",
       "    <tr>\n",
       "        <td>No Stop/Park Handicap</td>\n",
       "        <td>906910.0</td>\n",
       "    </tr>\n",
       "    <tr>\n",
       "        <td>Expired Tags</td>\n",
       "        <td>847441.0</td>\n",
       "    </tr>\n",
       "    <tr>\n",
       "        <td>Abandonded Vehicle</td>\n",
       "        <td>477462.0</td>\n",
       "    </tr>\n",
       "    <tr>\n",
       "        <td>In Transit Zone/Stop</td>\n",
       "        <td>367829.0</td>\n",
       "    </tr>\n",
       "    <tr>\n",
       "        <td>Obstruct/Impeding Movement of Pedestrian</td>\n",
       "        <td>357742.0</td>\n",
       "    </tr>\n",
       "</table>"
      ],
      "text/plain": [
       "[('All Other Parking Meter Violations', 2987300.0),\n",
       " ('No Stop/Park Street Cleaning', 1903510.0),\n",
       " ('No Stopping/Standing Tow Away Zone', 1477900.0),\n",
       " ('Residential Parking Permit Only', 992056.0),\n",
       " ('No Stopping/Standing Not Tow-Away Zone', 935241.0),\n",
       " ('No Stop/Park Handicap', 906910.0),\n",
       " ('Expired Tags', 847441.0),\n",
       " ('Abandonded Vehicle', 477462.0),\n",
       " ('In Transit Zone/Stop', 367829.0),\n",
       " ('Obstruct/Impeding Movement of Pedestrian', 357742.0)]"
      ]
     },
     "execution_count": 34,
     "metadata": {},
     "output_type": "execute_result"
    }
   ],
   "source": [
    "%%sql\n",
    "select description, sum(violfine) as Total_Viol_Fine\n",
    "from citation\n",
    "where state = 'MD'\n",
    "group by description\n",
    "order by Total_Viol_Fine desc limit 10\n",
    ";"
   ]
  },
  {
   "cell_type": "code",
   "execution_count": 36,
   "metadata": {
    "collapsed": false
   },
   "outputs": [
    {
     "name": "stdout",
     "output_type": "stream",
     "text": [
      "10 rows affected.\n"
     ]
    },
    {
     "data": {
      "text/plain": [
       "[]"
      ]
     },
     "execution_count": 36,
     "metadata": {},
     "output_type": "execute_result"
    }
   ],
   "source": [
    "%%sql\n",
    "create table MD as \n",
    "select description, sum(violfine) as Total_Viol_Fine\n",
    "from citation\n",
    "where state = 'MD'\n",
    "group by description\n",
    "order by Total_Viol_Fine desc limit 10\n",
    ";"
   ]
  },
  {
   "cell_type": "code",
   "execution_count": 49,
   "metadata": {
    "collapsed": false
   },
   "outputs": [
    {
     "name": "stdout",
     "output_type": "stream",
     "text": [
      "Done.\n",
      "10 rows affected.\n"
     ]
    },
    {
     "data": {
      "text/plain": [
       "[]"
      ]
     },
     "execution_count": 49,
     "metadata": {},
     "output_type": "execute_result"
    }
   ],
   "source": [
    "%%sql\n",
    "drop table if exists other_states;\n",
    "    create table other_states as \n",
    "    select state, description, sum(violfine) as Total_Viol_Fine\n",
    "    from citation\n",
    "    where state != 'MD'\n",
    "    group by state, description\n",
    "    order by Total_Viol_Fine desc limit 10\n",
    ";"
   ]
  },
  {
   "cell_type": "code",
   "execution_count": 50,
   "metadata": {
    "collapsed": false
   },
   "outputs": [
    {
     "name": "stdout",
     "output_type": "stream",
     "text": [
      "10 rows affected.\n"
     ]
    },
    {
     "data": {
      "text/html": [
       "<table>\n",
       "    <tr>\n",
       "        <th>state</th>\n",
       "        <th>description</th>\n",
       "        <th>total_viol_fine</th>\n",
       "    </tr>\n",
       "    <tr>\n",
       "        <td>VA</td>\n",
       "        <td>All Other Parking Meter Violations</td>\n",
       "        <td>104896.0</td>\n",
       "    </tr>\n",
       "    <tr>\n",
       "        <td>PA</td>\n",
       "        <td>All Other Parking Meter Violations</td>\n",
       "        <td>88928.0</td>\n",
       "    </tr>\n",
       "    <tr>\n",
       "        <td>PA</td>\n",
       "        <td>No Stop/Park Street Cleaning</td>\n",
       "        <td>48932.0</td>\n",
       "    </tr>\n",
       "    <tr>\n",
       "        <td>VA</td>\n",
       "        <td>No Stop/Park Street Cleaning</td>\n",
       "        <td>48724.0</td>\n",
       "    </tr>\n",
       "    <tr>\n",
       "        <td>VA</td>\n",
       "        <td>No Stopping/Standing Tow Away Zone</td>\n",
       "        <td>47268.0</td>\n",
       "    </tr>\n",
       "    <tr>\n",
       "        <td>PA</td>\n",
       "        <td>No Stopping/Standing Tow Away Zone</td>\n",
       "        <td>45344.0</td>\n",
       "    </tr>\n",
       "    <tr>\n",
       "        <td>PA</td>\n",
       "        <td>Residential Parking Permit Only</td>\n",
       "        <td>43264.0</td>\n",
       "    </tr>\n",
       "    <tr>\n",
       "        <td>NJ</td>\n",
       "        <td>All Other Parking Meter Violations</td>\n",
       "        <td>41248.0</td>\n",
       "    </tr>\n",
       "    <tr>\n",
       "        <td>TN</td>\n",
       "        <td>All Other Stopping or Parking Violations</td>\n",
       "        <td>40320.0</td>\n",
       "    </tr>\n",
       "    <tr>\n",
       "        <td>VA</td>\n",
       "        <td>Residential Parking Permit Only</td>\n",
       "        <td>38584.0</td>\n",
       "    </tr>\n",
       "</table>"
      ],
      "text/plain": [
       "[('VA', 'All Other Parking Meter Violations', 104896.0),\n",
       " ('PA', 'All Other Parking Meter Violations', 88928.0),\n",
       " ('PA', 'No Stop/Park Street Cleaning', 48932.0),\n",
       " ('VA', 'No Stop/Park Street Cleaning', 48724.0),\n",
       " ('VA', 'No Stopping/Standing Tow Away Zone', 47268.0),\n",
       " ('PA', 'No Stopping/Standing Tow Away Zone', 45344.0),\n",
       " ('PA', 'Residential Parking Permit Only', 43264.0),\n",
       " ('NJ', 'All Other Parking Meter Violations', 41248.0),\n",
       " ('TN', 'All Other Stopping or Parking Violations', 40320.0),\n",
       " ('VA', 'Residential Parking Permit Only', 38584.0)]"
      ]
     },
     "execution_count": 50,
     "metadata": {},
     "output_type": "execute_result"
    }
   ],
   "source": [
    "%%sql\n",
    "select *\n",
    "from other_states;"
   ]
  },
  {
   "cell_type": "markdown",
   "metadata": {},
   "source": [
    "The result of the query below shows that Maryland and other states share quite a few common violations because the total of top 10 violations from both tables turn out to be 11. "
   ]
  },
  {
   "cell_type": "code",
   "execution_count": 51,
   "metadata": {
    "collapsed": false
   },
   "outputs": [
    {
     "name": "stdout",
     "output_type": "stream",
     "text": [
      "11 rows affected.\n"
     ]
    },
    {
     "data": {
      "text/html": [
       "<table>\n",
       "    <tr>\n",
       "        <th>description</th>\n",
       "    </tr>\n",
       "    <tr>\n",
       "        <td>All Other Parking Meter Violations</td>\n",
       "    </tr>\n",
       "    <tr>\n",
       "        <td>No Stop/Park Handicap</td>\n",
       "    </tr>\n",
       "    <tr>\n",
       "        <td>No Stopping/Standing Not Tow-Away Zone</td>\n",
       "    </tr>\n",
       "    <tr>\n",
       "        <td>Expired Tags</td>\n",
       "    </tr>\n",
       "    <tr>\n",
       "        <td>Residential Parking Permit Only</td>\n",
       "    </tr>\n",
       "    <tr>\n",
       "        <td>In Transit Zone/Stop</td>\n",
       "    </tr>\n",
       "    <tr>\n",
       "        <td>No Stop/Park Street Cleaning</td>\n",
       "    </tr>\n",
       "    <tr>\n",
       "        <td>Obstruct/Impeding Movement of Pedestrian</td>\n",
       "    </tr>\n",
       "    <tr>\n",
       "        <td>All Other Stopping or Parking Violations</td>\n",
       "    </tr>\n",
       "    <tr>\n",
       "        <td>No Stopping/Standing Tow Away Zone</td>\n",
       "    </tr>\n",
       "    <tr>\n",
       "        <td>Abandonded Vehicle</td>\n",
       "    </tr>\n",
       "</table>"
      ],
      "text/plain": [
       "[('All Other Parking Meter Violations',),\n",
       " ('No Stop/Park Handicap',),\n",
       " ('No Stopping/Standing Not Tow-Away Zone',),\n",
       " ('Expired Tags',),\n",
       " ('Residential Parking Permit Only',),\n",
       " ('In Transit Zone/Stop',),\n",
       " ('No Stop/Park Street Cleaning',),\n",
       " ('Obstruct/Impeding Movement of Pedestrian',),\n",
       " ('All Other Stopping or Parking Violations',),\n",
       " ('No Stopping/Standing Tow Away Zone',),\n",
       " ('Abandonded Vehicle',)]"
      ]
     },
     "execution_count": 51,
     "metadata": {},
     "output_type": "execute_result"
    }
   ],
   "source": [
    "%%sql\n",
    "select description from MD\n",
    "union \n",
    "select description from other_states;"
   ]
  },
  {
   "cell_type": "markdown",
   "metadata": {},
   "source": [
    "To see the different violations that do not occur in one or the other, the following list provdies details."
   ]
  },
  {
   "cell_type": "code",
   "execution_count": 57,
   "metadata": {
    "collapsed": false
   },
   "outputs": [
    {
     "name": "stdout",
     "output_type": "stream",
     "text": [
      "6 rows affected.\n"
     ]
    },
    {
     "data": {
      "text/html": [
       "<table>\n",
       "    <tr>\n",
       "        <th>description</th>\n",
       "    </tr>\n",
       "    <tr>\n",
       "        <td>Obstruct/Impeding Movement of Pedestrian</td>\n",
       "    </tr>\n",
       "    <tr>\n",
       "        <td>No Stop/Park Handicap</td>\n",
       "    </tr>\n",
       "    <tr>\n",
       "        <td>No Stopping/Standing Not Tow-Away Zone</td>\n",
       "    </tr>\n",
       "    <tr>\n",
       "        <td>Expired Tags</td>\n",
       "    </tr>\n",
       "    <tr>\n",
       "        <td>Abandonded Vehicle</td>\n",
       "    </tr>\n",
       "    <tr>\n",
       "        <td>In Transit Zone/Stop</td>\n",
       "    </tr>\n",
       "</table>"
      ],
      "text/plain": [
       "[('Obstruct/Impeding Movement of Pedestrian',),\n",
       " ('No Stop/Park Handicap',),\n",
       " ('No Stopping/Standing Not Tow-Away Zone',),\n",
       " ('Expired Tags',),\n",
       " ('Abandonded Vehicle',),\n",
       " ('In Transit Zone/Stop',)]"
      ]
     },
     "execution_count": 57,
     "metadata": {},
     "output_type": "execute_result"
    }
   ],
   "source": [
    "%%sql\n",
    "SELECT  description from MD\n",
    "except \n",
    "select description from other_states\n",
    ";"
   ]
  },
  {
   "cell_type": "code",
   "execution_count": null,
   "metadata": {
    "collapsed": true
   },
   "outputs": [],
   "source": []
  }
 ],
 "metadata": {
  "anaconda-cloud": {},
  "kernelspec": {
   "display_name": "Python 3",
   "language": "python",
   "name": "python3"
  },
  "language_info": {
   "codemirror_mode": {
    "name": "ipython",
    "version": 3
   },
   "file_extension": ".py",
   "mimetype": "text/x-python",
   "name": "python",
   "nbconvert_exporter": "python",
   "pygments_lexer": "ipython3",
   "version": "3.5.2"
  }
 },
 "nbformat": 4,
 "nbformat_minor": 1
}
